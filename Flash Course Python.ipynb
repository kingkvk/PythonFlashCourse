{
 "cells": [
  {
   "cell_type": "markdown",
   "metadata": {},
   "source": [
    "# Learning Python Basics"
   ]
  },
  {
   "cell_type": "code",
   "execution_count": null,
   "metadata": {},
   "outputs": [],
   "source": [
    "5+10"
   ]
  },
  {
   "cell_type": "code",
   "execution_count": null,
   "metadata": {},
   "outputs": [],
   "source": [
    "int a=10;\n",
    "int b=5;\n",
    "int c=a+b;"
   ]
  },
  {
   "cell_type": "code",
   "execution_count": null,
   "metadata": {},
   "outputs": [],
   "source": [
    "a=10\n",
    "b=5\n",
    "c=a+b"
   ]
  },
  {
   "cell_type": "code",
   "execution_count": null,
   "metadata": {},
   "outputs": [],
   "source": [
    "c"
   ]
  },
  {
   "cell_type": "code",
   "execution_count": null,
   "metadata": {},
   "outputs": [],
   "source": [
    "print(c)"
   ]
  },
  {
   "cell_type": "code",
   "execution_count": null,
   "metadata": {},
   "outputs": [],
   "source": [
    "print('c')"
   ]
  },
  {
   "cell_type": "code",
   "execution_count": null,
   "metadata": {},
   "outputs": [],
   "source": [
    "a=10.00\n",
    "b=5.00\n",
    "c=a+b\n",
    "c"
   ]
  },
  {
   "cell_type": "code",
   "execution_count": null,
   "metadata": {},
   "outputs": [],
   "source": [
    "a=10\n",
    "b=5.00\n",
    "c=a+b\n",
    "c"
   ]
  },
  {
   "cell_type": "code",
   "execution_count": null,
   "metadata": {},
   "outputs": [],
   "source": [
    "a='Robolabs'\n",
    "b=10\n",
    "c=a+b\n",
    "c"
   ]
  },
  {
   "cell_type": "code",
   "execution_count": null,
   "metadata": {},
   "outputs": [],
   "source": [
    "type(a)"
   ]
  },
  {
   "cell_type": "code",
   "execution_count": null,
   "metadata": {},
   "outputs": [],
   "source": [
    "type(b)"
   ]
  },
  {
   "cell_type": "code",
   "execution_count": null,
   "metadata": {},
   "outputs": [],
   "source": [
    "bi=str(b)"
   ]
  },
  {
   "cell_type": "code",
   "execution_count": null,
   "metadata": {},
   "outputs": [],
   "source": [
    "c=a+bi"
   ]
  },
  {
   "cell_type": "code",
   "execution_count": null,
   "metadata": {},
   "outputs": [],
   "source": [
    "c"
   ]
  },
  {
   "cell_type": "code",
   "execution_count": null,
   "metadata": {},
   "outputs": [],
   "source": [
    "a=int(a)"
   ]
  },
  {
   "cell_type": "code",
   "execution_count": null,
   "metadata": {},
   "outputs": [],
   "source": [
    "a=input('Enter the values')"
   ]
  },
  {
   "cell_type": "code",
   "execution_count": null,
   "metadata": {},
   "outputs": [],
   "source": [
    "a=input('Enter A Value')\n",
    "b=input('Enter B Value')\n",
    "c=a+b\n",
    "c"
   ]
  },
  {
   "cell_type": "code",
   "execution_count": null,
   "metadata": {},
   "outputs": [],
   "source": [
    "print(type(a))\n",
    "print(type(b))\n",
    "print(type(c))"
   ]
  },
  {
   "cell_type": "code",
   "execution_count": null,
   "metadata": {},
   "outputs": [],
   "source": [
    "a=int(input('Enter A Value'))\n",
    "b=int(input('Enter B Value'))\n",
    "c=a+b\n",
    "c"
   ]
  },
  {
   "cell_type": "code",
   "execution_count": null,
   "metadata": {},
   "outputs": [],
   "source": [
    "print(type(a))\n",
    "print(type(b))\n",
    "print(type(c))"
   ]
  },
  {
   "cell_type": "code",
   "execution_count": null,
   "metadata": {},
   "outputs": [],
   "source": [
    "1kgoftomato=20"
   ]
  },
  {
   "cell_type": "markdown",
   "metadata": {},
   "source": [
    "# Don't Use Keywords as a Variable"
   ]
  },
  {
   "cell_type": "code",
   "execution_count": null,
   "metadata": {},
   "outputs": [],
   "source": [
    "Tomoto=10\n",
    "tomoto=20"
   ]
  },
  {
   "cell_type": "code",
   "execution_count": null,
   "metadata": {},
   "outputs": [],
   "source": [
    "print(tomoto)"
   ]
  },
  {
   "cell_type": "markdown",
   "metadata": {},
   "source": [
    "# Variables used here are Case Sensitive"
   ]
  },
  {
   "cell_type": "code",
   "execution_count": null,
   "metadata": {},
   "outputs": [],
   "source": [
    "a=x+y"
   ]
  },
  {
   "cell_type": "code",
   "execution_count": null,
   "metadata": {},
   "outputs": [],
   "source": [
    "x=10\n",
    "y=20\n",
    "a=x+y\n",
    "b=x-y\n",
    "print(a,b)"
   ]
  },
  {
   "cell_type": "code",
   "execution_count": null,
   "metadata": {},
   "outputs": [],
   "source": [
    "x='Robolabs'\n",
    "y=10\n",
    "a=x+input('Enter Surname')"
   ]
  },
  {
   "cell_type": "code",
   "execution_count": null,
   "metadata": {},
   "outputs": [],
   "source": [
    "a"
   ]
  },
  {
   "cell_type": "code",
   "execution_count": null,
   "metadata": {},
   "outputs": [],
   "source": [
    "a=10\n",
    "b=5\n",
    "c=a/b\n",
    "type(c)"
   ]
  },
  {
   "cell_type": "code",
   "execution_count": null,
   "metadata": {},
   "outputs": [],
   "source": [
    "print(c)"
   ]
  },
  {
   "cell_type": "code",
   "execution_count": null,
   "metadata": {},
   "outputs": [],
   "source": [
    "c=a//b\n",
    "print(c)"
   ]
  },
  {
   "cell_type": "code",
   "execution_count": null,
   "metadata": {},
   "outputs": [],
   "source": [
    "type(c)"
   ]
  },
  {
   "cell_type": "code",
   "execution_count": null,
   "metadata": {},
   "outputs": [],
   "source": [
    "10*10"
   ]
  },
  {
   "cell_type": "code",
   "execution_count": null,
   "metadata": {},
   "outputs": [],
   "source": [
    "10**10"
   ]
  },
  {
   "cell_type": "code",
   "execution_count": null,
   "metadata": {},
   "outputs": [],
   "source": [
    "10%2"
   ]
  },
  {
   "cell_type": "code",
   "execution_count": null,
   "metadata": {},
   "outputs": [],
   "source": [
    "10^2"
   ]
  },
  {
   "cell_type": "code",
   "execution_count": null,
   "metadata": {},
   "outputs": [],
   "source": [
    "10|1"
   ]
  },
  {
   "cell_type": "code",
   "execution_count": null,
   "metadata": {},
   "outputs": [],
   "source": [
    "10&1"
   ]
  },
  {
   "cell_type": "code",
   "execution_count": null,
   "metadata": {},
   "outputs": [],
   "source": [
    "10&10"
   ]
  },
  {
   "cell_type": "code",
   "execution_count": null,
   "metadata": {},
   "outputs": [],
   "source": [
    "a*10"
   ]
  },
  {
   "cell_type": "code",
   "execution_count": null,
   "metadata": {},
   "outputs": [],
   "source": [
    "del a"
   ]
  },
  {
   "cell_type": "code",
   "execution_count": null,
   "metadata": {},
   "outputs": [],
   "source": [
    "a*10"
   ]
  },
  {
   "cell_type": "code",
   "execution_count": null,
   "metadata": {},
   "outputs": [],
   "source": [
    "'a'*10"
   ]
  },
  {
   "cell_type": "code",
   "execution_count": null,
   "metadata": {},
   "outputs": [],
   "source": [
    "x=10\n",
    "y=20\n",
    "a=x+y\n",
    "b=x-y\n",
    "print(a,b)"
   ]
  },
  {
   "cell_type": "markdown",
   "metadata": {},
   "source": [
    "# Conditonals or Comparison or IF "
   ]
  },
  {
   "cell_type": "code",
   "execution_count": null,
   "metadata": {},
   "outputs": [],
   "source": [
    "# >,<, !, =="
   ]
  },
  {
   "cell_type": "code",
   "execution_count": null,
   "metadata": {},
   "outputs": [],
   "source": [
    "10>5"
   ]
  },
  {
   "cell_type": "code",
   "execution_count": null,
   "metadata": {},
   "outputs": [],
   "source": [
    "5<10"
   ]
  },
  {
   "cell_type": "code",
   "execution_count": null,
   "metadata": {},
   "outputs": [],
   "source": [
    "10>12"
   ]
  },
  {
   "cell_type": "code",
   "execution_count": null,
   "metadata": {},
   "outputs": [],
   "source": [
    "type(10>12)"
   ]
  },
  {
   "cell_type": "code",
   "execution_count": null,
   "metadata": {},
   "outputs": [],
   "source": [
    "a==10"
   ]
  },
  {
   "cell_type": "code",
   "execution_count": null,
   "metadata": {},
   "outputs": [],
   "source": [
    "a=10"
   ]
  },
  {
   "cell_type": "code",
   "execution_count": null,
   "metadata": {},
   "outputs": [],
   "source": [
    "a=10\n",
    "b=5"
   ]
  },
  {
   "cell_type": "code",
   "execution_count": null,
   "metadata": {},
   "outputs": [],
   "source": [
    "a>b # this is a conditional Statement"
   ]
  },
  {
   "cell_type": "code",
   "execution_count": null,
   "metadata": {},
   "outputs": [],
   "source": [
    "a!=5"
   ]
  },
  {
   "cell_type": "code",
   "execution_count": null,
   "metadata": {},
   "outputs": [],
   "source": [
    "a==10"
   ]
  },
  {
   "cell_type": "code",
   "execution_count": null,
   "metadata": {},
   "outputs": [],
   "source": [
    "a!=10"
   ]
  },
  {
   "cell_type": "code",
   "execution_count": null,
   "metadata": {},
   "outputs": [],
   "source": [
    "f=a>b"
   ]
  },
  {
   "cell_type": "code",
   "execution_count": null,
   "metadata": {},
   "outputs": [],
   "source": [
    "print(f)"
   ]
  },
  {
   "cell_type": "code",
   "execution_count": null,
   "metadata": {},
   "outputs": [],
   "source": [
    "type(f)"
   ]
  },
  {
   "cell_type": "code",
   "execution_count": null,
   "metadata": {},
   "outputs": [],
   "source": [
    "int(f)"
   ]
  },
  {
   "cell_type": "code",
   "execution_count": null,
   "metadata": {},
   "outputs": [],
   "source": [
    "f=a<b\n",
    "print(f)\n",
    "int(f)"
   ]
  },
  {
   "cell_type": "markdown",
   "metadata": {},
   "source": [
    "# if Statements"
   ]
  },
  {
   "cell_type": "code",
   "execution_count": null,
   "metadata": {},
   "outputs": [],
   "source": [
    "if condition:\n",
    "    print('Im in If')    "
   ]
  },
  {
   "cell_type": "code",
   "execution_count": null,
   "metadata": {},
   "outputs": [],
   "source": [
    "condition=True\n",
    "if condition:\n",
    "    print('Im in If')\n",
    "\n"
   ]
  },
  {
   "cell_type": "code",
   "execution_count": null,
   "metadata": {},
   "outputs": [],
   "source": [
    "condition=False\n",
    "if condition:\n",
    "    print('Im in If')\n",
    "else:\n",
    "    print('Im in Else Part')"
   ]
  },
  {
   "cell_type": "code",
   "execution_count": null,
   "metadata": {},
   "outputs": [],
   "source": [
    "a=10\n",
    "b=20\n",
    "c=30\n",
    "#Find the greatest of the numbers using if else statements\n",
    "\n",
    "if a>b and a>c:\n",
    "    print('A is Greater')  \n",
    "elif b>c and b>a:\n",
    "    print('B is Greater')\n",
    "else:\n",
    "    print('C is Greater')"
   ]
  },
  {
   "cell_type": "code",
   "execution_count": null,
   "metadata": {},
   "outputs": [],
   "source": [
    "a=100\n",
    "\n",
    "if a>0:\n",
    "    if a<10:\n",
    "        print('a is greater than 10')\n",
    "    elif a<50:\n",
    "        print(' A is Greater Than 50')\n",
    "    elif a<90:\n",
    "        print(' A is Greter Than 90')\n",
    "    else:\n",
    "        print(' A is Some Thing Between 100')"
   ]
  },
  {
   "cell_type": "code",
   "execution_count": null,
   "metadata": {},
   "outputs": [],
   "source": [
    "else a=10:\n",
    "    print('Something')"
   ]
  },
  {
   "cell_type": "code",
   "execution_count": null,
   "metadata": {},
   "outputs": [],
   "source": [
    "a=input('Enter Some Value')\n",
    "if type(a)==str:\n",
    "    a=int(a)\n",
    "a=a**2\n",
    "a"
   ]
  },
  {
   "cell_type": "markdown",
   "metadata": {},
   "source": [
    "# Exceptions Handling"
   ]
  },
  {
   "cell_type": "code",
   "execution_count": null,
   "metadata": {},
   "outputs": [],
   "source": [
    "a=input('Enter the Value is Celsius')\n",
    "try:\n",
    "    temp=int(a)\n",
    "    kelvin=temp+273\n",
    "    print(kelvin)\n",
    "except:\n",
    "    print('Please Enter Proper Value')"
   ]
  },
  {
   "cell_type": "code",
   "execution_count": null,
   "metadata": {},
   "outputs": [],
   "source": [
    "while 1:\n",
    "    a=input('Enter the Value is Celsius')\n",
    "    try:\n",
    "        temp=int(a)\n",
    "        kelvin=temp+273\n",
    "        print(kelvin)\n",
    "        break;\n",
    "    except:\n",
    "        print('Please Enter the Values Properly')"
   ]
  },
  {
   "cell_type": "markdown",
   "metadata": {},
   "source": [
    "# Functions"
   ]
  },
  {
   "cell_type": "code",
   "execution_count": null,
   "metadata": {},
   "outputs": [],
   "source": [
    "a=[1,2,3,4,5,6,7,8,9]"
   ]
  },
  {
   "cell_type": "code",
   "execution_count": null,
   "metadata": {},
   "outputs": [],
   "source": [
    "type(a)"
   ]
  },
  {
   "cell_type": "code",
   "execution_count": null,
   "metadata": {},
   "outputs": [],
   "source": [
    "max(a)"
   ]
  },
  {
   "cell_type": "code",
   "execution_count": null,
   "metadata": {},
   "outputs": [],
   "source": [
    "min(a)"
   ]
  },
  {
   "cell_type": "code",
   "execution_count": null,
   "metadata": {},
   "outputs": [],
   "source": [
    "sum(a)"
   ]
  },
  {
   "cell_type": "code",
   "execution_count": null,
   "metadata": {},
   "outputs": [],
   "source": [
    "sum?"
   ]
  },
  {
   "cell_type": "code",
   "execution_count": null,
   "metadata": {},
   "outputs": [],
   "source": [
    "b=['a','s','d','f']"
   ]
  },
  {
   "cell_type": "code",
   "execution_count": null,
   "metadata": {},
   "outputs": [],
   "source": [
    "b.sort()"
   ]
  },
  {
   "cell_type": "code",
   "execution_count": null,
   "metadata": {},
   "outputs": [],
   "source": [
    "b"
   ]
  },
  {
   "cell_type": "code",
   "execution_count": null,
   "metadata": {},
   "outputs": [],
   "source": [
    "dir(b)"
   ]
  },
  {
   "cell_type": "code",
   "execution_count": null,
   "metadata": {},
   "outputs": [],
   "source": [
    "b.append?"
   ]
  },
  {
   "cell_type": "code",
   "execution_count": null,
   "metadata": {},
   "outputs": [],
   "source": [
    "len(b)"
   ]
  },
  {
   "cell_type": "markdown",
   "metadata": {},
   "source": [
    "# User Defined "
   ]
  },
  {
   "cell_type": "code",
   "execution_count": null,
   "metadata": {},
   "outputs": [],
   "source": [
    "def print2(a):\n",
    "    print(a)\n",
    "    print(a)"
   ]
  },
  {
   "cell_type": "code",
   "execution_count": null,
   "metadata": {},
   "outputs": [],
   "source": [
    "print2('Print Me Twice')"
   ]
  },
  {
   "cell_type": "code",
   "execution_count": null,
   "metadata": {},
   "outputs": [],
   "source": [
    "type(print2)"
   ]
  },
  {
   "cell_type": "code",
   "execution_count": null,
   "metadata": {},
   "outputs": [],
   "source": [
    "print2=10\n",
    "print2('Print me Twice')"
   ]
  },
  {
   "cell_type": "code",
   "execution_count": null,
   "metadata": {},
   "outputs": [],
   "source": [
    "type(print2)"
   ]
  },
  {
   "cell_type": "code",
   "execution_count": null,
   "metadata": {},
   "outputs": [],
   "source": [
    "def print4(a):\n",
    "    print2(a)\n",
    "    print2(a)"
   ]
  },
  {
   "cell_type": "code",
   "execution_count": null,
   "metadata": {},
   "outputs": [],
   "source": [
    "print4('hi')"
   ]
  },
  {
   "cell_type": "code",
   "execution_count": null,
   "metadata": {},
   "outputs": [],
   "source": [
    "def flashcourse():\n",
    "    print('Installation Check')\n",
    "    print('Checking installation')"
   ]
  },
  {
   "cell_type": "code",
   "execution_count": null,
   "metadata": {},
   "outputs": [],
   "source": [
    "flashcourse()"
   ]
  },
  {
   "cell_type": "markdown",
   "metadata": {},
   "source": [
    "# Loops or Iterations"
   ]
  },
  {
   "cell_type": "code",
   "execution_count": null,
   "metadata": {},
   "outputs": [],
   "source": [
    "names=['veer','ram','ragu','ravan']"
   ]
  },
  {
   "cell_type": "code",
   "execution_count": null,
   "metadata": {},
   "outputs": [],
   "source": [
    "for x in names:\n",
    "    print(x)"
   ]
  },
  {
   "cell_type": "code",
   "execution_count": null,
   "metadata": {},
   "outputs": [],
   "source": [
    "for name in names:\n",
    "    print(name)"
   ]
  },
  {
   "cell_type": "code",
   "execution_count": null,
   "metadata": {},
   "outputs": [],
   "source": [
    "for i in names:\n",
    "    print(i)"
   ]
  },
  {
   "cell_type": "code",
   "execution_count": null,
   "metadata": {},
   "outputs": [],
   "source": [
    "for x in names:\n",
    "    print(names)"
   ]
  },
  {
   "cell_type": "code",
   "execution_count": null,
   "metadata": {},
   "outputs": [],
   "source": [
    "a=10\n",
    "for x in a:\n",
    "    print(x)"
   ]
  },
  {
   "cell_type": "code",
   "execution_count": null,
   "metadata": {},
   "outputs": [],
   "source": [
    "a='robolabs'\n",
    "for letters in a:\n",
    "    print(letters)"
   ]
  },
  {
   "cell_type": "code",
   "execution_count": null,
   "metadata": {},
   "outputs": [],
   "source": [
    "a='robolabs'\n",
    "len(a)"
   ]
  },
  {
   "cell_type": "code",
   "execution_count": null,
   "metadata": {},
   "outputs": [],
   "source": [
    "for l in range(len(a)):\n",
    "    print(l)\n",
    "    "
   ]
  },
  {
   "cell_type": "code",
   "execution_count": null,
   "metadata": {},
   "outputs": [],
   "source": [
    "while 1:\n",
    "    print('I Eat up Your RAM')\n",
    "    break"
   ]
  },
  {
   "cell_type": "code",
   "execution_count": null,
   "metadata": {},
   "outputs": [],
   "source": [
    "a=10\n",
    "\n",
    "while a>0:\n",
    "    print(a)\n",
    "    a=a-1"
   ]
  },
  {
   "cell_type": "code",
   "execution_count": null,
   "metadata": {},
   "outputs": [],
   "source": [
    "while 1:\n",
    "    a=input('Enter the Value is Celsius')\n",
    "    try:\n",
    "        temp=int(a)\n",
    "        kelvin=temp+273\n",
    "        print(kelvin)\n",
    "        break # Continue Also And Observe the Changes\n",
    "          \n",
    "        print('Im After Continue')\n",
    "    except:\n",
    "        print('Please Enter the Values Properly')"
   ]
  },
  {
   "cell_type": "markdown",
   "metadata": {},
   "source": [
    "# Strings"
   ]
  },
  {
   "cell_type": "code",
   "execution_count": null,
   "metadata": {},
   "outputs": [],
   "source": [
    "a='Robolabs'"
   ]
  },
  {
   "cell_type": "code",
   "execution_count": null,
   "metadata": {},
   "outputs": [],
   "source": [
    "len(a)"
   ]
  },
  {
   "cell_type": "code",
   "execution_count": null,
   "metadata": {},
   "outputs": [],
   "source": [
    "a[:]"
   ]
  },
  {
   "cell_type": "code",
   "execution_count": null,
   "metadata": {},
   "outputs": [],
   "source": [
    "a[1:3]"
   ]
  },
  {
   "cell_type": "code",
   "execution_count": null,
   "metadata": {},
   "outputs": [],
   "source": [
    "a[0]"
   ]
  },
  {
   "cell_type": "code",
   "execution_count": null,
   "metadata": {},
   "outputs": [],
   "source": [
    "a[2]"
   ]
  },
  {
   "cell_type": "code",
   "execution_count": null,
   "metadata": {},
   "outputs": [],
   "source": [
    "for letters in a:\n",
    "    print(letters)"
   ]
  },
  {
   "cell_type": "code",
   "execution_count": null,
   "metadata": {},
   "outputs": [],
   "source": [
    "a[1.5]"
   ]
  },
  {
   "cell_type": "code",
   "execution_count": null,
   "metadata": {},
   "outputs": [],
   "source": [
    "a[1.0]"
   ]
  },
  {
   "cell_type": "code",
   "execution_count": null,
   "metadata": {},
   "outputs": [],
   "source": [
    "a[0]"
   ]
  },
  {
   "cell_type": "code",
   "execution_count": null,
   "metadata": {},
   "outputs": [],
   "source": [
    "a[0]='r'"
   ]
  },
  {
   "cell_type": "code",
   "execution_count": null,
   "metadata": {},
   "outputs": [],
   "source": [
    "x='r'+a[1:]\n",
    "x"
   ]
  },
  {
   "cell_type": "code",
   "execution_count": null,
   "metadata": {},
   "outputs": [],
   "source": [
    "dir(x)"
   ]
  },
  {
   "cell_type": "code",
   "execution_count": null,
   "metadata": {},
   "outputs": [],
   "source": [
    "y=x.capitalize()\n",
    "y"
   ]
  },
  {
   "cell_type": "code",
   "execution_count": null,
   "metadata": {},
   "outputs": [],
   "source": [
    "l=y.lower()\n",
    "l"
   ]
  },
  {
   "cell_type": "code",
   "execution_count": null,
   "metadata": {},
   "outputs": [],
   "source": [
    "u=l.upper()\n",
    "u"
   ]
  },
  {
   "cell_type": "code",
   "execution_count": null,
   "metadata": {},
   "outputs": [],
   "source": [
    "help('str')"
   ]
  },
  {
   "cell_type": "code",
   "execution_count": null,
   "metadata": {},
   "outputs": [],
   "source": [
    "a='Robolabs'"
   ]
  },
  {
   "cell_type": "code",
   "execution_count": null,
   "metadata": {},
   "outputs": [],
   "source": [
    "r=a.replace('R','r')"
   ]
  },
  {
   "cell_type": "code",
   "execution_count": null,
   "metadata": {},
   "outputs": [],
   "source": [
    "print(r)"
   ]
  },
  {
   "cell_type": "code",
   "execution_count": null,
   "metadata": {},
   "outputs": [],
   "source": [
    "mail='robolabsindia@gmail.com'\n",
    "username,domain=mail.split('@')\n",
    "print(username)\n",
    "print(domain)"
   ]
  },
  {
   "cell_type": "code",
   "execution_count": null,
   "metadata": {},
   "outputs": [],
   "source": [
    "message='Python is an interpreted, high-level, general-purpose programming language. Created by Guido van Rossum and first released in 1991, Pythons design philosophy emphasizes code readability with its notable use of significant whitespace'\n",
    "words=message.split()"
   ]
  },
  {
   "cell_type": "code",
   "execution_count": null,
   "metadata": {},
   "outputs": [],
   "source": [
    "for word in words:\n",
    "    print(word)"
   ]
  },
  {
   "cell_type": "code",
   "execution_count": null,
   "metadata": {},
   "outputs": [],
   "source": [
    "len(words)"
   ]
  },
  {
   "cell_type": "markdown",
   "metadata": {},
   "source": [
    "# List"
   ]
  },
  {
   "cell_type": "code",
   "execution_count": null,
   "metadata": {},
   "outputs": [],
   "source": [
    "# list is  a datatype\n"
   ]
  },
  {
   "cell_type": "code",
   "execution_count": null,
   "metadata": {},
   "outputs": [],
   "source": [
    "a=list()"
   ]
  },
  {
   "cell_type": "code",
   "execution_count": null,
   "metadata": {},
   "outputs": [],
   "source": [
    "type(a)"
   ]
  },
  {
   "cell_type": "code",
   "execution_count": null,
   "metadata": {},
   "outputs": [],
   "source": [
    "print(a)"
   ]
  },
  {
   "cell_type": "code",
   "execution_count": null,
   "metadata": {},
   "outputs": [],
   "source": [
    "a.append('Name')"
   ]
  },
  {
   "cell_type": "code",
   "execution_count": null,
   "metadata": {},
   "outputs": [],
   "source": [
    "print(a)"
   ]
  },
  {
   "cell_type": "code",
   "execution_count": null,
   "metadata": {},
   "outputs": [],
   "source": [
    "a.append('Value')"
   ]
  },
  {
   "cell_type": "code",
   "execution_count": null,
   "metadata": {},
   "outputs": [],
   "source": [
    "print(a)"
   ]
  },
  {
   "cell_type": "code",
   "execution_count": null,
   "metadata": {},
   "outputs": [],
   "source": [
    "dir(a)"
   ]
  },
  {
   "cell_type": "code",
   "execution_count": null,
   "metadata": {},
   "outputs": [],
   "source": [
    "a=list()\n",
    "for x in range(10):\n",
    "    a.append(x)"
   ]
  },
  {
   "cell_type": "code",
   "execution_count": null,
   "metadata": {},
   "outputs": [],
   "source": [
    "print(a)"
   ]
  },
  {
   "cell_type": "code",
   "execution_count": null,
   "metadata": {},
   "outputs": [],
   "source": [
    "len(a)"
   ]
  },
  {
   "cell_type": "code",
   "execution_count": null,
   "metadata": {},
   "outputs": [],
   "source": [
    "a[1:]"
   ]
  },
  {
   "cell_type": "code",
   "execution_count": null,
   "metadata": {},
   "outputs": [],
   "source": [
    "a[10]=10"
   ]
  },
  {
   "cell_type": "code",
   "execution_count": null,
   "metadata": {},
   "outputs": [],
   "source": [
    "a[len(a)-1]='Last Element'"
   ]
  },
  {
   "cell_type": "code",
   "execution_count": null,
   "metadata": {},
   "outputs": [],
   "source": [
    "print(a)"
   ]
  },
  {
   "cell_type": "code",
   "execution_count": null,
   "metadata": {},
   "outputs": [],
   "source": [
    "max(a)"
   ]
  },
  {
   "cell_type": "code",
   "execution_count": null,
   "metadata": {},
   "outputs": [],
   "source": [
    "help('list')"
   ]
  },
  {
   "cell_type": "code",
   "execution_count": null,
   "metadata": {},
   "outputs": [],
   "source": [
    "a.pop()"
   ]
  },
  {
   "cell_type": "code",
   "execution_count": null,
   "metadata": {},
   "outputs": [],
   "source": [
    "print(a)"
   ]
  },
  {
   "cell_type": "code",
   "execution_count": null,
   "metadata": {},
   "outputs": [],
   "source": [
    "max(a)"
   ]
  },
  {
   "cell_type": "code",
   "execution_count": null,
   "metadata": {},
   "outputs": [],
   "source": [
    "min(a)"
   ]
  },
  {
   "cell_type": "code",
   "execution_count": null,
   "metadata": {},
   "outputs": [],
   "source": [
    "sum1=0\n",
    "for x in a:\n",
    "    sum1+=x\n",
    "print(sum1)"
   ]
  },
  {
   "cell_type": "code",
   "execution_count": null,
   "metadata": {},
   "outputs": [],
   "source": [
    "a=['a',1,['a','b','c']]"
   ]
  },
  {
   "cell_type": "code",
   "execution_count": null,
   "metadata": {},
   "outputs": [],
   "source": [
    "print(a)"
   ]
  },
  {
   "cell_type": "code",
   "execution_count": null,
   "metadata": {},
   "outputs": [],
   "source": [
    "'a' in a"
   ]
  },
  {
   "cell_type": "code",
   "execution_count": null,
   "metadata": {},
   "outputs": [],
   "source": [
    "1 in a"
   ]
  },
  {
   "cell_type": "code",
   "execution_count": null,
   "metadata": {},
   "outputs": [],
   "source": [
    "'b'in a"
   ]
  },
  {
   "cell_type": "code",
   "execution_count": null,
   "metadata": {},
   "outputs": [],
   "source": [
    "for data in a:\n",
    "    print(type(data))"
   ]
  },
  {
   "cell_type": "code",
   "execution_count": null,
   "metadata": {},
   "outputs": [],
   "source": [
    "import math"
   ]
  },
  {
   "cell_type": "code",
   "execution_count": null,
   "metadata": {},
   "outputs": [],
   "source": [
    "help('math')"
   ]
  },
  {
   "cell_type": "code",
   "execution_count": null,
   "metadata": {},
   "outputs": [],
   "source": [
    "# pow(x, y, /)\n",
    "# Return x**y (x to the power of y)."
   ]
  },
  {
   "cell_type": "code",
   "execution_count": null,
   "metadata": {},
   "outputs": [],
   "source": [
    "pow(2,2)"
   ]
  },
  {
   "cell_type": "code",
   "execution_count": null,
   "metadata": {},
   "outputs": [],
   "source": [
    "sqrt(4)"
   ]
  },
  {
   "cell_type": "code",
   "execution_count": null,
   "metadata": {},
   "outputs": [],
   "source": [
    "math.sqrt(4)"
   ]
  },
  {
   "cell_type": "markdown",
   "metadata": {},
   "source": [
    "# Custom Import"
   ]
  },
  {
   "cell_type": "code",
   "execution_count": null,
   "metadata": {},
   "outputs": [],
   "source": [
    "from areas import *"
   ]
  },
  {
   "cell_type": "code",
   "execution_count": null,
   "metadata": {},
   "outputs": [],
   "source": [
    "rectangle(10,5)"
   ]
  },
  {
   "cell_type": "code",
   "execution_count": null,
   "metadata": {},
   "outputs": [],
   "source": [
    "import pandas as pd"
   ]
  },
  {
   "cell_type": "code",
   "execution_count": null,
   "metadata": {},
   "outputs": [],
   "source": [
    "name=['Roshna','Princy','Santhosh','Divya']\n",
    "age=['20','20','22','24']"
   ]
  },
  {
   "cell_type": "code",
   "execution_count": null,
   "metadata": {},
   "outputs": [],
   "source": [
    "dataset=list(zip(name,age))"
   ]
  },
  {
   "cell_type": "code",
   "execution_count": null,
   "metadata": {},
   "outputs": [],
   "source": [
    "print(dataset)"
   ]
  },
  {
   "cell_type": "code",
   "execution_count": null,
   "metadata": {},
   "outputs": [],
   "source": [
    "type(dataset)"
   ]
  },
  {
   "cell_type": "code",
   "execution_count": null,
   "metadata": {},
   "outputs": [],
   "source": [
    "dataset[0]\n",
    "type(dataset[0])"
   ]
  },
  {
   "cell_type": "code",
   "execution_count": null,
   "metadata": {},
   "outputs": [],
   "source": [
    "help('tuple')"
   ]
  },
  {
   "cell_type": "code",
   "execution_count": null,
   "metadata": {},
   "outputs": [],
   "source": [
    "a=('1',)"
   ]
  },
  {
   "cell_type": "markdown",
   "metadata": {},
   "source": [
    "# Day 2 "
   ]
  },
  {
   "cell_type": "markdown",
   "metadata": {},
   "source": [
    "# Tuple Data type"
   ]
  },
  {
   "cell_type": "code",
   "execution_count": null,
   "metadata": {},
   "outputs": [],
   "source": [
    "a=(1,2)"
   ]
  },
  {
   "cell_type": "code",
   "execution_count": null,
   "metadata": {},
   "outputs": [],
   "source": [
    "type(a)"
   ]
  },
  {
   "cell_type": "code",
   "execution_count": null,
   "metadata": {},
   "outputs": [],
   "source": [
    "help('tuple')"
   ]
  },
  {
   "cell_type": "code",
   "execution_count": null,
   "metadata": {},
   "outputs": [],
   "source": [
    "name='robolabs'"
   ]
  },
  {
   "cell_type": "code",
   "execution_count": null,
   "metadata": {},
   "outputs": [],
   "source": [
    "name=tuple(name)"
   ]
  },
  {
   "cell_type": "code",
   "execution_count": null,
   "metadata": {},
   "outputs": [],
   "source": [
    "type(name)"
   ]
  },
  {
   "cell_type": "code",
   "execution_count": null,
   "metadata": {},
   "outputs": [],
   "source": [
    "print(name)"
   ]
  },
  {
   "cell_type": "code",
   "execution_count": null,
   "metadata": {},
   "outputs": [],
   "source": [
    "for letters in name:\n",
    "    print(letters)"
   ]
  },
  {
   "cell_type": "code",
   "execution_count": null,
   "metadata": {},
   "outputs": [],
   "source": [
    "name[:]"
   ]
  },
  {
   "cell_type": "code",
   "execution_count": null,
   "metadata": {},
   "outputs": [],
   "source": [
    "name[1:]"
   ]
  },
  {
   "cell_type": "code",
   "execution_count": null,
   "metadata": {},
   "outputs": [],
   "source": [
    "name[0]='R'"
   ]
  },
  {
   "cell_type": "code",
   "execution_count": null,
   "metadata": {},
   "outputs": [],
   "source": [
    "nt=('R',)"
   ]
  },
  {
   "cell_type": "code",
   "execution_count": null,
   "metadata": {},
   "outputs": [],
   "source": [
    "nt+name[1:]"
   ]
  },
  {
   "cell_type": "code",
   "execution_count": null,
   "metadata": {},
   "outputs": [],
   "source": [
    "values=(1,2,3,4,5,6,7,8,9,9,9)"
   ]
  },
  {
   "cell_type": "code",
   "execution_count": null,
   "metadata": {},
   "outputs": [],
   "source": [
    "len(values)"
   ]
  },
  {
   "cell_type": "code",
   "execution_count": null,
   "metadata": {},
   "outputs": [],
   "source": [
    "max(values)"
   ]
  },
  {
   "cell_type": "code",
   "execution_count": null,
   "metadata": {},
   "outputs": [],
   "source": [
    "min(values)"
   ]
  },
  {
   "cell_type": "code",
   "execution_count": null,
   "metadata": {},
   "outputs": [],
   "source": [
    "sum(values)"
   ]
  },
  {
   "cell_type": "code",
   "execution_count": null,
   "metadata": {},
   "outputs": [],
   "source": [
    " 9 in values"
   ]
  },
  {
   "cell_type": "code",
   "execution_count": null,
   "metadata": {},
   "outputs": [],
   "source": [
    "values[0]=1+10"
   ]
  },
  {
   "cell_type": "code",
   "execution_count": null,
   "metadata": {},
   "outputs": [],
   "source": [
    "x=2*values"
   ]
  },
  {
   "cell_type": "code",
   "execution_count": null,
   "metadata": {},
   "outputs": [],
   "source": [
    "print(x)"
   ]
  },
  {
   "cell_type": "code",
   "execution_count": null,
   "metadata": {},
   "outputs": [],
   "source": [
    "len(x)"
   ]
  },
  {
   "cell_type": "markdown",
   "metadata": {},
   "source": [
    "# Dictionary"
   ]
  },
  {
   "cell_type": "code",
   "execution_count": null,
   "metadata": {},
   "outputs": [],
   "source": [
    "a=dict()"
   ]
  },
  {
   "cell_type": "code",
   "execution_count": null,
   "metadata": {},
   "outputs": [],
   "source": [
    "print(a)"
   ]
  },
  {
   "cell_type": "code",
   "execution_count": null,
   "metadata": {},
   "outputs": [],
   "source": [
    "a={1,2,3,4,5,6,1}"
   ]
  },
  {
   "cell_type": "code",
   "execution_count": null,
   "metadata": {},
   "outputs": [],
   "source": [
    "print(a)"
   ]
  },
  {
   "cell_type": "code",
   "execution_count": null,
   "metadata": {},
   "outputs": [],
   "source": [
    "type(a)"
   ]
  },
  {
   "cell_type": "code",
   "execution_count": null,
   "metadata": {},
   "outputs": [],
   "source": [
    "help('set')"
   ]
  },
  {
   "cell_type": "code",
   "execution_count": null,
   "metadata": {},
   "outputs": [],
   "source": [
    "a=dict()"
   ]
  },
  {
   "cell_type": "code",
   "execution_count": null,
   "metadata": {},
   "outputs": [],
   "source": [
    "a['1']='one'"
   ]
  },
  {
   "cell_type": "code",
   "execution_count": null,
   "metadata": {},
   "outputs": [],
   "source": [
    "print(a)"
   ]
  },
  {
   "cell_type": "code",
   "execution_count": null,
   "metadata": {},
   "outputs": [],
   "source": [
    "a={'2':'two','3':'three','4':'four'}"
   ]
  },
  {
   "cell_type": "code",
   "execution_count": null,
   "metadata": {},
   "outputs": [],
   "source": [
    "print(a)"
   ]
  },
  {
   "cell_type": "code",
   "execution_count": null,
   "metadata": {},
   "outputs": [],
   "source": [
    "help('dict')"
   ]
  },
  {
   "cell_type": "code",
   "execution_count": null,
   "metadata": {},
   "outputs": [],
   "source": [
    "a.keys()"
   ]
  },
  {
   "cell_type": "code",
   "execution_count": null,
   "metadata": {},
   "outputs": [],
   "source": [
    "a.values()"
   ]
  },
  {
   "cell_type": "code",
   "execution_count": null,
   "metadata": {},
   "outputs": [],
   "source": [
    "for key,value in a:\n",
    "    print(key,value)"
   ]
  },
  {
   "cell_type": "code",
   "execution_count": null,
   "metadata": {},
   "outputs": [],
   "source": [
    "for key in a.keys():\n",
    "    print(key)"
   ]
  },
  {
   "cell_type": "code",
   "execution_count": null,
   "metadata": {},
   "outputs": [],
   "source": [
    "a={1,2,3,4,5}\n",
    "b={6,7,8,9,10}\n",
    "c=dict()"
   ]
  },
  {
   "cell_type": "code",
   "execution_count": null,
   "metadata": {},
   "outputs": [],
   "source": [
    "for key,value in zip(a,b):\n",
    "    c[key]=value"
   ]
  },
  {
   "cell_type": "code",
   "execution_count": null,
   "metadata": {},
   "outputs": [],
   "source": [
    "print(c)"
   ]
  },
  {
   "cell_type": "code",
   "execution_count": null,
   "metadata": {},
   "outputs": [],
   "source": [
    "type(c)"
   ]
  },
  {
   "cell_type": "code",
   "execution_count": null,
   "metadata": {},
   "outputs": [],
   "source": [
    "a='tenet'\n",
    "count=0\n",
    "for letter in a:\n",
    "    if letter=='o':\n",
    "        count+=1\n",
    "print(count)"
   ]
  },
  {
   "cell_type": "code",
   "execution_count": null,
   "metadata": {},
   "outputs": [],
   "source": [
    "d={}\n",
    "for letter in a:\n",
    "    if letter not in d:\n",
    "        d[letter]=1\n",
    "    else:\n",
    "        d[letter]=d[letter]+1\n",
    "print(d)"
   ]
  },
  {
   "cell_type": "code",
   "execution_count": null,
   "metadata": {},
   "outputs": [],
   "source": [
    "len(d)"
   ]
  },
  {
   "cell_type": "code",
   "execution_count": null,
   "metadata": {},
   "outputs": [],
   "source": [
    "help('dict')"
   ]
  },
  {
   "cell_type": "code",
   "execution_count": null,
   "metadata": {},
   "outputs": [],
   "source": [
    "x=d.items()"
   ]
  },
  {
   "cell_type": "code",
   "execution_count": null,
   "metadata": {},
   "outputs": [],
   "source": [
    "print(x)"
   ]
  },
  {
   "cell_type": "code",
   "execution_count": null,
   "metadata": {},
   "outputs": [],
   "source": [
    "for t in d.items():\n",
    "    print(t)\n",
    "    print(type(t))"
   ]
  },
  {
   "cell_type": "markdown",
   "metadata": {},
   "source": [
    "# Mathematical Part"
   ]
  },
  {
   "cell_type": "code",
   "execution_count": null,
   "metadata": {},
   "outputs": [],
   "source": [
    "range?"
   ]
  },
  {
   "cell_type": "code",
   "execution_count": null,
   "metadata": {},
   "outputs": [],
   "source": [
    "range(1,100)"
   ]
  },
  {
   "cell_type": "code",
   "execution_count": null,
   "metadata": {},
   "outputs": [],
   "source": [
    "for x in range(1,100,2):\n",
    "    a=x"
   ]
  },
  {
   "cell_type": "code",
   "execution_count": null,
   "metadata": {},
   "outputs": [],
   "source": [
    "a=[]\n",
    "for x in range(100):\n",
    "    a.append(float(x))\n",
    "print(a)"
   ]
  },
  {
   "cell_type": "code",
   "execution_count": null,
   "metadata": {},
   "outputs": [],
   "source": [
    "b=[]\n",
    "for i in a:\n",
    "    b.append(3*i)\n",
    "print(b)\n",
    "    "
   ]
  },
  {
   "cell_type": "code",
   "execution_count": null,
   "metadata": {},
   "outputs": [],
   "source": [
    "type(a)"
   ]
  },
  {
   "cell_type": "code",
   "execution_count": null,
   "metadata": {},
   "outputs": [],
   "source": [
    "type(b)"
   ]
  },
  {
   "cell_type": "code",
   "execution_count": null,
   "metadata": {},
   "outputs": [],
   "source": [
    "len(a)"
   ]
  },
  {
   "cell_type": "code",
   "execution_count": null,
   "metadata": {},
   "outputs": [],
   "source": [
    "len(b)"
   ]
  },
  {
   "cell_type": "code",
   "execution_count": null,
   "metadata": {},
   "outputs": [],
   "source": [
    "import numpy as np"
   ]
  },
  {
   "cell_type": "code",
   "execution_count": null,
   "metadata": {},
   "outputs": [],
   "source": [
    "x=np.array[1,2,3]"
   ]
  },
  {
   "cell_type": "code",
   "execution_count": null,
   "metadata": {},
   "outputs": [],
   "source": [
    "x=np.array([1,2,3])"
   ]
  },
  {
   "cell_type": "code",
   "execution_count": null,
   "metadata": {},
   "outputs": [],
   "source": [
    "type(x)"
   ]
  },
  {
   "cell_type": "code",
   "execution_count": null,
   "metadata": {},
   "outputs": [],
   "source": [
    "x.shape"
   ]
  },
  {
   "cell_type": "code",
   "execution_count": null,
   "metadata": {},
   "outputs": [],
   "source": [
    "np.array?"
   ]
  },
  {
   "cell_type": "code",
   "execution_count": null,
   "metadata": {},
   "outputs": [],
   "source": [
    "x=np.array([[1,2,3],[2,2,5],[3,5,3]])"
   ]
  },
  {
   "cell_type": "code",
   "execution_count": null,
   "metadata": {},
   "outputs": [],
   "source": [
    "x.shape"
   ]
  },
  {
   "cell_type": "code",
   "execution_count": null,
   "metadata": {},
   "outputs": [],
   "source": [
    "np.zeros?"
   ]
  },
  {
   "cell_type": "code",
   "execution_count": null,
   "metadata": {},
   "outputs": [],
   "source": [
    "y=np.zeros((3,3))"
   ]
  },
  {
   "cell_type": "code",
   "execution_count": null,
   "metadata": {},
   "outputs": [],
   "source": [
    "print(y)"
   ]
  },
  {
   "cell_type": "code",
   "execution_count": null,
   "metadata": {},
   "outputs": [],
   "source": [
    "print(x*y)"
   ]
  },
  {
   "cell_type": "code",
   "execution_count": null,
   "metadata": {},
   "outputs": [],
   "source": [
    "y=np.ones((3,3))"
   ]
  },
  {
   "cell_type": "code",
   "execution_count": null,
   "metadata": {},
   "outputs": [],
   "source": [
    "print(x*y)"
   ]
  },
  {
   "cell_type": "code",
   "execution_count": 17,
   "metadata": {},
   "outputs": [],
   "source": [
    "import cv2 as cv"
   ]
  },
  {
   "cell_type": "code",
   "execution_count": 2,
   "metadata": {},
   "outputs": [],
   "source": [
    "cv?"
   ]
  },
  {
   "cell_type": "code",
   "execution_count": 27,
   "metadata": {},
   "outputs": [],
   "source": [
    "x=cv.imread('house.jpg')"
   ]
  },
  {
   "cell_type": "code",
   "execution_count": 4,
   "metadata": {},
   "outputs": [
    {
     "name": "stdout",
     "output_type": "stream",
     "text": [
      "[[[193 162 137]\n",
      "  [194 163 138]\n",
      "  [196 165 140]\n",
      "  ...\n",
      "  [203 168 142]\n",
      "  [204 169 143]\n",
      "  [206 171 145]]\n",
      "\n",
      " [[191 160 135]\n",
      "  [191 160 135]\n",
      "  [191 160 135]\n",
      "  ...\n",
      "  [202 165 139]\n",
      "  [201 167 138]\n",
      "  [203 166 140]]\n",
      "\n",
      " [[189 158 133]\n",
      "  [187 156 131]\n",
      "  [184 153 128]\n",
      "  ...\n",
      "  [199 160 132]\n",
      "  [197 161 131]\n",
      "  [198 159 131]]\n",
      "\n",
      " ...\n",
      "\n",
      " [[120 136 153]\n",
      "  [122 138 155]\n",
      "  [125 141 158]\n",
      "  ...\n",
      "  [ 25  55  56]\n",
      "  [134 161 171]\n",
      "  [136 156 174]]\n",
      "\n",
      " [[117 133 150]\n",
      "  [119 135 152]\n",
      "  [122 138 155]\n",
      "  ...\n",
      "  [ 25  55  56]\n",
      "  [132 159 169]\n",
      "  [134 154 172]]\n",
      "\n",
      " [[128 144 161]\n",
      "  [130 146 163]\n",
      "  [133 149 166]\n",
      "  ...\n",
      "  [ 28  58  59]\n",
      "  [121 148 158]\n",
      "  [125 145 163]]]\n"
     ]
    }
   ],
   "source": [
    "print(x)"
   ]
  },
  {
   "cell_type": "code",
   "execution_count": 5,
   "metadata": {},
   "outputs": [
    {
     "data": {
      "text/plain": [
       "(182, 277, 3)"
      ]
     },
     "execution_count": 5,
     "metadata": {},
     "output_type": "execute_result"
    }
   ],
   "source": [
    "x.shape"
   ]
  },
  {
   "cell_type": "code",
   "execution_count": 19,
   "metadata": {},
   "outputs": [],
   "source": [
    "import matplotlib.pyplot as plt"
   ]
  },
  {
   "cell_type": "code",
   "execution_count": 28,
   "metadata": {},
   "outputs": [
    {
     "data": {
      "text/plain": [
       "<matplotlib.image.AxesImage at 0x2ab1595c848>"
      ]
     },
     "execution_count": 28,
     "metadata": {},
     "output_type": "execute_result"
    },
    {
     "data": {
      "image/png": "[encoded data removed]",
      "text/plain": [
       "<Figure size 432x288 with 1 Axes>"
      ]
     },
     "metadata": {
      "needs_background": "light"
     },
     "output_type": "display_data"
    }
   ],
   "source": [
    "plt.imshow(x)"
   ]
  },
  {
   "cell_type": "code",
   "execution_count": null,
   "metadata": {},
   "outputs": [],
   "source": [
    "type(x)"
   ]
  },
  {
   "cell_type": "code",
   "execution_count": null,
   "metadata": {},
   "outputs": [],
   "source": [
    "y=x*0"
   ]
  },
  {
   "cell_type": "code",
   "execution_count": null,
   "metadata": {},
   "outputs": [],
   "source": [
    "plt.imshow(y)"
   ]
  },
  {
   "cell_type": "code",
   "execution_count": null,
   "metadata": {},
   "outputs": [],
   "source": [
    "y.shape"
   ]
  },
  {
   "cell_type": "code",
   "execution_count": null,
   "metadata": {},
   "outputs": [],
   "source": [
    "print(y)"
   ]
  },
  {
   "cell_type": "code",
   "execution_count": null,
   "metadata": {},
   "outputs": [],
   "source": [
    "d2=x//2"
   ]
  },
  {
   "cell_type": "code",
   "execution_count": null,
   "metadata": {},
   "outputs": [],
   "source": [
    "plt.imshow(x)"
   ]
  },
  {
   "cell_type": "code",
   "execution_count": null,
   "metadata": {},
   "outputs": [],
   "source": [
    "plt.imshow(d2)"
   ]
  },
  {
   "cell_type": "code",
   "execution_count": null,
   "metadata": {},
   "outputs": [],
   "source": [
    "c=x*2"
   ]
  },
  {
   "cell_type": "code",
   "execution_count": null,
   "metadata": {},
   "outputs": [],
   "source": [
    "plt.imshow(c)"
   ]
  },
  {
   "cell_type": "code",
   "execution_count": 21,
   "metadata": {},
   "outputs": [],
   "source": [
    "cv.cvtColor?"
   ]
  },
  {
   "cell_type": "code",
   "execution_count": 29,
   "metadata": {},
   "outputs": [],
   "source": [
    "gray=cv.cvtColor(x,cv.COLOR_BGR2GRAY)"
   ]
  },
  {
   "cell_type": "code",
   "execution_count": 30,
   "metadata": {},
   "outputs": [
    {
     "data": {
      "text/plain": [
       "<matplotlib.image.AxesImage at 0x2ab15a6f308>"
      ]
     },
     "execution_count": 30,
     "metadata": {},
     "output_type": "execute_result"
    },
    {
     "data": {
      "image/png": "[encoded data removed]",
      "text/plain": [
       "<Figure size 432x288 with 1 Axes>"
      ]
     },
     "metadata": {
      "needs_background": "light"
     },
     "output_type": "display_data"
    }
   ],
   "source": [
    "plt.imshow(gray)"
   ]
  },
  {
   "cell_type": "code",
   "execution_count": 31,
   "metadata": {},
   "outputs": [
    {
     "data": {
      "text/plain": [
       "(223, 226)"
      ]
     },
     "execution_count": 31,
     "metadata": {},
     "output_type": "execute_result"
    }
   ],
   "source": [
    "gray.shape"
   ]
  },
  {
   "cell_type": "code",
   "execution_count": 32,
   "metadata": {},
   "outputs": [],
   "source": [
    "edge=cv.Canny(gray,223,226)"
   ]
  },
  {
   "cell_type": "code",
   "execution_count": 33,
   "metadata": {},
   "outputs": [
    {
     "data": {
      "text/plain": [
       "<matplotlib.image.AxesImage at 0x2ab15adb9c8>"
      ]
     },
     "execution_count": 33,
     "metadata": {},
     "output_type": "execute_result"
    },
    {
     "data": {
      "image/png": "[encoded data removed]",
      "text/plain": [
       "<Figure size 432x288 with 1 Axes>"
      ]
     },
     "metadata": {
      "needs_background": "light"
     },
     "output_type": "display_data"
    }
   ],
   "source": [
    "plt.imshow(edge)"
   ]
  },
  {
   "cell_type": "code",
   "execution_count": null,
   "metadata": {},
   "outputs": [],
   "source": [
    "x=[]\n",
    "for i in range(10):\n",
    "\n",
    "    x.append(i)"
   ]
  },
  {
   "cell_type": "code",
   "execution_count": null,
   "metadata": {},
   "outputs": [],
   "source": [
    "import math\n",
    "y=[]\n",
    "for i in x:\n",
    "    y.append(math.exp(-i))"
   ]
  },
  {
   "cell_type": "code",
   "execution_count": null,
   "metadata": {},
   "outputs": [],
   "source": [
    "print(x)"
   ]
  },
  {
   "cell_type": "code",
   "execution_count": null,
   "metadata": {},
   "outputs": [],
   "source": [
    "y"
   ]
  },
  {
   "cell_type": "code",
   "execution_count": null,
   "metadata": {},
   "outputs": [],
   "source": [
    "plt.plot(x,y)"
   ]
  },
  {
   "cell_type": "code",
   "execution_count": null,
   "metadata": {},
   "outputs": [],
   "source": [
    "type(x)"
   ]
  },
  {
   "cell_type": "code",
   "execution_count": null,
   "metadata": {},
   "outputs": [],
   "source": [
    "type(y)"
   ]
  },
  {
   "cell_type": "code",
   "execution_count": null,
   "metadata": {},
   "outputs": [],
   "source": [
    "xnp=np.asarray(x)"
   ]
  },
  {
   "cell_type": "code",
   "execution_count": null,
   "metadata": {},
   "outputs": [],
   "source": [
    "type(xnp)"
   ]
  },
  {
   "cell_type": "code",
   "execution_count": null,
   "metadata": {},
   "outputs": [],
   "source": [
    "xnp.shape"
   ]
  },
  {
   "cell_type": "markdown",
   "metadata": {},
   "source": [
    "# Prediction"
   ]
  },
  {
   "cell_type": "code",
   "execution_count": null,
   "metadata": {},
   "outputs": [],
   "source": [
    "price=[1,2,3,4,5,6,7,8,9,10]\n",
    "sales=[100000,50000,10000,20000,50000,1000,10000,1000,30000,50000]"
   ]
  },
  {
   "cell_type": "code",
   "execution_count": null,
   "metadata": {},
   "outputs": [],
   "source": [
    "plt.plot(price,sales)"
   ]
  },
  {
   "cell_type": "code",
   "execution_count": 34,
   "metadata": {},
   "outputs": [],
   "source": [
    "import pandas as pd"
   ]
  },
  {
   "cell_type": "code",
   "execution_count": null,
   "metadata": {},
   "outputs": [],
   "source": [
    "pd.DataFrame?\n"
   ]
  },
  {
   "cell_type": "code",
   "execution_count": null,
   "metadata": {},
   "outputs": [],
   "source": [
    "dataset=list(zip(price,sales))"
   ]
  },
  {
   "cell_type": "code",
   "execution_count": null,
   "metadata": {},
   "outputs": [],
   "source": [
    "df=pd.DataFrame(data=dataset,columns=['price','sales'])"
   ]
  },
  {
   "cell_type": "code",
   "execution_count": null,
   "metadata": {},
   "outputs": [],
   "source": [
    "df.head()"
   ]
  },
  {
   "cell_type": "code",
   "execution_count": null,
   "metadata": {},
   "outputs": [],
   "source": [
    "df.info()"
   ]
  },
  {
   "cell_type": "code",
   "execution_count": null,
   "metadata": {},
   "outputs": [],
   "source": [
    "df.describe()"
   ]
  },
  {
   "cell_type": "code",
   "execution_count": null,
   "metadata": {},
   "outputs": [],
   "source": [
    "df.to_csv?"
   ]
  },
  {
   "cell_type": "code",
   "execution_count": null,
   "metadata": {},
   "outputs": [],
   "source": [
    "df.to_csv('salesdata.csv')"
   ]
  },
  {
   "cell_type": "code",
   "execution_count": null,
   "metadata": {},
   "outputs": [],
   "source": [
    "df.to_csv('salesdata.csv',index=False)"
   ]
  },
  {
   "cell_type": "code",
   "execution_count": 35,
   "metadata": {},
   "outputs": [],
   "source": [
    "data=pd.read_csv('salesdata.csv')"
   ]
  },
  {
   "cell_type": "code",
   "execution_count": 36,
   "metadata": {},
   "outputs": [
    {
     "data": {
      "text/html": [
       "<div>\n",
       "<style scoped>\n",
       "    .dataframe tbody tr th:only-of-type {\n",
       "        vertical-align: middle;\n",
       "    }\n",
       "\n",
       "    .dataframe tbody tr th {\n",
       "        vertical-align: top;\n",
       "    }\n",
       "\n",
       "    .dataframe thead th {\n",
       "        text-align: right;\n",
       "    }\n",
       "</style>\n",
       "<table border=\"1\" class=\"dataframe\">\n",
       "  <thead>\n",
       "    <tr style=\"text-align: right;\">\n",
       "      <th></th>\n",
       "      <th>price</th>\n",
       "      <th>sales</th>\n",
       "    </tr>\n",
       "  </thead>\n",
       "  <tbody>\n",
       "    <tr>\n",
       "      <th>0</th>\n",
       "      <td>1</td>\n",
       "      <td>100000</td>\n",
       "    </tr>\n",
       "    <tr>\n",
       "      <th>1</th>\n",
       "      <td>2</td>\n",
       "      <td>50000</td>\n",
       "    </tr>\n",
       "    <tr>\n",
       "      <th>2</th>\n",
       "      <td>3</td>\n",
       "      <td>10000</td>\n",
       "    </tr>\n",
       "    <tr>\n",
       "      <th>3</th>\n",
       "      <td>4</td>\n",
       "      <td>20000</td>\n",
       "    </tr>\n",
       "    <tr>\n",
       "      <th>4</th>\n",
       "      <td>5</td>\n",
       "      <td>50000</td>\n",
       "    </tr>\n",
       "  </tbody>\n",
       "</table>\n",
       "</div>"
      ],
      "text/plain": [
       "   price   sales\n",
       "0      1  100000\n",
       "1      2   50000\n",
       "2      3   10000\n",
       "3      4   20000\n",
       "4      5   50000"
      ]
     },
     "execution_count": 36,
     "metadata": {},
     "output_type": "execute_result"
    }
   ],
   "source": [
    "data.head()"
   ]
  },
  {
   "cell_type": "code",
   "execution_count": 38,
   "metadata": {},
   "outputs": [
    {
     "data": {
      "text/plain": [
       "['T',\n",
       " '_AXIS_ALIASES',\n",
       " '_AXIS_IALIASES',\n",
       " '_AXIS_LEN',\n",
       " '_AXIS_NAMES',\n",
       " '_AXIS_NUMBERS',\n",
       " '_AXIS_ORDERS',\n",
       " '_AXIS_REVERSED',\n",
       " '__abs__',\n",
       " '__add__',\n",
       " '__and__',\n",
       " '__annotations__',\n",
       " '__array__',\n",
       " '__array_priority__',\n",
       " '__array_wrap__',\n",
       " '__bool__',\n",
       " '__class__',\n",
       " '__contains__',\n",
       " '__copy__',\n",
       " '__deepcopy__',\n",
       " '__delattr__',\n",
       " '__delitem__',\n",
       " '__dict__',\n",
       " '__dir__',\n",
       " '__div__',\n",
       " '__doc__',\n",
       " '__eq__',\n",
       " '__finalize__',\n",
       " '__floordiv__',\n",
       " '__format__',\n",
       " '__ge__',\n",
       " '__getattr__',\n",
       " '__getattribute__',\n",
       " '__getitem__',\n",
       " '__getstate__',\n",
       " '__gt__',\n",
       " '__hash__',\n",
       " '__iadd__',\n",
       " '__iand__',\n",
       " '__ifloordiv__',\n",
       " '__imod__',\n",
       " '__imul__',\n",
       " '__init__',\n",
       " '__init_subclass__',\n",
       " '__invert__',\n",
       " '__ior__',\n",
       " '__ipow__',\n",
       " '__isub__',\n",
       " '__iter__',\n",
       " '__itruediv__',\n",
       " '__ixor__',\n",
       " '__le__',\n",
       " '__len__',\n",
       " '__lt__',\n",
       " '__matmul__',\n",
       " '__mod__',\n",
       " '__module__',\n",
       " '__mul__',\n",
       " '__ne__',\n",
       " '__neg__',\n",
       " '__new__',\n",
       " '__nonzero__',\n",
       " '__or__',\n",
       " '__pos__',\n",
       " '__pow__',\n",
       " '__radd__',\n",
       " '__rand__',\n",
       " '__rdiv__',\n",
       " '__reduce__',\n",
       " '__reduce_ex__',\n",
       " '__repr__',\n",
       " '__rfloordiv__',\n",
       " '__rmatmul__',\n",
       " '__rmod__',\n",
       " '__rmul__',\n",
       " '__ror__',\n",
       " '__round__',\n",
       " '__rpow__',\n",
       " '__rsub__',\n",
       " '__rtruediv__',\n",
       " '__rxor__',\n",
       " '__setattr__',\n",
       " '__setitem__',\n",
       " '__setstate__',\n",
       " '__sizeof__',\n",
       " '__str__',\n",
       " '__sub__',\n",
       " '__subclasshook__',\n",
       " '__truediv__',\n",
       " '__weakref__',\n",
       " '__xor__',\n",
       " '_accessors',\n",
       " '_add_numeric_operations',\n",
       " '_add_series_or_dataframe_operations',\n",
       " '_agg_by_level',\n",
       " '_agg_examples_doc',\n",
       " '_agg_summary_and_see_also_doc',\n",
       " '_aggregate',\n",
       " '_aggregate_multiple_funcs',\n",
       " '_align_frame',\n",
       " '_align_series',\n",
       " '_box_col_values',\n",
       " '_box_item_values',\n",
       " '_builtin_table',\n",
       " '_check_inplace_setting',\n",
       " '_check_is_chained_assignment_possible',\n",
       " '_check_label_or_level_ambiguity',\n",
       " '_check_setitem_copy',\n",
       " '_clear_item_cache',\n",
       " '_clip_with_one_bound',\n",
       " '_clip_with_scalar',\n",
       " '_combine_frame',\n",
       " '_combine_match_index',\n",
       " '_consolidate',\n",
       " '_consolidate_inplace',\n",
       " '_construct_axes_dict',\n",
       " '_construct_axes_dict_from',\n",
       " '_construct_axes_from_arguments',\n",
       " '_construct_result',\n",
       " '_constructor',\n",
       " '_constructor_expanddim',\n",
       " '_constructor_sliced',\n",
       " '_convert',\n",
       " '_count_level',\n",
       " '_create_indexer',\n",
       " '_cython_table',\n",
       " '_deprecations',\n",
       " '_dir_additions',\n",
       " '_dir_deletions',\n",
       " '_drop_axis',\n",
       " '_drop_labels_or_levels',\n",
       " '_ensure_valid_index',\n",
       " '_find_valid_index',\n",
       " '_from_arrays',\n",
       " '_from_axes',\n",
       " '_get_agg_axis',\n",
       " '_get_axis',\n",
       " '_get_axis_name',\n",
       " '_get_axis_number',\n",
       " '_get_axis_resolvers',\n",
       " '_get_block_manager_axis',\n",
       " '_get_bool_data',\n",
       " '_get_cacher',\n",
       " '_get_cleaned_column_resolvers',\n",
       " '_get_cython_func',\n",
       " '_get_index_resolvers',\n",
       " '_get_item_cache',\n",
       " '_get_label_or_level_values',\n",
       " '_get_numeric_data',\n",
       " '_get_value',\n",
       " '_get_values',\n",
       " '_getitem_bool_array',\n",
       " '_getitem_multilevel',\n",
       " '_gotitem',\n",
       " '_iget_item_cache',\n",
       " '_indexed_same',\n",
       " '_info_axis',\n",
       " '_info_axis_name',\n",
       " '_info_axis_number',\n",
       " '_info_repr',\n",
       " '_init_mgr',\n",
       " '_internal_get_values',\n",
       " '_internal_names',\n",
       " '_internal_names_set',\n",
       " '_is_builtin_func',\n",
       " '_is_cached',\n",
       " '_is_copy',\n",
       " '_is_datelike_mixed_type',\n",
       " '_is_homogeneous_type',\n",
       " '_is_label_or_level_reference',\n",
       " '_is_label_reference',\n",
       " '_is_level_reference',\n",
       " '_is_mixed_type',\n",
       " '_is_numeric_mixed_type',\n",
       " '_is_view',\n",
       " '_ix',\n",
       " '_ixs',\n",
       " '_join_compat',\n",
       " '_maybe_cache_changed',\n",
       " '_maybe_update_cacher',\n",
       " '_metadata',\n",
       " '_needs_reindex_multi',\n",
       " '_obj_with_exclusions',\n",
       " '_protect_consolidate',\n",
       " '_reduce',\n",
       " '_reindex_axes',\n",
       " '_reindex_columns',\n",
       " '_reindex_index',\n",
       " '_reindex_multi',\n",
       " '_reindex_with_indexers',\n",
       " '_repr_data_resource_',\n",
       " '_repr_fits_horizontal_',\n",
       " '_repr_fits_vertical_',\n",
       " '_repr_html_',\n",
       " '_repr_latex_',\n",
       " '_reset_cache',\n",
       " '_reset_cacher',\n",
       " '_sanitize_column',\n",
       " '_selected_obj',\n",
       " '_selection',\n",
       " '_selection_list',\n",
       " '_selection_name',\n",
       " '_series',\n",
       " '_set_as_cached',\n",
       " '_set_axis',\n",
       " '_set_axis_name',\n",
       " '_set_is_copy',\n",
       " '_set_item',\n",
       " '_set_value',\n",
       " '_setitem_array',\n",
       " '_setitem_frame',\n",
       " '_setitem_slice',\n",
       " '_setup_axes',\n",
       " '_slice',\n",
       " '_stat_axis',\n",
       " '_stat_axis_name',\n",
       " '_stat_axis_number',\n",
       " '_take_with_is_copy',\n",
       " '_to_dict_of_blocks',\n",
       " '_try_aggregate_string_function',\n",
       " '_typ',\n",
       " '_update_inplace',\n",
       " '_validate_dtype',\n",
       " '_values',\n",
       " '_where',\n",
       " '_xs',\n",
       " 'abs',\n",
       " 'add',\n",
       " 'add_prefix',\n",
       " 'add_suffix',\n",
       " 'agg',\n",
       " 'aggregate',\n",
       " 'align',\n",
       " 'all',\n",
       " 'any',\n",
       " 'append',\n",
       " 'apply',\n",
       " 'applymap',\n",
       " 'asfreq',\n",
       " 'asof',\n",
       " 'assign',\n",
       " 'astype',\n",
       " 'at',\n",
       " 'at_time',\n",
       " 'attrs',\n",
       " 'axes',\n",
       " 'between_time',\n",
       " 'bfill',\n",
       " 'bool',\n",
       " 'boxplot',\n",
       " 'clip',\n",
       " 'columns',\n",
       " 'combine',\n",
       " 'combine_first',\n",
       " 'convert_dtypes',\n",
       " 'copy',\n",
       " 'corr',\n",
       " 'corrwith',\n",
       " 'count',\n",
       " 'cov',\n",
       " 'cummax',\n",
       " 'cummin',\n",
       " 'cumprod',\n",
       " 'cumsum',\n",
       " 'describe',\n",
       " 'diff',\n",
       " 'div',\n",
       " 'divide',\n",
       " 'dot',\n",
       " 'drop',\n",
       " 'drop_duplicates',\n",
       " 'droplevel',\n",
       " 'dropna',\n",
       " 'dtypes',\n",
       " 'duplicated',\n",
       " 'empty',\n",
       " 'eq',\n",
       " 'equals',\n",
       " 'eval',\n",
       " 'ewm',\n",
       " 'expanding',\n",
       " 'explode',\n",
       " 'ffill',\n",
       " 'fillna',\n",
       " 'filter',\n",
       " 'first',\n",
       " 'first_valid_index',\n",
       " 'floordiv',\n",
       " 'from_dict',\n",
       " 'from_records',\n",
       " 'ge',\n",
       " 'get',\n",
       " 'groupby',\n",
       " 'gt',\n",
       " 'head',\n",
       " 'hist',\n",
       " 'iat',\n",
       " 'idxmax',\n",
       " 'idxmin',\n",
       " 'iloc',\n",
       " 'index',\n",
       " 'infer_objects',\n",
       " 'info',\n",
       " 'insert',\n",
       " 'interpolate',\n",
       " 'isin',\n",
       " 'isna',\n",
       " 'isnull',\n",
       " 'items',\n",
       " 'iteritems',\n",
       " 'iterrows',\n",
       " 'itertuples',\n",
       " 'join',\n",
       " 'keys',\n",
       " 'kurt',\n",
       " 'kurtosis',\n",
       " 'last',\n",
       " 'last_valid_index',\n",
       " 'le',\n",
       " 'loc',\n",
       " 'lookup',\n",
       " 'lt',\n",
       " 'mad',\n",
       " 'mask',\n",
       " 'max',\n",
       " 'mean',\n",
       " 'median',\n",
       " 'melt',\n",
       " 'memory_usage',\n",
       " 'merge',\n",
       " 'min',\n",
       " 'mod',\n",
       " 'mode',\n",
       " 'mul',\n",
       " 'multiply',\n",
       " 'ndim',\n",
       " 'ne',\n",
       " 'nlargest',\n",
       " 'notna',\n",
       " 'notnull',\n",
       " 'nsmallest',\n",
       " 'nunique',\n",
       " 'pct_change',\n",
       " 'pipe',\n",
       " 'pivot',\n",
       " 'pivot_table',\n",
       " 'plot',\n",
       " 'pop',\n",
       " 'pow',\n",
       " 'price',\n",
       " 'prod',\n",
       " 'product',\n",
       " 'quantile',\n",
       " 'query',\n",
       " 'radd',\n",
       " 'rank',\n",
       " 'rdiv',\n",
       " 'reindex',\n",
       " 'reindex_like',\n",
       " 'rename',\n",
       " 'rename_axis',\n",
       " 'reorder_levels',\n",
       " 'replace',\n",
       " 'resample',\n",
       " 'reset_index',\n",
       " 'rfloordiv',\n",
       " 'rmod',\n",
       " 'rmul',\n",
       " 'rolling',\n",
       " 'round',\n",
       " 'rpow',\n",
       " 'rsub',\n",
       " 'rtruediv',\n",
       " 'sales',\n",
       " 'sample',\n",
       " 'select_dtypes',\n",
       " 'sem',\n",
       " 'set_axis',\n",
       " 'set_index',\n",
       " 'shape',\n",
       " 'shift',\n",
       " 'size',\n",
       " 'skew',\n",
       " 'slice_shift',\n",
       " 'sort_index',\n",
       " 'sort_values',\n",
       " 'squeeze',\n",
       " 'stack',\n",
       " 'std',\n",
       " 'style',\n",
       " 'sub',\n",
       " 'subtract',\n",
       " 'sum',\n",
       " 'swapaxes',\n",
       " 'swaplevel',\n",
       " 'tail',\n",
       " 'take',\n",
       " 'to_clipboard',\n",
       " 'to_csv',\n",
       " 'to_dict',\n",
       " 'to_excel',\n",
       " 'to_feather',\n",
       " 'to_gbq',\n",
       " 'to_hdf',\n",
       " 'to_html',\n",
       " 'to_json',\n",
       " 'to_latex',\n",
       " 'to_markdown',\n",
       " 'to_numpy',\n",
       " 'to_parquet',\n",
       " 'to_period',\n",
       " 'to_pickle',\n",
       " 'to_records',\n",
       " 'to_sql',\n",
       " 'to_stata',\n",
       " 'to_string',\n",
       " 'to_timestamp',\n",
       " 'to_xarray',\n",
       " 'transform',\n",
       " 'transpose',\n",
       " 'truediv',\n",
       " 'truncate',\n",
       " 'tshift',\n",
       " 'tz_convert',\n",
       " 'tz_localize',\n",
       " 'unstack',\n",
       " 'update',\n",
       " 'values',\n",
       " 'var',\n",
       " 'where',\n",
       " 'xs']"
      ]
     },
     "execution_count": 38,
     "metadata": {},
     "output_type": "execute_result"
    }
   ],
   "source": [
    "dir(data)"
   ]
  },
  {
   "cell_type": "code",
   "execution_count": 41,
   "metadata": {},
   "outputs": [
    {
     "data": {
      "text/plain": [
       "0     1\n",
       "1     2\n",
       "2     3\n",
       "3     4\n",
       "4     5\n",
       "5     6\n",
       "6     7\n",
       "7     8\n",
       "8     9\n",
       "9    10\n",
       "Name: price, dtype: int64"
      ]
     },
     "execution_count": 41,
     "metadata": {},
     "output_type": "execute_result"
    }
   ],
   "source": [
    "data['price']"
   ]
  },
  {
   "cell_type": "code",
   "execution_count": 42,
   "metadata": {},
   "outputs": [
    {
     "data": {
      "text/html": [
       "<div>\n",
       "<style scoped>\n",
       "    .dataframe tbody tr th:only-of-type {\n",
       "        vertical-align: middle;\n",
       "    }\n",
       "\n",
       "    .dataframe tbody tr th {\n",
       "        vertical-align: top;\n",
       "    }\n",
       "\n",
       "    .dataframe thead th {\n",
       "        text-align: right;\n",
       "    }\n",
       "</style>\n",
       "<table border=\"1\" class=\"dataframe\">\n",
       "  <thead>\n",
       "    <tr style=\"text-align: right;\">\n",
       "      <th></th>\n",
       "      <th>price</th>\n",
       "      <th>sales</th>\n",
       "    </tr>\n",
       "  </thead>\n",
       "  <tbody>\n",
       "    <tr>\n",
       "      <th>0</th>\n",
       "      <td>True</td>\n",
       "      <td>True</td>\n",
       "    </tr>\n",
       "    <tr>\n",
       "      <th>1</th>\n",
       "      <td>True</td>\n",
       "      <td>True</td>\n",
       "    </tr>\n",
       "    <tr>\n",
       "      <th>2</th>\n",
       "      <td>True</td>\n",
       "      <td>True</td>\n",
       "    </tr>\n",
       "    <tr>\n",
       "      <th>3</th>\n",
       "      <td>True</td>\n",
       "      <td>True</td>\n",
       "    </tr>\n",
       "    <tr>\n",
       "      <th>4</th>\n",
       "      <td>True</td>\n",
       "      <td>True</td>\n",
       "    </tr>\n",
       "    <tr>\n",
       "      <th>5</th>\n",
       "      <td>True</td>\n",
       "      <td>True</td>\n",
       "    </tr>\n",
       "    <tr>\n",
       "      <th>6</th>\n",
       "      <td>True</td>\n",
       "      <td>True</td>\n",
       "    </tr>\n",
       "    <tr>\n",
       "      <th>7</th>\n",
       "      <td>True</td>\n",
       "      <td>True</td>\n",
       "    </tr>\n",
       "    <tr>\n",
       "      <th>8</th>\n",
       "      <td>True</td>\n",
       "      <td>True</td>\n",
       "    </tr>\n",
       "    <tr>\n",
       "      <th>9</th>\n",
       "      <td>True</td>\n",
       "      <td>True</td>\n",
       "    </tr>\n",
       "  </tbody>\n",
       "</table>\n",
       "</div>"
      ],
      "text/plain": [
       "   price  sales\n",
       "0   True   True\n",
       "1   True   True\n",
       "2   True   True\n",
       "3   True   True\n",
       "4   True   True\n",
       "5   True   True\n",
       "6   True   True\n",
       "7   True   True\n",
       "8   True   True\n",
       "9   True   True"
      ]
     },
     "execution_count": 42,
     "metadata": {},
     "output_type": "execute_result"
    }
   ],
   "source": [
    "data.notnull()"
   ]
  },
  {
   "cell_type": "code",
   "execution_count": 43,
   "metadata": {},
   "outputs": [
    {
     "data": {
      "text/html": [
       "<div>\n",
       "<style scoped>\n",
       "    .dataframe tbody tr th:only-of-type {\n",
       "        vertical-align: middle;\n",
       "    }\n",
       "\n",
       "    .dataframe tbody tr th {\n",
       "        vertical-align: top;\n",
       "    }\n",
       "\n",
       "    .dataframe thead th {\n",
       "        text-align: right;\n",
       "    }\n",
       "</style>\n",
       "<table border=\"1\" class=\"dataframe\">\n",
       "  <thead>\n",
       "    <tr style=\"text-align: right;\">\n",
       "      <th></th>\n",
       "      <th>price</th>\n",
       "      <th>sales</th>\n",
       "    </tr>\n",
       "  </thead>\n",
       "  <tbody>\n",
       "    <tr>\n",
       "      <th>0</th>\n",
       "      <td>1</td>\n",
       "      <td>100000</td>\n",
       "    </tr>\n",
       "    <tr>\n",
       "      <th>1</th>\n",
       "      <td>2</td>\n",
       "      <td>50000</td>\n",
       "    </tr>\n",
       "    <tr>\n",
       "      <th>2</th>\n",
       "      <td>3</td>\n",
       "      <td>10000</td>\n",
       "    </tr>\n",
       "    <tr>\n",
       "      <th>3</th>\n",
       "      <td>4</td>\n",
       "      <td>20000</td>\n",
       "    </tr>\n",
       "    <tr>\n",
       "      <th>4</th>\n",
       "      <td>5</td>\n",
       "      <td>50000</td>\n",
       "    </tr>\n",
       "  </tbody>\n",
       "</table>\n",
       "</div>"
      ],
      "text/plain": [
       "   price   sales\n",
       "0      1  100000\n",
       "1      2   50000\n",
       "2      3   10000\n",
       "3      4   20000\n",
       "4      5   50000"
      ]
     },
     "execution_count": 43,
     "metadata": {},
     "output_type": "execute_result"
    }
   ],
   "source": [
    "data.head()"
   ]
  },
  {
   "cell_type": "code",
   "execution_count": 44,
   "metadata": {},
   "outputs": [],
   "source": [
    "price=list(data['price'])\n",
    "sales=list(data['sales'])"
   ]
  },
  {
   "cell_type": "code",
   "execution_count": 45,
   "metadata": {},
   "outputs": [
    {
     "name": "stdout",
     "output_type": "stream",
     "text": [
      "[1, 2, 3, 4, 5, 6, 7, 8, 9, 10]\n",
      "[100000, 50000, 10000, 20000, 50000, 1000, 10000, 1000, 30000, 50000]\n"
     ]
    }
   ],
   "source": [
    "print(price)\n",
    "print(sales)"
   ]
  },
  {
   "cell_type": "code",
   "execution_count": 46,
   "metadata": {},
   "outputs": [],
   "source": [
    "import numpy as np"
   ]
  },
  {
   "cell_type": "code",
   "execution_count": 47,
   "metadata": {},
   "outputs": [],
   "source": [
    "price=np.asarray(price)"
   ]
  },
  {
   "cell_type": "code",
   "execution_count": 48,
   "metadata": {},
   "outputs": [],
   "source": [
    "sales=np.asarray(sales)"
   ]
  },
  {
   "cell_type": "code",
   "execution_count": 49,
   "metadata": {},
   "outputs": [
    {
     "name": "stdout",
     "output_type": "stream",
     "text": [
      "<class 'numpy.ndarray'>\n",
      "<class 'numpy.ndarray'>\n"
     ]
    }
   ],
   "source": [
    "print(type(sales))\n",
    "print(type(price))"
   ]
  },
  {
   "cell_type": "markdown",
   "metadata": {},
   "source": [
    "# Prediction Machine Learning"
   ]
  },
  {
   "cell_type": "code",
   "execution_count": 50,
   "metadata": {},
   "outputs": [],
   "source": [
    "import tensorflow as tf"
   ]
  },
  {
   "cell_type": "code",
   "execution_count": 51,
   "metadata": {},
   "outputs": [],
   "source": [
    "from tensorflow import keras"
   ]
  },
  {
   "cell_type": "code",
   "execution_count": 52,
   "metadata": {},
   "outputs": [
    {
     "data": {
      "text/plain": [
       "['Input',\n",
       " 'Model',\n",
       " 'Sequential',\n",
       " '__builtins__',\n",
       " '__cached__',\n",
       " '__doc__',\n",
       " '__file__',\n",
       " '__loader__',\n",
       " '__name__',\n",
       " '__package__',\n",
       " '__path__',\n",
       " '__spec__',\n",
       " '__version__',\n",
       " '_sys',\n",
       " 'activations',\n",
       " 'applications',\n",
       " 'backend',\n",
       " 'callbacks',\n",
       " 'constraints',\n",
       " 'datasets',\n",
       " 'estimator',\n",
       " 'experimental',\n",
       " 'initializers',\n",
       " 'layers',\n",
       " 'losses',\n",
       " 'metrics',\n",
       " 'mixed_precision',\n",
       " 'models',\n",
       " 'optimizers',\n",
       " 'preprocessing',\n",
       " 'regularizers',\n",
       " 'utils',\n",
       " 'wrappers']"
      ]
     },
     "execution_count": 52,
     "metadata": {},
     "output_type": "execute_result"
    }
   ],
   "source": [
    "dir(keras)"
   ]
  },
  {
   "cell_type": "code",
   "execution_count": 57,
   "metadata": {},
   "outputs": [],
   "source": [
    "keras.Sequential?"
   ]
  },
  {
   "cell_type": "code",
   "execution_count": 54,
   "metadata": {},
   "outputs": [],
   "source": [
    "model=keras.Sequential()"
   ]
  },
  {
   "cell_type": "code",
   "execution_count": 59,
   "metadata": {},
   "outputs": [],
   "source": [
    "model.add(keras.layers.Dense(units=1,input_shape=[1])"
   ]
  },
  {
   "cell_type": "code",
   "execution_count": 67,
   "metadata": {},
   "outputs": [],
   "source": [
    "model.compile(optimizer='sgd',loss='mean_squared_error')"
   ]
  },
  {
   "cell_type": "code",
   "execution_count": 61,
   "metadata": {},
   "outputs": [],
   "source": [
    "model.fit?"
   ]
  },
  {
   "cell_type": "code",
   "execution_count": 71,
   "metadata": {},
   "outputs": [
    {
     "name": "stdout",
     "output_type": "stream",
     "text": [
      "Train on 10 samples\n",
      "Epoch 1/500\n",
      "10/10 [==============================] - 0s 1ms/sample - loss: 968007680.0000\n",
      "Epoch 2/500\n",
      "10/10 [==============================] - 0s 296us/sample - loss: 965835776.0000\n",
      "Epoch 3/500\n",
      "10/10 [==============================] - 0s 197us/sample - loss: 963682112.0000\n",
      "Epoch 4/500\n",
      "10/10 [==============================] - 0s 197us/sample - loss: 961546432.0000\n",
      "Epoch 5/500\n",
      "10/10 [==============================] - 0s 190us/sample - loss: 959428736.0000\n",
      "Epoch 6/500\n",
      "10/10 [==============================] - 0s 299us/sample - loss: 957328704.0000\n",
      "Epoch 7/500\n",
      "10/10 [==============================] - 0s 290us/sample - loss: 955246272.0000\n",
      "Epoch 8/500\n",
      "10/10 [==============================] - 0s 512us/sample - loss: 953181504.0000\n",
      "Epoch 9/500\n",
      "10/10 [==============================] - 0s 299us/sample - loss: 951133824.0000\n",
      "Epoch 10/500\n",
      "10/10 [==============================] - 0s 557us/sample - loss: 949103296.0000\n",
      "Epoch 11/500\n",
      "10/10 [==============================] - 0s 389us/sample - loss: 947089792.0000\n",
      "Epoch 12/500\n",
      "10/10 [==============================] - 0s 398us/sample - loss: 945093312.0000\n",
      "Epoch 13/500\n",
      "10/10 [==============================] - 0s 390us/sample - loss: 943113408.0000\n",
      "Epoch 14/500\n",
      "10/10 [==============================] - 0s 299us/sample - loss: 941150080.0000\n",
      "Epoch 15/500\n",
      "10/10 [==============================] - 0s 356us/sample - loss: 939203392.0000\n",
      "Epoch 16/500\n",
      "10/10 [==============================] - 0s 296us/sample - loss: 937272960.0000\n",
      "Epoch 17/500\n",
      "10/10 [==============================] - 0s 301us/sample - loss: 935358656.0000\n",
      "Epoch 18/500\n",
      "10/10 [==============================] - 0s 399us/sample - loss: 933460352.0000\n",
      "Epoch 19/500\n",
      "10/10 [==============================] - 0s 698us/sample - loss: 931577984.0000\n",
      "Epoch 20/500\n",
      "10/10 [==============================] - 0s 399us/sample - loss: 929711424.0000\n",
      "Epoch 21/500\n",
      "10/10 [==============================] - 0s 299us/sample - loss: 927860544.0000\n",
      "Epoch 22/500\n",
      "10/10 [==============================] - 0s 299us/sample - loss: 926025216.0000\n",
      "Epoch 23/500\n",
      "10/10 [==============================] - 0s 456us/sample - loss: 924205184.0000\n",
      "Epoch 24/500\n",
      "10/10 [==============================] - 0s 399us/sample - loss: 922400384.0000\n",
      "Epoch 25/500\n",
      "10/10 [==============================] - 0s 335us/sample - loss: 920610816.0000\n",
      "Epoch 26/500\n",
      "10/10 [==============================] - 0s 436us/sample - loss: 918836096.0000\n",
      "Epoch 27/500\n",
      "10/10 [==============================] - 0s 302us/sample - loss: 917076288.0000\n",
      "Epoch 28/500\n",
      "10/10 [==============================] - 0s 397us/sample - loss: 915331264.0000\n",
      "Epoch 29/500\n",
      "10/10 [==============================] - 0s 367us/sample - loss: 913600832.0000\n",
      "Epoch 30/500\n",
      "10/10 [==============================] - 0s 410us/sample - loss: 911884992.0000\n",
      "Epoch 31/500\n",
      "10/10 [==============================] - 0s 396us/sample - loss: 910183552.0000\n",
      "Epoch 32/500\n",
      "10/10 [==============================] - 0s 380us/sample - loss: 908496256.0000\n",
      "Epoch 33/500\n",
      "10/10 [==============================] - 0s 503us/sample - loss: 906823040.0000\n",
      "Epoch 34/500\n",
      "10/10 [==============================] - 0s 407us/sample - loss: 905164096.0000\n",
      "Epoch 35/500\n",
      "10/10 [==============================] - 0s 307us/sample - loss: 903519040.0000\n",
      "Epoch 36/500\n",
      "10/10 [==============================] - 0s 312us/sample - loss: 901887616.0000\n",
      "Epoch 37/500\n",
      "10/10 [==============================] - 0s 377us/sample - loss: 900269760.0000\n",
      "Epoch 38/500\n",
      "10/10 [==============================] - 0s 299us/sample - loss: 898665792.0000\n",
      "Epoch 39/500\n",
      "10/10 [==============================] - 0s 378us/sample - loss: 897075008.0000\n",
      "Epoch 40/500\n",
      "10/10 [==============================] - 0s 433us/sample - loss: 895497600.0000\n",
      "Epoch 41/500\n",
      "10/10 [==============================] - 0s 351us/sample - loss: 893933440.0000\n",
      "Epoch 42/500\n",
      "10/10 [==============================] - 0s 402us/sample - loss: 892382336.0000\n",
      "Epoch 43/500\n",
      "10/10 [==============================] - 0s 404us/sample - loss: 890844288.0000\n",
      "Epoch 44/500\n",
      "10/10 [==============================] - 0s 506us/sample - loss: 889319232.0000\n",
      "Epoch 45/500\n",
      "10/10 [==============================] - 0s 376us/sample - loss: 887806784.0000\n",
      "Epoch 46/500\n",
      "10/10 [==============================] - 0s 365us/sample - loss: 886307008.0000\n",
      "Epoch 47/500\n",
      "10/10 [==============================] - 0s 429us/sample - loss: 884819968.0000\n",
      "Epoch 48/500\n",
      "10/10 [==============================] - 0s 499us/sample - loss: 883345280.0000\n",
      "Epoch 49/500\n",
      "10/10 [==============================] - 0s 399us/sample - loss: 881883008.0000\n",
      "Epoch 50/500\n",
      "10/10 [==============================] - 0s 532us/sample - loss: 880432960.0000\n",
      "Epoch 51/500\n",
      "10/10 [==============================] - 0s 502us/sample - loss: 878995136.0000\n",
      "Epoch 52/500\n",
      "10/10 [==============================] - 0s 389us/sample - loss: 877569216.0000\n",
      "Epoch 53/500\n",
      "10/10 [==============================] - 0s 299us/sample - loss: 876155264.0000\n",
      "Epoch 54/500\n",
      "10/10 [==============================] - 0s 285us/sample - loss: 874753344.0000\n",
      "Epoch 55/500\n",
      "10/10 [==============================] - 0s 495us/sample - loss: 873363072.0000\n",
      "Epoch 56/500\n",
      "10/10 [==============================] - 0s 399us/sample - loss: 871984320.0000\n",
      "Epoch 57/500\n",
      "10/10 [==============================] - 0s 395us/sample - loss: 870617216.0000\n",
      "Epoch 58/500\n",
      "10/10 [==============================] - 0s 260us/sample - loss: 869261632.0000\n",
      "Epoch 59/500\n",
      "10/10 [==============================] - 0s 399us/sample - loss: 867917440.0000\n",
      "Epoch 60/500\n",
      "10/10 [==============================] - 0s 458us/sample - loss: 866584448.0000\n",
      "Epoch 61/500\n",
      "10/10 [==============================] - 0s 296us/sample - loss: 865262592.0000\n",
      "Epoch 62/500\n",
      "10/10 [==============================] - 0s 299us/sample - loss: 863952000.0000\n",
      "Epoch 63/500\n",
      "10/10 [==============================] - 0s 289us/sample - loss: 862652224.0000\n",
      "Epoch 64/500\n",
      "10/10 [==============================] - 0s 414us/sample - loss: 861363200.0000\n",
      "Epoch 65/500\n",
      "10/10 [==============================] - 0s 335us/sample - loss: 860085248.0000\n",
      "Epoch 66/500\n",
      "10/10 [==============================] - 0s 445us/sample - loss: 858817856.0000\n",
      "Epoch 67/500\n",
      "10/10 [==============================] - 0s 391us/sample - loss: 857561216.0000\n",
      "Epoch 68/500\n",
      "10/10 [==============================] - 0s 300us/sample - loss: 856314880.0000\n",
      "Epoch 69/500\n",
      "10/10 [==============================] - 0s 399us/sample - loss: 855079104.0000\n",
      "Epoch 70/500\n",
      "10/10 [==============================] - 0s 402us/sample - loss: 853853824.0000\n",
      "Epoch 71/500\n",
      "10/10 [==============================] - 0s 601us/sample - loss: 852638592.0000\n",
      "Epoch 72/500\n",
      "10/10 [==============================] - 0s 296us/sample - loss: 851433728.0000\n",
      "Epoch 73/500\n",
      "10/10 [==============================] - 0s 299us/sample - loss: 850238848.0000\n",
      "Epoch 74/500\n",
      "10/10 [==============================] - 0s 423us/sample - loss: 849054016.0000\n",
      "Epoch 75/500\n",
      "10/10 [==============================] - 0s 787us/sample - loss: 847879296.0000\n",
      "Epoch 76/500\n",
      "10/10 [==============================] - 0s 399us/sample - loss: 846714176.0000\n",
      "Epoch 77/500\n",
      "10/10 [==============================] - 0s 400us/sample - loss: 845558912.0000\n",
      "Epoch 78/500\n",
      "10/10 [==============================] - 0s 299us/sample - loss: 844413248.0000\n",
      "Epoch 79/500\n",
      "10/10 [==============================] - 0s 395us/sample - loss: 843277184.0000\n",
      "Epoch 80/500\n",
      "10/10 [==============================] - 0s 399us/sample - loss: 842150784.0000\n",
      "Epoch 81/500\n",
      "10/10 [==============================] - 0s 399us/sample - loss: 841033664.0000\n",
      "Epoch 82/500\n",
      "10/10 [==============================] - 0s 411us/sample - loss: 839926080.0000\n",
      "Epoch 83/500\n",
      "10/10 [==============================] - 0s 399us/sample - loss: 838827712.0000\n",
      "Epoch 84/500\n",
      "10/10 [==============================] - 0s 402us/sample - loss: 837738624.0000\n",
      "Epoch 85/500\n",
      "10/10 [==============================] - 0s 711us/sample - loss: 836658496.0000\n",
      "Epoch 86/500\n",
      "10/10 [==============================] - 0s 456us/sample - loss: 835587456.0000\n",
      "Epoch 87/500\n",
      "10/10 [==============================] - 0s 499us/sample - loss: 834525376.0000\n",
      "Epoch 88/500\n",
      "10/10 [==============================] - 0s 499us/sample - loss: 833472320.0000\n"
     ]
    },
    {
     "name": "stdout",
     "output_type": "stream",
     "text": [
      "Epoch 89/500\n",
      "10/10 [==============================] - 0s 356us/sample - loss: 832428096.0000\n",
      "Epoch 90/500\n",
      "10/10 [==============================] - 0s 399us/sample - loss: 831392512.0000\n",
      "Epoch 91/500\n",
      "10/10 [==============================] - 0s 399us/sample - loss: 830365568.0000\n",
      "Epoch 92/500\n",
      "10/10 [==============================] - 0s 406us/sample - loss: 829347328.0000\n",
      "Epoch 93/500\n",
      "10/10 [==============================] - 0s 328us/sample - loss: 828337600.0000\n",
      "Epoch 94/500\n",
      "10/10 [==============================] - 0s 334us/sample - loss: 827336384.0000\n",
      "Epoch 95/500\n",
      "10/10 [==============================] - 0s 296us/sample - loss: 826343552.0000\n",
      "Epoch 96/500\n",
      "10/10 [==============================] - 0s 394us/sample - loss: 825358976.0000\n",
      "Epoch 97/500\n",
      "10/10 [==============================] - 0s 605us/sample - loss: 824382720.0000\n",
      "Epoch 98/500\n",
      "10/10 [==============================] - 0s 331us/sample - loss: 823414592.0000\n",
      "Epoch 99/500\n",
      "10/10 [==============================] - 0s 386us/sample - loss: 822454592.0000\n",
      "Epoch 100/500\n",
      "10/10 [==============================] - 0s 399us/sample - loss: 821502592.0000\n",
      "Epoch 101/500\n",
      "10/10 [==============================] - 0s 399us/sample - loss: 820558464.0000\n",
      "Epoch 102/500\n",
      "10/10 [==============================] - 0s 299us/sample - loss: 819622528.0000\n",
      "Epoch 103/500\n",
      "10/10 [==============================] - 0s 525us/sample - loss: 818694336.0000\n",
      "Epoch 104/500\n",
      "10/10 [==============================] - 0s 787us/sample - loss: 817774016.0000\n",
      "Epoch 105/500\n",
      "10/10 [==============================] - 0s 367us/sample - loss: 816861248.0000\n",
      "Epoch 106/500\n",
      "10/10 [==============================] - 0s 399us/sample - loss: 815956160.0000\n",
      "Epoch 107/500\n",
      "10/10 [==============================] - 0s 289us/sample - loss: 815058560.0000\n",
      "Epoch 108/500\n",
      "10/10 [==============================] - 0s 541us/sample - loss: 814168704.0000\n",
      "Epoch 109/500\n",
      "10/10 [==============================] - 0s 399us/sample - loss: 813286144.0000\n",
      "Epoch 110/500\n",
      "10/10 [==============================] - 0s 396us/sample - loss: 812411136.0000\n",
      "Epoch 111/500\n",
      "10/10 [==============================] - 0s 598us/sample - loss: 811543360.0000\n",
      "Epoch 112/500\n",
      "10/10 [==============================] - 0s 300us/sample - loss: 810682752.0000\n",
      "Epoch 113/500\n",
      "10/10 [==============================] - 0s 399us/sample - loss: 809829504.0000\n",
      "Epoch 114/500\n",
      "10/10 [==============================] - 0s 299us/sample - loss: 808983360.0000\n",
      "Epoch 115/500\n",
      "10/10 [==============================] - 0s 305us/sample - loss: 808144320.0000\n",
      "Epoch 116/500\n",
      "10/10 [==============================] - 0s 299us/sample - loss: 807312256.0000\n",
      "Epoch 117/500\n",
      "10/10 [==============================] - 0s 399us/sample - loss: 806487232.0000\n",
      "Epoch 118/500\n",
      "10/10 [==============================] - 0s 317us/sample - loss: 805669184.0000\n",
      "Epoch 119/500\n",
      "10/10 [==============================] - 0s 303us/sample - loss: 804857856.0000\n",
      "Epoch 120/500\n",
      "10/10 [==============================] - 0s 299us/sample - loss: 804053376.0000\n",
      "Epoch 121/500\n",
      "10/10 [==============================] - 0s 273us/sample - loss: 803255680.0000\n",
      "Epoch 122/500\n",
      "10/10 [==============================] - 0s 356us/sample - loss: 802464640.0000\n",
      "Epoch 123/500\n",
      "10/10 [==============================] - 0s 386us/sample - loss: 801680192.0000\n",
      "Epoch 124/500\n",
      "10/10 [==============================] - 0s 518us/sample - loss: 800902464.0000\n",
      "Epoch 125/500\n",
      "10/10 [==============================] - 0s 290us/sample - loss: 800131072.0000\n",
      "Epoch 126/500\n",
      "10/10 [==============================] - 0s 195us/sample - loss: 799366336.0000\n",
      "Epoch 127/500\n",
      "10/10 [==============================] - 0s 200us/sample - loss: 798607808.0000\n",
      "Epoch 128/500\n",
      "10/10 [==============================] - 0s 306us/sample - loss: 797855744.0000\n",
      "Epoch 129/500\n",
      "10/10 [==============================] - 0s 399us/sample - loss: 797109952.0000\n",
      "Epoch 130/500\n",
      "10/10 [==============================] - 0s 299us/sample - loss: 796370432.0000\n",
      "Epoch 131/500\n",
      "10/10 [==============================] - 0s 399us/sample - loss: 795637120.0000\n",
      "Epoch 132/500\n",
      "10/10 [==============================] - 0s 299us/sample - loss: 794909888.0000\n",
      "Epoch 133/500\n",
      "10/10 [==============================] - 0s 253us/sample - loss: 794188928.0000\n",
      "Epoch 134/500\n",
      "10/10 [==============================] - 0s 294us/sample - loss: 793473856.0000\n",
      "Epoch 135/500\n",
      "10/10 [==============================] - 0s 399us/sample - loss: 792764736.0000\n",
      "Epoch 136/500\n",
      "10/10 [==============================] - 0s 313us/sample - loss: 792061760.0000\n",
      "Epoch 137/500\n",
      "10/10 [==============================] - 0s 246us/sample - loss: 791364480.0000\n",
      "Epoch 138/500\n",
      "10/10 [==============================] - 0s 299us/sample - loss: 790673088.0000\n",
      "Epoch 139/500\n",
      "10/10 [==============================] - 0s 308us/sample - loss: 789987584.0000\n",
      "Epoch 140/500\n",
      "10/10 [==============================] - 0s 221us/sample - loss: 789307776.0000\n",
      "Epoch 141/500\n",
      "10/10 [==============================] - 0s 219us/sample - loss: 788633600.0000\n",
      "Epoch 142/500\n",
      "10/10 [==============================] - 0s 298us/sample - loss: 787965120.0000\n",
      "Epoch 143/500\n",
      "10/10 [==============================] - 0s 194us/sample - loss: 787302208.0000\n",
      "Epoch 144/500\n",
      "10/10 [==============================] - 0s 307us/sample - loss: 786644864.0000\n",
      "Epoch 145/500\n",
      "10/10 [==============================] - 0s 200us/sample - loss: 785993088.0000\n",
      "Epoch 146/500\n",
      "10/10 [==============================] - 0s 199us/sample - loss: 785346688.0000\n",
      "Epoch 147/500\n",
      "10/10 [==============================] - 0s 307us/sample - loss: 784705856.0000\n",
      "Epoch 148/500\n",
      "10/10 [==============================] - 0s 287us/sample - loss: 784070208.0000\n",
      "Epoch 149/500\n",
      "10/10 [==============================] - 0s 296us/sample - loss: 783440000.0000\n",
      "Epoch 150/500\n",
      "10/10 [==============================] - 0s 347us/sample - loss: 782815104.0000\n",
      "Epoch 151/500\n",
      "10/10 [==============================] - 0s 250us/sample - loss: 782195328.0000\n",
      "Epoch 152/500\n",
      "10/10 [==============================] - 0s 196us/sample - loss: 781580800.0000\n",
      "Epoch 153/500\n",
      "10/10 [==============================] - 0s 202us/sample - loss: 780971392.0000\n",
      "Epoch 154/500\n",
      "10/10 [==============================] - 0s 354us/sample - loss: 780367168.0000\n",
      "Epoch 155/500\n",
      "10/10 [==============================] - 0s 299us/sample - loss: 779768000.0000\n",
      "Epoch 156/500\n",
      "10/10 [==============================] - 0s 299us/sample - loss: 779173760.0000\n",
      "Epoch 157/500\n",
      "10/10 [==============================] - 0s 254us/sample - loss: 778584704.0000\n",
      "Epoch 158/500\n",
      "10/10 [==============================] - 0s 310us/sample - loss: 778000448.0000\n",
      "Epoch 159/500\n",
      "10/10 [==============================] - 0s 279us/sample - loss: 777420992.0000\n",
      "Epoch 160/500\n",
      "10/10 [==============================] - 0s 406us/sample - loss: 776846464.0000\n",
      "Epoch 161/500\n",
      "10/10 [==============================] - 0s 299us/sample - loss: 776276800.0000\n",
      "Epoch 162/500\n",
      "10/10 [==============================] - 0s 299us/sample - loss: 775711936.0000\n",
      "Epoch 163/500\n",
      "10/10 [==============================] - 0s 399us/sample - loss: 775151744.0000\n",
      "Epoch 164/500\n",
      "10/10 [==============================] - 0s 299us/sample - loss: 774596224.0000\n",
      "Epoch 165/500\n",
      "10/10 [==============================] - 0s 278us/sample - loss: 774045440.0000\n",
      "Epoch 166/500\n",
      "10/10 [==============================] - 0s 199us/sample - loss: 773499264.0000\n",
      "Epoch 167/500\n",
      "10/10 [==============================] - 0s 199us/sample - loss: 772957568.0000\n",
      "Epoch 168/500\n",
      "10/10 [==============================] - 0s 200us/sample - loss: 772420480.0000\n",
      "Epoch 169/500\n",
      "10/10 [==============================] - 0s 256us/sample - loss: 771887936.0000\n",
      "Epoch 170/500\n",
      "10/10 [==============================] - 0s 315us/sample - loss: 771359872.0000\n",
      "Epoch 171/500\n",
      "10/10 [==============================] - 0s 271us/sample - loss: 770836096.0000\n",
      "Epoch 172/500\n",
      "10/10 [==============================] - 0s 511us/sample - loss: 770316800.0000\n",
      "Epoch 173/500\n",
      "10/10 [==============================] - 0s 295us/sample - loss: 769801856.0000\n",
      "Epoch 174/500\n",
      "10/10 [==============================] - 0s 200us/sample - loss: 769291136.0000\n",
      "Epoch 175/500\n",
      "10/10 [==============================] - 0s 122us/sample - loss: 768784768.0000\n",
      "Epoch 176/500\n",
      "10/10 [==============================] - 0s 299us/sample - loss: 768282688.0000\n"
     ]
    },
    {
     "name": "stdout",
     "output_type": "stream",
     "text": [
      "Epoch 177/500\n",
      "10/10 [==============================] - 0s 313us/sample - loss: 767784768.0000\n",
      "Epoch 178/500\n",
      "10/10 [==============================] - 0s 307us/sample - loss: 767291072.0000\n",
      "Epoch 179/500\n",
      "10/10 [==============================] - 0s 277us/sample - loss: 766801536.0000\n",
      "Epoch 180/500\n",
      "10/10 [==============================] - 0s 303us/sample - loss: 766315904.0000\n",
      "Epoch 181/500\n",
      "10/10 [==============================] - 0s 300us/sample - loss: 765834560.0000\n",
      "Epoch 182/500\n",
      "10/10 [==============================] - 0s 296us/sample - loss: 765357184.0000\n",
      "Epoch 183/500\n",
      "10/10 [==============================] - 0s 399us/sample - loss: 764883776.0000\n",
      "Epoch 184/500\n",
      "10/10 [==============================] - 0s 308us/sample - loss: 764414336.0000\n",
      "Epoch 185/500\n",
      "10/10 [==============================] - 0s 201us/sample - loss: 763948864.0000\n",
      "Epoch 186/500\n",
      "10/10 [==============================] - 0s 498us/sample - loss: 763487232.0000\n",
      "Epoch 187/500\n",
      "10/10 [==============================] - 0s 299us/sample - loss: 763029504.0000\n",
      "Epoch 188/500\n",
      "10/10 [==============================] - 0s 518us/sample - loss: 762575616.0000\n",
      "Epoch 189/500\n",
      "10/10 [==============================] - 0s 396us/sample - loss: 762125568.0000\n",
      "Epoch 190/500\n",
      "10/10 [==============================] - 0s 290us/sample - loss: 761679232.0000\n",
      "Epoch 191/500\n",
      "10/10 [==============================] - 0s 284us/sample - loss: 761236608.0000\n",
      "Epoch 192/500\n",
      "10/10 [==============================] - 0s 402us/sample - loss: 760797824.0000\n",
      "Epoch 193/500\n",
      "10/10 [==============================] - 0s 402us/sample - loss: 760362624.0000\n",
      "Epoch 194/500\n",
      "10/10 [==============================] - 0s 312us/sample - loss: 759931136.0000\n",
      "Epoch 195/500\n",
      "10/10 [==============================] - 0s 482us/sample - loss: 759503168.0000\n",
      "Epoch 196/500\n",
      "10/10 [==============================] - 0s 522us/sample - loss: 759078848.0000\n",
      "Epoch 197/500\n",
      "10/10 [==============================] - 0s 303us/sample - loss: 758658112.0000\n",
      "Epoch 198/500\n",
      "10/10 [==============================] - 0s 377us/sample - loss: 758240896.0000\n",
      "Epoch 199/500\n",
      "10/10 [==============================] - 0s 320us/sample - loss: 757827136.0000\n",
      "Epoch 200/500\n",
      "10/10 [==============================] - 0s 303us/sample - loss: 757416832.0000\n",
      "Epoch 201/500\n",
      "10/10 [==============================] - 0s 498us/sample - loss: 757010048.0000\n",
      "Epoch 202/500\n",
      "10/10 [==============================] - 0s 443us/sample - loss: 756606528.0000\n",
      "Epoch 203/500\n",
      "10/10 [==============================] - 0s 399us/sample - loss: 756206592.0000\n",
      "Epoch 204/500\n",
      "10/10 [==============================] - 0s 472us/sample - loss: 755809856.0000\n",
      "Epoch 205/500\n",
      "10/10 [==============================] - 0s 403us/sample - loss: 755416384.0000\n",
      "Epoch 206/500\n",
      "10/10 [==============================] - 0s 299us/sample - loss: 755026304.0000\n",
      "Epoch 207/500\n",
      "10/10 [==============================] - 0s 499us/sample - loss: 754639552.0000\n",
      "Epoch 208/500\n",
      "10/10 [==============================] - 0s 399us/sample - loss: 754256000.0000\n",
      "Epoch 209/500\n",
      "10/10 [==============================] - 0s 373us/sample - loss: 753875648.0000\n",
      "Epoch 210/500\n",
      "10/10 [==============================] - 0s 399us/sample - loss: 753498496.0000\n",
      "Epoch 211/500\n",
      "10/10 [==============================] - 0s 902us/sample - loss: 753124544.0000\n",
      "Epoch 212/500\n",
      "10/10 [==============================] - 0s 499us/sample - loss: 752753664.0000\n",
      "Epoch 213/500\n",
      "10/10 [==============================] - 0s 517us/sample - loss: 752385920.0000\n",
      "Epoch 214/500\n",
      "10/10 [==============================] - 0s 356us/sample - loss: 752021184.0000\n",
      "Epoch 215/500\n",
      "10/10 [==============================] - 0s 591us/sample - loss: 751659648.0000\n",
      "Epoch 216/500\n",
      "10/10 [==============================] - 0s 371us/sample - loss: 751301056.0000\n",
      "Epoch 217/500\n",
      "10/10 [==============================] - 0s 399us/sample - loss: 750945408.0000\n",
      "Epoch 218/500\n",
      "10/10 [==============================] - 0s 299us/sample - loss: 750592896.0000\n",
      "Epoch 219/500\n",
      "10/10 [==============================] - 0s 515us/sample - loss: 750243200.0000\n",
      "Epoch 220/500\n",
      "10/10 [==============================] - 0s 399us/sample - loss: 749896512.0000\n",
      "Epoch 221/500\n",
      "10/10 [==============================] - 0s 392us/sample - loss: 749552640.0000\n",
      "Epoch 222/500\n",
      "10/10 [==============================] - 0s 299us/sample - loss: 749211776.0000\n",
      "Epoch 223/500\n",
      "10/10 [==============================] - 0s 197us/sample - loss: 748873600.0000\n",
      "Epoch 224/500\n",
      "10/10 [==============================] - 0s 303us/sample - loss: 748538496.0000\n",
      "Epoch 225/500\n",
      "10/10 [==============================] - 0s 276us/sample - loss: 748206080.0000\n",
      "Epoch 226/500\n",
      "10/10 [==============================] - 0s 299us/sample - loss: 747876416.0000\n",
      "Epoch 227/500\n",
      "10/10 [==============================] - 0s 302us/sample - loss: 747549568.0000\n",
      "Epoch 228/500\n",
      "10/10 [==============================] - 0s 279us/sample - loss: 747225408.0000\n",
      "Epoch 229/500\n",
      "10/10 [==============================] - 0s 317us/sample - loss: 746903936.0000\n",
      "Epoch 230/500\n",
      "10/10 [==============================] - 0s 298us/sample - loss: 746585216.0000\n",
      "Epoch 231/500\n",
      "10/10 [==============================] - 0s 270us/sample - loss: 746269184.0000\n",
      "Epoch 232/500\n",
      "10/10 [==============================] - 0s 295us/sample - loss: 745955776.0000\n",
      "Epoch 233/500\n",
      "10/10 [==============================] - 0s 200us/sample - loss: 745644992.0000\n",
      "Epoch 234/500\n",
      "10/10 [==============================] - 0s 396us/sample - loss: 745336896.0000\n",
      "Epoch 235/500\n",
      "10/10 [==============================] - 0s 216us/sample - loss: 745031232.0000\n",
      "Epoch 236/500\n",
      "10/10 [==============================] - 0s 499us/sample - loss: 744728192.0000\n",
      "Epoch 237/500\n",
      "10/10 [==============================] - 0s 400us/sample - loss: 744427712.0000\n",
      "Epoch 238/500\n",
      "10/10 [==============================] - 0s 390us/sample - loss: 744129728.0000\n",
      "Epoch 239/500\n",
      "10/10 [==============================] - 0s 299us/sample - loss: 743834304.0000\n",
      "Epoch 240/500\n",
      "10/10 [==============================] - 0s 346us/sample - loss: 743541312.0000\n",
      "Epoch 241/500\n",
      "10/10 [==============================] - 0s 499us/sample - loss: 743250752.0000\n",
      "Epoch 242/500\n",
      "10/10 [==============================] - 0s 199us/sample - loss: 742962560.0000\n",
      "Epoch 243/500\n",
      "10/10 [==============================] - 0s 301us/sample - loss: 742676928.0000\n",
      "Epoch 244/500\n",
      "10/10 [==============================] - 0s 285us/sample - loss: 742393664.0000\n",
      "Epoch 245/500\n",
      "10/10 [==============================] - 0s 299us/sample - loss: 742112768.0000\n",
      "Epoch 246/500\n",
      "10/10 [==============================] - 0s 192us/sample - loss: 741834112.0000\n",
      "Epoch 247/500\n",
      "10/10 [==============================] - 0s 298us/sample - loss: 741557888.0000\n",
      "Epoch 248/500\n",
      "10/10 [==============================] - 0s 312us/sample - loss: 741283968.0000\n",
      "Epoch 249/500\n",
      "10/10 [==============================] - 0s 199us/sample - loss: 741012352.0000\n",
      "Epoch 250/500\n",
      "10/10 [==============================] - 0s 299us/sample - loss: 740743040.0000\n",
      "Epoch 251/500\n",
      "10/10 [==============================] - 0s 203us/sample - loss: 740475904.0000\n",
      "Epoch 252/500\n",
      "10/10 [==============================] - 0s 299us/sample - loss: 740211072.0000\n",
      "Epoch 253/500\n",
      "10/10 [==============================] - 0s 318us/sample - loss: 739948416.0000\n",
      "Epoch 254/500\n",
      "10/10 [==============================] - 0s 199us/sample - loss: 739688000.0000\n",
      "Epoch 255/500\n",
      "10/10 [==============================] - 0s 503us/sample - loss: 739429760.0000\n",
      "Epoch 256/500\n",
      "10/10 [==============================] - 0s 299us/sample - loss: 739173632.0000\n",
      "Epoch 257/500\n",
      "10/10 [==============================] - 0s 296us/sample - loss: 738919744.0000\n",
      "Epoch 258/500\n",
      "10/10 [==============================] - 0s 403us/sample - loss: 738667904.0000\n",
      "Epoch 259/500\n",
      "10/10 [==============================] - 0s 296us/sample - loss: 738418304.0000\n",
      "Epoch 260/500\n",
      "10/10 [==============================] - 0s 296us/sample - loss: 738170624.0000\n",
      "Epoch 261/500\n",
      "10/10 [==============================] - 0s 199us/sample - loss: 737924992.0000\n",
      "Epoch 262/500\n",
      "10/10 [==============================] - 0s 213us/sample - loss: 737681600.0000\n",
      "Epoch 263/500\n",
      "10/10 [==============================] - 0s 299us/sample - loss: 737440128.0000\n",
      "Epoch 264/500\n",
      "10/10 [==============================] - 0s 422us/sample - loss: 737200768.0000\n"
     ]
    },
    {
     "name": "stdout",
     "output_type": "stream",
     "text": [
      "Epoch 265/500\n",
      "10/10 [==============================] - 0s 293us/sample - loss: 736963328.0000\n",
      "Epoch 266/500\n",
      "10/10 [==============================] - 0s 299us/sample - loss: 736727936.0000\n",
      "Epoch 267/500\n",
      "10/10 [==============================] - 0s 299us/sample - loss: 736494464.0000\n",
      "Epoch 268/500\n",
      "10/10 [==============================] - 0s 295us/sample - loss: 736263040.0000\n",
      "Epoch 269/500\n",
      "10/10 [==============================] - 0s 297us/sample - loss: 736033472.0000\n",
      "Epoch 270/500\n",
      "10/10 [==============================] - 0s 391us/sample - loss: 735805888.0000\n",
      "Epoch 271/500\n",
      "10/10 [==============================] - 0s 296us/sample - loss: 735580224.0000\n",
      "Epoch 272/500\n",
      "10/10 [==============================] - 0s 302us/sample - loss: 735356416.0000\n",
      "Epoch 273/500\n",
      "10/10 [==============================] - 0s 399us/sample - loss: 735134336.0000\n",
      "Epoch 274/500\n",
      "10/10 [==============================] - 0s 291us/sample - loss: 734914368.0000\n",
      "Epoch 275/500\n",
      "10/10 [==============================] - 0s 299us/sample - loss: 734696128.0000\n",
      "Epoch 276/500\n",
      "10/10 [==============================] - 0s 396us/sample - loss: 734479744.0000\n",
      "Epoch 277/500\n",
      "10/10 [==============================] - 0s 491us/sample - loss: 734265152.0000\n",
      "Epoch 278/500\n",
      "10/10 [==============================] - 0s 598us/sample - loss: 734052288.0000\n",
      "Epoch 279/500\n",
      "10/10 [==============================] - 0s 392us/sample - loss: 733841280.0000\n",
      "Epoch 280/500\n",
      "10/10 [==============================] - 0s 399us/sample - loss: 733632064.0000\n",
      "Epoch 281/500\n",
      "10/10 [==============================] - 0s 501us/sample - loss: 733424640.0000\n",
      "Epoch 282/500\n",
      "10/10 [==============================] - 0s 499us/sample - loss: 733218816.0000\n",
      "Epoch 283/500\n",
      "10/10 [==============================] - 0s 399us/sample - loss: 733014848.0000\n",
      "Epoch 284/500\n",
      "10/10 [==============================] - 0s 399us/sample - loss: 732812480.0000\n",
      "Epoch 285/500\n",
      "10/10 [==============================] - 0s 416us/sample - loss: 732611904.0000\n",
      "Epoch 286/500\n",
      "10/10 [==============================] - 0s 477us/sample - loss: 732412928.0000\n",
      "Epoch 287/500\n",
      "10/10 [==============================] - 0s 411us/sample - loss: 732215680.0000\n",
      "Epoch 288/500\n",
      "10/10 [==============================] - 0s 399us/sample - loss: 732020032.0000\n",
      "Epoch 289/500\n",
      "10/10 [==============================] - 0s 399us/sample - loss: 731826112.0000\n",
      "Epoch 290/500\n",
      "10/10 [==============================] - 0s 393us/sample - loss: 731633664.0000\n",
      "Epoch 291/500\n",
      "10/10 [==============================] - 0s 396us/sample - loss: 731443008.0000\n",
      "Epoch 292/500\n",
      "10/10 [==============================] - 0s 399us/sample - loss: 731253824.0000\n",
      "Epoch 293/500\n",
      "10/10 [==============================] - 0s 392us/sample - loss: 731066240.0000\n",
      "Epoch 294/500\n",
      "10/10 [==============================] - 0s 399us/sample - loss: 730880320.0000\n",
      "Epoch 295/500\n",
      "10/10 [==============================] - 0s 229us/sample - loss: 730695872.0000\n",
      "Epoch 296/500\n",
      "10/10 [==============================] - 0s 540us/sample - loss: 730513024.0000\n",
      "Epoch 297/500\n",
      "10/10 [==============================] - 0s 341us/sample - loss: 730331584.0000\n",
      "Epoch 298/500\n",
      "10/10 [==============================] - 0s 279us/sample - loss: 730151808.0000\n",
      "Epoch 299/500\n",
      "10/10 [==============================] - 0s 291us/sample - loss: 729973440.0000\n",
      "Epoch 300/500\n",
      "10/10 [==============================] - 0s 399us/sample - loss: 729796736.0000\n",
      "Epoch 301/500\n",
      "10/10 [==============================] - 0s 499us/sample - loss: 729621248.0000\n",
      "Epoch 302/500\n",
      "10/10 [==============================] - 0s 498us/sample - loss: 729447424.0000\n",
      "Epoch 303/500\n",
      "10/10 [==============================] - 0s 323us/sample - loss: 729275008.0000\n",
      "Epoch 304/500\n",
      "10/10 [==============================] - 0s 292us/sample - loss: 729104064.0000\n",
      "Epoch 305/500\n",
      "10/10 [==============================] - 0s 399us/sample - loss: 728934528.0000\n",
      "Epoch 306/500\n",
      "10/10 [==============================] - 0s 310us/sample - loss: 728766336.0000\n",
      "Epoch 307/500\n",
      "10/10 [==============================] - 0s 296us/sample - loss: 728599744.0000\n",
      "Epoch 308/500\n",
      "10/10 [==============================] - 0s 427us/sample - loss: 728434304.0000\n",
      "Epoch 309/500\n",
      "10/10 [==============================] - 0s 300us/sample - loss: 728270464.0000\n",
      "Epoch 310/500\n",
      "10/10 [==============================] - 0s 484us/sample - loss: 728107904.0000\n",
      "Epoch 311/500\n",
      "10/10 [==============================] - 0s 389us/sample - loss: 727946688.0000\n",
      "Epoch 312/500\n",
      "10/10 [==============================] - 0s 393us/sample - loss: 727786880.0000\n",
      "Epoch 313/500\n",
      "10/10 [==============================] - 0s 452us/sample - loss: 727628416.0000\n",
      "Epoch 314/500\n",
      "10/10 [==============================] - 0s 443us/sample - loss: 727471232.0000\n",
      "Epoch 315/500\n",
      "10/10 [==============================] - 0s 299us/sample - loss: 727315392.0000\n",
      "Epoch 316/500\n",
      "10/10 [==============================] - 0s 268us/sample - loss: 727160832.0000\n",
      "Epoch 317/500\n",
      "10/10 [==============================] - 0s 302us/sample - loss: 727007616.0000\n",
      "Epoch 318/500\n",
      "10/10 [==============================] - 0s 384us/sample - loss: 726855616.0000\n",
      "Epoch 319/500\n",
      "10/10 [==============================] - 0s 352us/sample - loss: 726704960.0000\n",
      "Epoch 320/500\n",
      "10/10 [==============================] - 0s 307us/sample - loss: 726555520.0000\n",
      "Epoch 321/500\n",
      "10/10 [==============================] - 0s 299us/sample - loss: 726407296.0000\n",
      "Epoch 322/500\n",
      "10/10 [==============================] - 0s 270us/sample - loss: 726260352.0000\n",
      "Epoch 323/500\n",
      "10/10 [==============================] - 0s 363us/sample - loss: 726114688.0000\n",
      "Epoch 324/500\n",
      "10/10 [==============================] - 0s 403us/sample - loss: 725970112.0000\n",
      "Epoch 325/500\n",
      "10/10 [==============================] - 0s 598us/sample - loss: 725826944.0000\n",
      "Epoch 326/500\n",
      "10/10 [==============================] - 0s 299us/sample - loss: 725684864.0000\n",
      "Epoch 327/500\n",
      "10/10 [==============================] - 0s 299us/sample - loss: 725544000.0000\n",
      "Epoch 328/500\n",
      "10/10 [==============================] - 0s 312us/sample - loss: 725404288.0000\n",
      "Epoch 329/500\n",
      "10/10 [==============================] - 0s 402us/sample - loss: 725265728.0000\n",
      "Epoch 330/500\n",
      "10/10 [==============================] - 0s 355us/sample - loss: 725128384.0000\n",
      "Epoch 331/500\n",
      "10/10 [==============================] - 0s 199us/sample - loss: 724992256.0000\n",
      "Epoch 332/500\n",
      "10/10 [==============================] - 0s 399us/sample - loss: 724857088.0000\n",
      "Epoch 333/500\n",
      "10/10 [==============================] - 0s 538us/sample - loss: 724723072.0000\n",
      "Epoch 334/500\n",
      "10/10 [==============================] - 0s 299us/sample - loss: 724590208.0000\n",
      "Epoch 335/500\n",
      "10/10 [==============================] - 0s 200us/sample - loss: 724458624.0000\n",
      "Epoch 336/500\n",
      "10/10 [==============================] - 0s 302us/sample - loss: 724328000.0000\n",
      "Epoch 337/500\n",
      "10/10 [==============================] - 0s 295us/sample - loss: 724198528.0000\n",
      "Epoch 338/500\n",
      "10/10 [==============================] - 0s 296us/sample - loss: 724070016.0000\n",
      "Epoch 339/500\n",
      "10/10 [==============================] - 0s 295us/sample - loss: 723942784.0000\n",
      "Epoch 340/500\n",
      "10/10 [==============================] - 0s 299us/sample - loss: 723816448.0000\n",
      "Epoch 341/500\n",
      "10/10 [==============================] - 0s 304us/sample - loss: 723691264.0000\n",
      "Epoch 342/500\n",
      "10/10 [==============================] - 0s 702us/sample - loss: 723567040.0000\n",
      "Epoch 343/500\n",
      "10/10 [==============================] - 0s 296us/sample - loss: 723443904.0000\n",
      "Epoch 344/500\n",
      "10/10 [==============================] - 0s 296us/sample - loss: 723321856.0000\n",
      "Epoch 345/500\n",
      "10/10 [==============================] - 0s 299us/sample - loss: 723200704.0000\n",
      "Epoch 346/500\n",
      "10/10 [==============================] - 0s 307us/sample - loss: 723080704.0000\n",
      "Epoch 347/500\n",
      "10/10 [==============================] - 0s 398us/sample - loss: 722961728.0000\n",
      "Epoch 348/500\n",
      "10/10 [==============================] - 0s 374us/sample - loss: 722843648.0000\n",
      "Epoch 349/500\n",
      "10/10 [==============================] - 0s 303us/sample - loss: 722726528.0000\n",
      "Epoch 350/500\n",
      "10/10 [==============================] - 0s 598us/sample - loss: 722610496.0000\n",
      "Epoch 351/500\n",
      "10/10 [==============================] - 0s 380us/sample - loss: 722495360.0000\n",
      "Epoch 352/500\n",
      "10/10 [==============================] - 0s 319us/sample - loss: 722381184.0000\n"
     ]
    },
    {
     "name": "stdout",
     "output_type": "stream",
     "text": [
      "Epoch 353/500\n",
      "10/10 [==============================] - 0s 391us/sample - loss: 722267968.0000\n",
      "Epoch 354/500\n",
      "10/10 [==============================] - 0s 259us/sample - loss: 722155840.0000\n",
      "Epoch 355/500\n",
      "10/10 [==============================] - 0s 399us/sample - loss: 722044416.0000\n",
      "Epoch 356/500\n",
      "10/10 [==============================] - 0s 399us/sample - loss: 721934144.0000\n",
      "Epoch 357/500\n",
      "10/10 [==============================] - 0s 399us/sample - loss: 721824704.0000\n",
      "Epoch 358/500\n",
      "10/10 [==============================] - 0s 400us/sample - loss: 721716096.0000\n",
      "Epoch 359/500\n",
      "10/10 [==============================] - 0s 598us/sample - loss: 721608512.0000\n",
      "Epoch 360/500\n",
      "10/10 [==============================] - 0s 403us/sample - loss: 721501824.0000\n",
      "Epoch 361/500\n",
      "10/10 [==============================] - 0s 603us/sample - loss: 721395968.0000\n",
      "Epoch 362/500\n",
      "10/10 [==============================] - 0s 399us/sample - loss: 721291072.0000\n",
      "Epoch 363/500\n",
      "10/10 [==============================] - 0s 381us/sample - loss: 721187008.0000\n",
      "Epoch 364/500\n",
      "10/10 [==============================] - 0s 399us/sample - loss: 721083776.0000\n",
      "Epoch 365/500\n",
      "10/10 [==============================] - 0s 698us/sample - loss: 720981440.0000\n",
      "Epoch 366/500\n",
      "10/10 [==============================] - 0s 499us/sample - loss: 720880128.0000\n",
      "Epoch 367/500\n",
      "10/10 [==============================] - 0s 605us/sample - loss: 720779392.0000\n",
      "Epoch 368/500\n",
      "10/10 [==============================] - 0s 320us/sample - loss: 720679616.0000\n",
      "Epoch 369/500\n",
      "10/10 [==============================] - 0s 392us/sample - loss: 720580736.0000\n",
      "Epoch 370/500\n",
      "10/10 [==============================] - 0s 374us/sample - loss: 720482624.0000\n",
      "Epoch 371/500\n",
      "10/10 [==============================] - 0s 393us/sample - loss: 720385344.0000\n",
      "Epoch 372/500\n",
      "10/10 [==============================] - 0s 598us/sample - loss: 720288896.0000\n",
      "Epoch 373/500\n",
      "10/10 [==============================] - 0s 303us/sample - loss: 720193216.0000\n",
      "Epoch 374/500\n",
      "10/10 [==============================] - 0s 422us/sample - loss: 720098432.0000\n",
      "Epoch 375/500\n",
      "10/10 [==============================] - 0s 402us/sample - loss: 720004416.0000\n",
      "Epoch 376/500\n",
      "10/10 [==============================] - 0s 302us/sample - loss: 719911104.0000\n",
      "Epoch 377/500\n",
      "10/10 [==============================] - 0s 499us/sample - loss: 719818624.0000\n",
      "Epoch 378/500\n",
      "10/10 [==============================] - 0s 294us/sample - loss: 719726912.0000\n",
      "Epoch 379/500\n",
      "10/10 [==============================] - 0s 300us/sample - loss: 719635968.0000\n",
      "Epoch 380/500\n",
      "10/10 [==============================] - 0s 688us/sample - loss: 719545728.0000\n",
      "Epoch 381/500\n",
      "10/10 [==============================] - 0s 296us/sample - loss: 719456320.0000\n",
      "Epoch 382/500\n",
      "10/10 [==============================] - 0s 394us/sample - loss: 719367552.0000\n",
      "Epoch 383/500\n",
      "10/10 [==============================] - 0s 299us/sample - loss: 719279744.0000\n",
      "Epoch 384/500\n",
      "10/10 [==============================] - 0s 399us/sample - loss: 719192448.0000\n",
      "Epoch 385/500\n",
      "10/10 [==============================] - 0s 399us/sample - loss: 719106048.0000\n",
      "Epoch 386/500\n",
      "10/10 [==============================] - 0s 399us/sample - loss: 719020352.0000\n",
      "Epoch 387/500\n",
      "10/10 [==============================] - 0s 300us/sample - loss: 718935296.0000\n",
      "Epoch 388/500\n",
      "10/10 [==============================] - 0s 389us/sample - loss: 718850944.0000\n",
      "Epoch 389/500\n",
      "10/10 [==============================] - 0s 299us/sample - loss: 718767488.0000\n",
      "Epoch 390/500\n",
      "10/10 [==============================] - 0s 498us/sample - loss: 718684544.0000\n",
      "Epoch 391/500\n",
      "10/10 [==============================] - 0s 302us/sample - loss: 718602304.0000\n",
      "Epoch 392/500\n",
      "10/10 [==============================] - 0s 399us/sample - loss: 718520832.0000\n",
      "Epoch 393/500\n",
      "10/10 [==============================] - 0s 502us/sample - loss: 718439936.0000\n",
      "Epoch 394/500\n",
      "10/10 [==============================] - 0s 354us/sample - loss: 718359680.0000\n",
      "Epoch 395/500\n",
      "10/10 [==============================] - 0s 403us/sample - loss: 718280320.0000\n",
      "Epoch 396/500\n",
      "10/10 [==============================] - 0s 498us/sample - loss: 718201472.0000\n",
      "Epoch 397/500\n",
      "10/10 [==============================] - 0s 307us/sample - loss: 718123264.0000\n",
      "Epoch 398/500\n",
      "10/10 [==============================] - 0s 299us/sample - loss: 718045824.0000\n",
      "Epoch 399/500\n",
      "10/10 [==============================] - 0s 351us/sample - loss: 717969024.0000\n",
      "Epoch 400/500\n",
      "10/10 [==============================] - 0s 300us/sample - loss: 717892736.0000\n",
      "Epoch 401/500\n",
      "10/10 [==============================] - 0s 390us/sample - loss: 717817152.0000\n",
      "Epoch 402/500\n",
      "10/10 [==============================] - 0s 299us/sample - loss: 717742208.0000\n",
      "Epoch 403/500\n",
      "10/10 [==============================] - 0s 300us/sample - loss: 717667968.0000\n",
      "Epoch 404/500\n",
      "10/10 [==============================] - 0s 299us/sample - loss: 717594240.0000\n",
      "Epoch 405/500\n",
      "10/10 [==============================] - 0s 315us/sample - loss: 717521152.0000\n",
      "Epoch 406/500\n",
      "10/10 [==============================] - 0s 369us/sample - loss: 717448768.0000\n",
      "Epoch 407/500\n",
      "10/10 [==============================] - 0s 305us/sample - loss: 717376832.0000\n",
      "Epoch 408/500\n",
      "10/10 [==============================] - 0s 503us/sample - loss: 717305664.0000\n",
      "Epoch 409/500\n",
      "10/10 [==============================] - 0s 298us/sample - loss: 717235008.0000\n",
      "Epoch 410/500\n",
      "10/10 [==============================] - 0s 339us/sample - loss: 717164928.0000\n",
      "Epoch 411/500\n",
      "10/10 [==============================] - 0s 254us/sample - loss: 717095360.0000\n",
      "Epoch 412/500\n",
      "10/10 [==============================] - 0s 299us/sample - loss: 717026560.0000\n",
      "Epoch 413/500\n",
      "10/10 [==============================] - 0s 199us/sample - loss: 716958208.0000\n",
      "Epoch 414/500\n",
      "10/10 [==============================] - 0s 299us/sample - loss: 716890496.0000\n",
      "Epoch 415/500\n",
      "10/10 [==============================] - 0s 313us/sample - loss: 716823360.0000\n",
      "Epoch 416/500\n",
      "10/10 [==============================] - 0s 199us/sample - loss: 716756672.0000\n",
      "Epoch 417/500\n",
      "10/10 [==============================] - 0s 307us/sample - loss: 716690688.0000\n",
      "Epoch 418/500\n",
      "10/10 [==============================] - 0s 195us/sample - loss: 716625216.0000\n",
      "Epoch 419/500\n",
      "10/10 [==============================] - 0s 297us/sample - loss: 716560192.0000\n",
      "Epoch 420/500\n",
      "10/10 [==============================] - 0s 477us/sample - loss: 716495808.0000\n",
      "Epoch 421/500\n",
      "10/10 [==============================] - 0s 299us/sample - loss: 716432000.0000\n",
      "Epoch 422/500\n",
      "10/10 [==============================] - 0s 299us/sample - loss: 716368704.0000\n",
      "Epoch 423/500\n",
      "10/10 [==============================] - 0s 200us/sample - loss: 716305792.0000\n",
      "Epoch 424/500\n",
      "10/10 [==============================] - 0s 555us/sample - loss: 716243584.0000\n",
      "Epoch 425/500\n",
      "10/10 [==============================] - 0s 296us/sample - loss: 716181824.0000\n",
      "Epoch 426/500\n",
      "10/10 [==============================] - 0s 299us/sample - loss: 716120576.0000\n",
      "Epoch 427/500\n",
      "10/10 [==============================] - 0s 315us/sample - loss: 716059840.0000\n",
      "Epoch 428/500\n",
      "10/10 [==============================] - 0s 311us/sample - loss: 715999616.0000\n",
      "Epoch 429/500\n",
      "10/10 [==============================] - 0s 302us/sample - loss: 715939968.0000\n",
      "Epoch 430/500\n",
      "10/10 [==============================] - 0s 299us/sample - loss: 715880768.0000\n",
      "Epoch 431/500\n",
      "10/10 [==============================] - 0s 359us/sample - loss: 715822080.0000\n",
      "Epoch 432/500\n",
      "10/10 [==============================] - 0s 303us/sample - loss: 715763904.0000\n",
      "Epoch 433/500\n",
      "10/10 [==============================] - 0s 299us/sample - loss: 715706176.0000\n",
      "Epoch 434/500\n",
      "10/10 [==============================] - 0s 399us/sample - loss: 715648896.0000\n",
      "Epoch 435/500\n",
      "10/10 [==============================] - 0s 299us/sample - loss: 715592064.0000\n",
      "Epoch 436/500\n",
      "10/10 [==============================] - 0s 299us/sample - loss: 715535808.0000\n",
      "Epoch 437/500\n",
      "10/10 [==============================] - 0s 399us/sample - loss: 715479936.0000\n",
      "Epoch 438/500\n",
      "10/10 [==============================] - 0s 349us/sample - loss: 715424640.0000\n",
      "Epoch 439/500\n",
      "10/10 [==============================] - 0s 388us/sample - loss: 715369664.0000\n",
      "Epoch 440/500\n",
      "10/10 [==============================] - 0s 344us/sample - loss: 715315328.0000\n"
     ]
    },
    {
     "name": "stdout",
     "output_type": "stream",
     "text": [
      "Epoch 441/500\n",
      "10/10 [==============================] - 0s 399us/sample - loss: 715261376.0000\n",
      "Epoch 442/500\n",
      "10/10 [==============================] - 0s 299us/sample - loss: 715207936.0000\n",
      "Epoch 443/500\n",
      "10/10 [==============================] - 0s 358us/sample - loss: 715154752.0000\n",
      "Epoch 444/500\n",
      "10/10 [==============================] - 0s 299us/sample - loss: 715102080.0000\n",
      "Epoch 445/500\n",
      "10/10 [==============================] - 0s 368us/sample - loss: 715049984.0000\n",
      "Epoch 446/500\n",
      "10/10 [==============================] - 0s 296us/sample - loss: 714998208.0000\n",
      "Epoch 447/500\n",
      "10/10 [==============================] - 0s 195us/sample - loss: 714946944.0000\n",
      "Epoch 448/500\n",
      "10/10 [==============================] - 0s 296us/sample - loss: 714896064.0000\n",
      "Epoch 449/500\n",
      "10/10 [==============================] - 0s 299us/sample - loss: 714845568.0000\n",
      "Epoch 450/500\n",
      "10/10 [==============================] - 0s 300us/sample - loss: 714795520.0000\n",
      "Epoch 451/500\n",
      "10/10 [==============================] - 0s 299us/sample - loss: 714745984.0000\n",
      "Epoch 452/500\n",
      "10/10 [==============================] - 0s 411us/sample - loss: 714696832.0000\n",
      "Epoch 453/500\n",
      "10/10 [==============================] - 0s 311us/sample - loss: 714647936.0000\n",
      "Epoch 454/500\n",
      "10/10 [==============================] - 0s 295us/sample - loss: 714599680.0000\n",
      "Epoch 455/500\n",
      "10/10 [==============================] - 0s 499us/sample - loss: 714551552.0000\n",
      "Epoch 456/500\n",
      "10/10 [==============================] - 0s 199us/sample - loss: 714504000.0000\n",
      "Epoch 457/500\n",
      "10/10 [==============================] - 0s 399us/sample - loss: 714456960.0000\n",
      "Epoch 458/500\n",
      "10/10 [==============================] - 0s 289us/sample - loss: 714410176.0000\n",
      "Epoch 459/500\n",
      "10/10 [==============================] - 0s 305us/sample - loss: 714363776.0000\n",
      "Epoch 460/500\n",
      "10/10 [==============================] - 0s 299us/sample - loss: 714317760.0000\n",
      "Epoch 461/500\n",
      "10/10 [==============================] - 0s 294us/sample - loss: 714272128.0000\n",
      "Epoch 462/500\n",
      "10/10 [==============================] - 0s 299us/sample - loss: 714226880.0000\n",
      "Epoch 463/500\n",
      "10/10 [==============================] - 0s 300us/sample - loss: 714182016.0000\n",
      "Epoch 464/500\n",
      "10/10 [==============================] - 0s 254us/sample - loss: 714137664.0000\n",
      "Epoch 465/500\n",
      "10/10 [==============================] - 0s 299us/sample - loss: 714093568.0000\n",
      "Epoch 466/500\n",
      "10/10 [==============================] - 0s 399us/sample - loss: 714049792.0000\n",
      "Epoch 467/500\n",
      "10/10 [==============================] - 0s 299us/sample - loss: 714006464.0000\n",
      "Epoch 468/500\n",
      "10/10 [==============================] - 0s 186us/sample - loss: 713963456.0000\n",
      "Epoch 469/500\n",
      "10/10 [==============================] - 0s 194us/sample - loss: 713920768.0000\n",
      "Epoch 470/500\n",
      "10/10 [==============================] - 0s 384us/sample - loss: 713878528.0000\n",
      "Epoch 471/500\n",
      "10/10 [==============================] - 0s 306us/sample - loss: 713836608.0000\n",
      "Epoch 472/500\n",
      "10/10 [==============================] - 0s 214us/sample - loss: 713795072.0000\n",
      "Epoch 473/500\n",
      "10/10 [==============================] - 0s 256us/sample - loss: 713753792.0000\n",
      "Epoch 474/500\n",
      "10/10 [==============================] - 0s 299us/sample - loss: 713712960.0000\n",
      "Epoch 475/500\n",
      "10/10 [==============================] - 0s 200us/sample - loss: 713672384.0000\n",
      "Epoch 476/500\n",
      "10/10 [==============================] - 0s 199us/sample - loss: 713632192.0000\n",
      "Epoch 477/500\n",
      "10/10 [==============================] - 0s 299us/sample - loss: 713592320.0000\n",
      "Epoch 478/500\n",
      "10/10 [==============================] - 0s 266us/sample - loss: 713552832.0000\n",
      "Epoch 479/500\n",
      "10/10 [==============================] - 0s 200us/sample - loss: 713513600.0000\n",
      "Epoch 480/500\n",
      "10/10 [==============================] - 0s 269us/sample - loss: 713474752.0000\n",
      "Epoch 481/500\n",
      "10/10 [==============================] - 0s 299us/sample - loss: 713436288.0000\n",
      "Epoch 482/500\n",
      "10/10 [==============================] - 0s 299us/sample - loss: 713398080.0000\n",
      "Epoch 483/500\n",
      "10/10 [==============================] - 0s 285us/sample - loss: 713360064.0000\n",
      "Epoch 484/500\n",
      "10/10 [==============================] - 0s 292us/sample - loss: 713322496.0000\n",
      "Epoch 485/500\n",
      "10/10 [==============================] - 0s 299us/sample - loss: 713285184.0000\n",
      "Epoch 486/500\n",
      "10/10 [==============================] - 0s 299us/sample - loss: 713248320.0000\n",
      "Epoch 487/500\n",
      "10/10 [==============================] - 0s 303us/sample - loss: 713211712.0000\n",
      "Epoch 488/500\n",
      "10/10 [==============================] - 0s 499us/sample - loss: 713175296.0000\n",
      "Epoch 489/500\n",
      "10/10 [==============================] - 0s 403us/sample - loss: 713139328.0000\n",
      "Epoch 490/500\n",
      "10/10 [==============================] - 0s 299us/sample - loss: 713103488.0000\n",
      "Epoch 491/500\n",
      "10/10 [==============================] - 0s 299us/sample - loss: 713068096.0000\n",
      "Epoch 492/500\n",
      "10/10 [==============================] - 0s 396us/sample - loss: 713033024.0000\n",
      "Epoch 493/500\n",
      "10/10 [==============================] - 0s 399us/sample - loss: 712998144.0000\n",
      "Epoch 494/500\n",
      "10/10 [==============================] - 0s 384us/sample - loss: 712963520.0000\n",
      "Epoch 495/500\n",
      "10/10 [==============================] - 0s 419us/sample - loss: 712929408.0000\n",
      "Epoch 496/500\n",
      "10/10 [==============================] - 0s 296us/sample - loss: 712895360.0000\n",
      "Epoch 497/500\n",
      "10/10 [==============================] - 0s 235us/sample - loss: 712861632.0000\n",
      "Epoch 498/500\n",
      "10/10 [==============================] - 0s 299us/sample - loss: 712828288.0000\n",
      "Epoch 499/500\n",
      "10/10 [==============================] - 0s 286us/sample - loss: 712795200.0000\n",
      "Epoch 500/500\n",
      "10/10 [==============================] - 0s 319us/sample - loss: 712762304.0000\n"
     ]
    },
    {
     "data": {
      "text/plain": [
       "<tensorflow.python.keras.callbacks.History at 0x2ab1fff8e48>"
      ]
     },
     "execution_count": 71,
     "metadata": {},
     "output_type": "execute_result"
    }
   ],
   "source": [
    "model.fit(price,sales,epochs=500)"
   ]
  },
  {
   "cell_type": "code",
   "execution_count": 81,
   "metadata": {},
   "outputs": [],
   "source": [
    "import numpy as np\n",
    "import tensorflow as tf\n",
    "from tensorflow import keras\n",
    "\n",
    "model=keras.Sequential([keras.layers.Dense(units=1,input_shape=[1])])\n",
    "model.compile(optimizer='sgd',loss='mean_squared_error')\n",
    "\n",
    "x = np.array([-1.0, 0.0, 1.0, 2.0, 3.0, 4.0], dtype=float)\n",
    "y = np.array([-2.0, 1.0, 4.0, 7.0, 10.0, 13.0], dtype=float) # y=3x+1"
   ]
  },
  {
   "cell_type": "code",
   "execution_count": 84,
   "metadata": {},
   "outputs": [
    {
     "name": "stdout",
     "output_type": "stream",
     "text": [
      "Train on 6 samples\n",
      "Epoch 1/500\n",
      "6/6 [==============================] - 0s 2ms/sample - loss: 0.0170\n",
      "Epoch 2/500\n",
      "6/6 [==============================] - 0s 454us/sample - loss: 0.0167\n",
      "Epoch 3/500\n",
      "6/6 [==============================] - 0s 495us/sample - loss: 0.0163\n",
      "Epoch 4/500\n",
      "6/6 [==============================] - 0s 836us/sample - loss: 0.0160\n",
      "Epoch 5/500\n",
      "6/6 [==============================] - 0s 499us/sample - loss: 0.0157\n",
      "Epoch 6/500\n",
      "6/6 [==============================] - 0s 665us/sample - loss: 0.0153\n",
      "Epoch 7/500\n",
      "6/6 [==============================] - 0s 496us/sample - loss: 0.0150\n",
      "Epoch 8/500\n",
      "6/6 [==============================] - 0s 508us/sample - loss: 0.0147\n",
      "Epoch 9/500\n",
      "6/6 [==============================] - 0s 662us/sample - loss: 0.0144\n",
      "Epoch 10/500\n",
      "6/6 [==============================] - 0s 837us/sample - loss: 0.0141\n",
      "Epoch 11/500\n",
      "6/6 [==============================] - 0s 832us/sample - loss: 0.0138\n",
      "Epoch 12/500\n",
      "6/6 [==============================] - 0s 483us/sample - loss: 0.0135\n",
      "Epoch 13/500\n",
      "6/6 [==============================] - 0s 498us/sample - loss: 0.0133\n",
      "Epoch 14/500\n",
      "6/6 [==============================] - 0s 848us/sample - loss: 0.0130\n",
      "Epoch 15/500\n",
      "6/6 [==============================] - 0s 524us/sample - loss: 0.0127\n",
      "Epoch 16/500\n",
      "6/6 [==============================] - 0s 551us/sample - loss: 0.0125\n",
      "Epoch 17/500\n",
      "6/6 [==============================] - 0s 871us/sample - loss: 0.0122\n",
      "Epoch 18/500\n",
      "6/6 [==============================] - 0s 425us/sample - loss: 0.0120\n",
      "Epoch 19/500\n",
      "6/6 [==============================] - 0s 504us/sample - loss: 0.0117\n",
      "Epoch 20/500\n",
      "6/6 [==============================] - 0s 724us/sample - loss: 0.0115\n",
      "Epoch 21/500\n",
      "6/6 [==============================] - 0s 485us/sample - loss: 0.0112\n",
      "Epoch 22/500\n",
      "6/6 [==============================] - 0s 599us/sample - loss: 0.0110\n",
      "Epoch 23/500\n",
      "6/6 [==============================] - 0s 476us/sample - loss: 0.0108\n",
      "Epoch 24/500\n",
      "6/6 [==============================] - 0s 468us/sample - loss: 0.0106\n",
      "Epoch 25/500\n",
      "6/6 [==============================] - 0s 805us/sample - loss: 0.0103\n",
      "Epoch 26/500\n",
      "6/6 [==============================] - 0s 498us/sample - loss: 0.0101\n",
      "Epoch 27/500\n",
      "6/6 [==============================] - 0s 499us/sample - loss: 0.0099\n",
      "Epoch 28/500\n",
      "6/6 [==============================] - 0s 665us/sample - loss: 0.0097\n",
      "Epoch 29/500\n",
      "6/6 [==============================] - 0s 499us/sample - loss: 0.0095\n",
      "Epoch 30/500\n",
      "6/6 [==============================] - 0s 831us/sample - loss: 0.0093\n",
      "Epoch 31/500\n",
      "6/6 [==============================] - 0s 665us/sample - loss: 0.0091\n",
      "Epoch 32/500\n",
      "6/6 [==============================] - 0s 666us/sample - loss: 0.0089\n",
      "Epoch 33/500\n",
      "6/6 [==============================] - 0s 665us/sample - loss: 0.0088\n",
      "Epoch 34/500\n",
      "6/6 [==============================] - 0s 579us/sample - loss: 0.0086\n",
      "Epoch 35/500\n",
      "6/6 [==============================] - 0s 679us/sample - loss: 0.0084\n",
      "Epoch 36/500\n",
      "6/6 [==============================] - 0s 706us/sample - loss: 0.0082\n",
      "Epoch 37/500\n",
      "6/6 [==============================] - 0s 997us/sample - loss: 0.0081\n",
      "Epoch 38/500\n",
      "6/6 [==============================] - 0s 665us/sample - loss: 0.0079\n",
      "Epoch 39/500\n",
      "6/6 [==============================] - 0s 1ms/sample - loss: 0.0077\n",
      "Epoch 40/500\n",
      "6/6 [==============================] - 0s 499us/sample - loss: 0.0076\n",
      "Epoch 41/500\n",
      "6/6 [==============================] - 0s 751us/sample - loss: 0.0074\n",
      "Epoch 42/500\n",
      "6/6 [==============================] - 0s 498us/sample - loss: 0.0073\n",
      "Epoch 43/500\n",
      "6/6 [==============================] - 0s 653us/sample - loss: 0.0071\n",
      "Epoch 44/500\n",
      "6/6 [==============================] - 0s 665us/sample - loss: 0.0070\n",
      "Epoch 45/500\n",
      "6/6 [==============================] - 0s 651us/sample - loss: 0.0068\n",
      "Epoch 46/500\n",
      "6/6 [==============================] - 0s 688us/sample - loss: 0.0067\n",
      "Epoch 47/500\n",
      "6/6 [==============================] - 0s 665us/sample - loss: 0.0066\n",
      "Epoch 48/500\n",
      "6/6 [==============================] - 0s 494us/sample - loss: 0.0064\n",
      "Epoch 49/500\n",
      "6/6 [==============================] - 0s 482us/sample - loss: 0.0063\n",
      "Epoch 50/500\n",
      "6/6 [==============================] - 0s 520us/sample - loss: 0.0062\n",
      "Epoch 51/500\n",
      "6/6 [==============================] - 0s 694us/sample - loss: 0.0060\n",
      "Epoch 52/500\n",
      "6/6 [==============================] - 0s 499us/sample - loss: 0.0059\n",
      "Epoch 53/500\n",
      "6/6 [==============================] - 0s 992us/sample - loss: 0.0058\n",
      "Epoch 54/500\n",
      "6/6 [==============================] - 0s 636us/sample - loss: 0.0057\n",
      "Epoch 55/500\n",
      "6/6 [==============================] - 0s 498us/sample - loss: 0.0055\n",
      "Epoch 56/500\n",
      "6/6 [==============================] - 0s 500us/sample - loss: 0.0054\n",
      "Epoch 57/500\n",
      "6/6 [==============================] - 0s 665us/sample - loss: 0.0053\n",
      "Epoch 58/500\n",
      "6/6 [==============================] - 0s 665us/sample - loss: 0.0052\n",
      "Epoch 59/500\n",
      "6/6 [==============================] - 0s 665us/sample - loss: 0.0051\n",
      "Epoch 60/500\n",
      "6/6 [==============================] - 0s 1ms/sample - loss: 0.0050\n",
      "Epoch 61/500\n",
      "6/6 [==============================] - 0s 333us/sample - loss: 0.0049\n",
      "Epoch 62/500\n",
      "6/6 [==============================] - 0s 521us/sample - loss: 0.0048\n",
      "Epoch 63/500\n",
      "6/6 [==============================] - 0s 499us/sample - loss: 0.0047\n",
      "Epoch 64/500\n",
      "6/6 [==============================] - 0s 660us/sample - loss: 0.0046\n",
      "Epoch 65/500\n",
      "6/6 [==============================] - 0s 832us/sample - loss: 0.0045\n",
      "Epoch 66/500\n",
      "6/6 [==============================] - 0s 498us/sample - loss: 0.0044\n",
      "Epoch 67/500\n",
      "6/6 [==============================] - 0s 709us/sample - loss: 0.0043\n",
      "Epoch 68/500\n",
      "6/6 [==============================] - 0s 697us/sample - loss: 0.0042\n",
      "Epoch 69/500\n",
      "6/6 [==============================] - 0s 493us/sample - loss: 0.0041\n",
      "Epoch 70/500\n",
      "6/6 [==============================] - 0s 786us/sample - loss: 0.0041\n",
      "Epoch 71/500\n",
      "6/6 [==============================] - 0s 658us/sample - loss: 0.0040\n",
      "Epoch 72/500\n",
      "6/6 [==============================] - 0s 633us/sample - loss: 0.0039\n",
      "Epoch 73/500\n",
      "6/6 [==============================] - 0s 557us/sample - loss: 0.0038\n",
      "Epoch 74/500\n",
      "6/6 [==============================] - 0s 625us/sample - loss: 0.0037\n",
      "Epoch 75/500\n",
      "6/6 [==============================] - 0s 499us/sample - loss: 0.0037\n",
      "Epoch 76/500\n",
      "6/6 [==============================] - 0s 984us/sample - loss: 0.0036\n",
      "Epoch 77/500\n",
      "6/6 [==============================] - 0s 505us/sample - loss: 0.0035\n",
      "Epoch 78/500\n",
      "6/6 [==============================] - 0s 1ms/sample - loss: 0.0034\n",
      "Epoch 79/500\n",
      "6/6 [==============================] - 0s 331us/sample - loss: 0.0034\n",
      "Epoch 80/500\n",
      "6/6 [==============================] - 0s 859us/sample - loss: 0.0033\n",
      "Epoch 81/500\n",
      "6/6 [==============================] - 0s 653us/sample - loss: 0.0032\n",
      "Epoch 82/500\n",
      "6/6 [==============================] - 0s 665us/sample - loss: 0.0032\n",
      "Epoch 83/500\n",
      "6/6 [==============================] - 0s 498us/sample - loss: 0.0031\n",
      "Epoch 84/500\n",
      "6/6 [==============================] - 0s 665us/sample - loss: 0.0030\n",
      "Epoch 85/500\n",
      "6/6 [==============================] - 0s 499us/sample - loss: 0.0030\n",
      "Epoch 86/500\n",
      "6/6 [==============================] - 0s 635us/sample - loss: 0.0029\n",
      "Epoch 87/500\n",
      "6/6 [==============================] - 0s 500us/sample - loss: 0.0029\n",
      "Epoch 88/500\n",
      "6/6 [==============================] - 0s 505us/sample - loss: 0.0028\n",
      "Epoch 89/500\n",
      "6/6 [==============================] - 0s 333us/sample - loss: 0.0027\n",
      "Epoch 90/500\n",
      "6/6 [==============================] - 0s 498us/sample - loss: 0.0027\n",
      "Epoch 91/500\n",
      "6/6 [==============================] - 0s 516us/sample - loss: 0.0026\n",
      "Epoch 92/500\n",
      "6/6 [==============================] - 0s 513us/sample - loss: 0.0026\n",
      "Epoch 93/500\n",
      "6/6 [==============================] - 0s 671us/sample - loss: 0.0025\n",
      "Epoch 94/500\n",
      "6/6 [==============================] - 0s 664us/sample - loss: 0.0025\n",
      "Epoch 95/500\n",
      "6/6 [==============================] - 0s 971us/sample - loss: 0.0024\n",
      "Epoch 96/500\n",
      "6/6 [==============================] - 0s 485us/sample - loss: 0.0024\n",
      "Epoch 97/500\n",
      "6/6 [==============================] - 0s 493us/sample - loss: 0.0023\n",
      "Epoch 98/500\n",
      "6/6 [==============================] - 0s 499us/sample - loss: 0.0023\n",
      "Epoch 99/500\n",
      "6/6 [==============================] - 0s 751us/sample - loss: 0.0022\n"
     ]
    },
    {
     "name": "stdout",
     "output_type": "stream",
     "text": [
      "Epoch 100/500\n",
      "6/6 [==============================] - 0s 499us/sample - loss: 0.0022\n",
      "Epoch 101/500\n",
      "6/6 [==============================] - 0s 670us/sample - loss: 0.0021\n",
      "Epoch 102/500\n",
      "6/6 [==============================] - 0s 985us/sample - loss: 0.0021\n",
      "Epoch 103/500\n",
      "6/6 [==============================] - 0s 629us/sample - loss: 0.0020\n",
      "Epoch 104/500\n",
      "6/6 [==============================] - 0s 831us/sample - loss: 0.0020\n",
      "Epoch 105/500\n",
      "6/6 [==============================] - 0s 831us/sample - loss: 0.0020\n",
      "Epoch 106/500\n",
      "6/6 [==============================] - 0s 849us/sample - loss: 0.0019\n",
      "Epoch 107/500\n",
      "6/6 [==============================] - 0s 673us/sample - loss: 0.0019\n",
      "Epoch 108/500\n",
      "6/6 [==============================] - 0s 686us/sample - loss: 0.0018\n",
      "Epoch 109/500\n",
      "6/6 [==============================] - 0s 659us/sample - loss: 0.0018\n",
      "Epoch 110/500\n",
      "6/6 [==============================] - 0s 664us/sample - loss: 0.0018\n",
      "Epoch 111/500\n",
      "6/6 [==============================] - 0s 522us/sample - loss: 0.0017\n",
      "Epoch 112/500\n",
      "6/6 [==============================] - 0s 1ms/sample - loss: 0.0017\n",
      "Epoch 113/500\n",
      "6/6 [==============================] - 0s 487us/sample - loss: 0.0017\n",
      "Epoch 114/500\n",
      "6/6 [==============================] - 0s 499us/sample - loss: 0.0016\n",
      "Epoch 115/500\n",
      "6/6 [==============================] - 0s 504us/sample - loss: 0.0016\n",
      "Epoch 116/500\n",
      "6/6 [==============================] - 0s 687us/sample - loss: 0.0016\n",
      "Epoch 117/500\n",
      "6/6 [==============================] - 0s 498us/sample - loss: 0.0015\n",
      "Epoch 118/500\n",
      "6/6 [==============================] - 0s 744us/sample - loss: 0.0015\n",
      "Epoch 119/500\n",
      "6/6 [==============================] - 0s 610us/sample - loss: 0.0015\n",
      "Epoch 120/500\n",
      "6/6 [==============================] - 0s 504us/sample - loss: 0.0014\n",
      "Epoch 121/500\n",
      "6/6 [==============================] - 0s 666us/sample - loss: 0.0014\n",
      "Epoch 122/500\n",
      "6/6 [==============================] - 0s 825us/sample - loss: 0.0014\n",
      "Epoch 123/500\n",
      "6/6 [==============================] - 0s 664us/sample - loss: 0.0014\n",
      "Epoch 124/500\n",
      "6/6 [==============================] - 0s 489us/sample - loss: 0.0013\n",
      "Epoch 125/500\n",
      "6/6 [==============================] - 0s 997us/sample - loss: 0.0013\n",
      "Epoch 126/500\n",
      "6/6 [==============================] - 0s 499us/sample - loss: 0.0013\n",
      "Epoch 127/500\n",
      "6/6 [==============================] - 0s 499us/sample - loss: 0.0012\n",
      "Epoch 128/500\n",
      "6/6 [==============================] - 0s 530us/sample - loss: 0.0012\n",
      "Epoch 129/500\n",
      "6/6 [==============================] - 0s 500us/sample - loss: 0.0012\n",
      "Epoch 130/500\n",
      "6/6 [==============================] - 0s 332us/sample - loss: 0.0012\n",
      "Epoch 131/500\n",
      "6/6 [==============================] - 0s 561us/sample - loss: 0.0011\n",
      "Epoch 132/500\n",
      "6/6 [==============================] - 0s 333us/sample - loss: 0.0011\n",
      "Epoch 133/500\n",
      "6/6 [==============================] - 0s 499us/sample - loss: 0.0011\n",
      "Epoch 134/500\n",
      "6/6 [==============================] - 0s 332us/sample - loss: 0.0011\n",
      "Epoch 135/500\n",
      "6/6 [==============================] - 0s 613us/sample - loss: 0.0011\n",
      "Epoch 136/500\n",
      "6/6 [==============================] - 0s 997us/sample - loss: 0.0010\n",
      "Epoch 137/500\n",
      "6/6 [==============================] - 0s 695us/sample - loss: 0.0010\n",
      "Epoch 138/500\n",
      "6/6 [==============================] - 0s 333us/sample - loss: 9.9094e-04\n",
      "Epoch 139/500\n",
      "6/6 [==============================] - 0s 498us/sample - loss: 9.7058e-04\n",
      "Epoch 140/500\n",
      "6/6 [==============================] - 0s 522us/sample - loss: 9.5065e-04\n",
      "Epoch 141/500\n",
      "6/6 [==============================] - 0s 499us/sample - loss: 9.3112e-04\n",
      "Epoch 142/500\n",
      "6/6 [==============================] - 0s 513us/sample - loss: 9.1200e-04\n",
      "Epoch 143/500\n",
      "6/6 [==============================] - 0s 631us/sample - loss: 8.9326e-04\n",
      "Epoch 144/500\n",
      "6/6 [==============================] - 0s 333us/sample - loss: 8.7491e-04\n",
      "Epoch 145/500\n",
      "6/6 [==============================] - 0s 332us/sample - loss: 8.5694e-04\n",
      "Epoch 146/500\n",
      "6/6 [==============================] - 0s 332us/sample - loss: 8.3934e-04\n",
      "Epoch 147/500\n",
      "6/6 [==============================] - 0s 333us/sample - loss: 8.2210e-04\n",
      "Epoch 148/500\n",
      "6/6 [==============================] - 0s 498us/sample - loss: 8.0522e-04\n",
      "Epoch 149/500\n",
      "6/6 [==============================] - 0s 332us/sample - loss: 7.8868e-04\n",
      "Epoch 150/500\n",
      "6/6 [==============================] - 0s 494us/sample - loss: 7.7248e-04\n",
      "Epoch 151/500\n",
      "6/6 [==============================] - 0s 482us/sample - loss: 7.5661e-04\n",
      "Epoch 152/500\n",
      "6/6 [==============================] - 0s 333us/sample - loss: 7.4107e-04\n",
      "Epoch 153/500\n",
      "6/6 [==============================] - 0s 499us/sample - loss: 7.2585e-04\n",
      "Epoch 154/500\n",
      "6/6 [==============================] - 0s 446us/sample - loss: 7.1094e-04\n",
      "Epoch 155/500\n",
      "6/6 [==============================] - 0s 514us/sample - loss: 6.9633e-04\n",
      "Epoch 156/500\n",
      "6/6 [==============================] - 0s 461us/sample - loss: 6.8203e-04\n",
      "Epoch 157/500\n",
      "6/6 [==============================] - 0s 584us/sample - loss: 6.6802e-04\n",
      "Epoch 158/500\n",
      "6/6 [==============================] - 0s 504us/sample - loss: 6.5431e-04\n",
      "Epoch 159/500\n",
      "6/6 [==============================] - 0s 338us/sample - loss: 6.4086e-04\n",
      "Epoch 160/500\n",
      "6/6 [==============================] - 0s 299us/sample - loss: 6.2770e-04\n",
      "Epoch 161/500\n",
      "6/6 [==============================] - 0s 496us/sample - loss: 6.1481e-04\n",
      "Epoch 162/500\n",
      "6/6 [==============================] - 0s 332us/sample - loss: 6.0218e-04\n",
      "Epoch 163/500\n",
      "6/6 [==============================] - 0s 446us/sample - loss: 5.8981e-04\n",
      "Epoch 164/500\n",
      "6/6 [==============================] - 0s 499us/sample - loss: 5.7770e-04\n",
      "Epoch 165/500\n",
      "6/6 [==============================] - 0s 364us/sample - loss: 5.6583e-04\n",
      "Epoch 166/500\n",
      "6/6 [==============================] - 0s 409us/sample - loss: 5.5421e-04\n",
      "Epoch 167/500\n",
      "6/6 [==============================] - 0s 826us/sample - loss: 5.4282e-04\n",
      "Epoch 168/500\n",
      "6/6 [==============================] - 0s 491us/sample - loss: 5.3167e-04\n",
      "Epoch 169/500\n",
      "6/6 [==============================] - 0s 499us/sample - loss: 5.2075e-04\n",
      "Epoch 170/500\n",
      "6/6 [==============================] - 0s 350us/sample - loss: 5.1006e-04\n",
      "Epoch 171/500\n",
      "6/6 [==============================] - 0s 499us/sample - loss: 4.9958e-04\n",
      "Epoch 172/500\n",
      "6/6 [==============================] - 0s 333us/sample - loss: 4.8932e-04\n",
      "Epoch 173/500\n",
      "6/6 [==============================] - 0s 1ms/sample - loss: 4.7926e-04\n",
      "Epoch 174/500\n",
      "6/6 [==============================] - 0s 499us/sample - loss: 4.6942e-04\n",
      "Epoch 175/500\n",
      "6/6 [==============================] - 0s 650us/sample - loss: 4.5978e-04\n",
      "Epoch 176/500\n",
      "6/6 [==============================] - 0s 542us/sample - loss: 4.5034e-04\n",
      "Epoch 177/500\n",
      "6/6 [==============================] - 0s 660us/sample - loss: 4.4108e-04\n",
      "Epoch 178/500\n",
      "6/6 [==============================] - 0s 847us/sample - loss: 4.3202e-04\n",
      "Epoch 179/500\n",
      "6/6 [==============================] - 0s 332us/sample - loss: 4.2315e-04\n",
      "Epoch 180/500\n",
      "6/6 [==============================] - 0s 506us/sample - loss: 4.1445e-04\n",
      "Epoch 181/500\n",
      "6/6 [==============================] - 0s 498us/sample - loss: 4.0594e-04\n",
      "Epoch 182/500\n",
      "6/6 [==============================] - 0s 319us/sample - loss: 3.9760e-04\n",
      "Epoch 183/500\n",
      "6/6 [==============================] - 0s 333us/sample - loss: 3.8943e-04\n",
      "Epoch 184/500\n",
      "6/6 [==============================] - 0s 493us/sample - loss: 3.8143e-04\n",
      "Epoch 185/500\n",
      "6/6 [==============================] - 0s 463us/sample - loss: 3.7360e-04\n",
      "Epoch 186/500\n",
      "6/6 [==============================] - 0s 386us/sample - loss: 3.6593e-04\n",
      "Epoch 187/500\n",
      "6/6 [==============================] - 0s 498us/sample - loss: 3.5841e-04\n",
      "Epoch 188/500\n",
      "6/6 [==============================] - 0s 831us/sample - loss: 3.5105e-04\n",
      "Epoch 189/500\n",
      "6/6 [==============================] - 0s 498us/sample - loss: 3.4384e-04\n",
      "Epoch 190/500\n",
      "6/6 [==============================] - 0s 404us/sample - loss: 3.3678e-04\n",
      "Epoch 191/500\n",
      "6/6 [==============================] - 0s 498us/sample - loss: 3.2986e-04\n",
      "Epoch 192/500\n",
      "6/6 [==============================] - 0s 665us/sample - loss: 3.2308e-04\n",
      "Epoch 193/500\n",
      "6/6 [==============================] - 0s 327us/sample - loss: 3.1645e-04\n",
      "Epoch 194/500\n",
      "6/6 [==============================] - 0s 607us/sample - loss: 3.0994e-04\n"
     ]
    },
    {
     "name": "stdout",
     "output_type": "stream",
     "text": [
      "Epoch 195/500\n",
      "6/6 [==============================] - 0s 504us/sample - loss: 3.0358e-04\n",
      "Epoch 196/500\n",
      "6/6 [==============================] - 0s 328us/sample - loss: 2.9734e-04\n",
      "Epoch 197/500\n",
      "6/6 [==============================] - 0s 519us/sample - loss: 2.9124e-04\n",
      "Epoch 198/500\n",
      "6/6 [==============================] - 0s 665us/sample - loss: 2.8525e-04\n",
      "Epoch 199/500\n",
      "6/6 [==============================] - 0s 499us/sample - loss: 2.7939e-04\n",
      "Epoch 200/500\n",
      "6/6 [==============================] - 0s 522us/sample - loss: 2.7366e-04\n",
      "Epoch 201/500\n",
      "6/6 [==============================] - 0s 504us/sample - loss: 2.6804e-04\n",
      "Epoch 202/500\n",
      "6/6 [==============================] - 0s 332us/sample - loss: 2.6253e-04\n",
      "Epoch 203/500\n",
      "6/6 [==============================] - 0s 494us/sample - loss: 2.5714e-04\n",
      "Epoch 204/500\n",
      "6/6 [==============================] - 0s 498us/sample - loss: 2.5186e-04\n",
      "Epoch 205/500\n",
      "6/6 [==============================] - 0s 600us/sample - loss: 2.4668e-04\n",
      "Epoch 206/500\n",
      "6/6 [==============================] - 0s 498us/sample - loss: 2.4161e-04\n",
      "Epoch 207/500\n",
      "6/6 [==============================] - 0s 328us/sample - loss: 2.3665e-04\n",
      "Epoch 208/500\n",
      "6/6 [==============================] - 0s 499us/sample - loss: 2.3179e-04\n",
      "Epoch 209/500\n",
      "6/6 [==============================] - 0s 795us/sample - loss: 2.2703e-04\n",
      "Epoch 210/500\n",
      "6/6 [==============================] - 0s 483us/sample - loss: 2.2236e-04\n",
      "Epoch 211/500\n",
      "6/6 [==============================] - 0s 665us/sample - loss: 2.1780e-04\n",
      "Epoch 212/500\n",
      "6/6 [==============================] - 0s 504us/sample - loss: 2.1332e-04\n",
      "Epoch 213/500\n",
      "6/6 [==============================] - 0s 522us/sample - loss: 2.0894e-04\n",
      "Epoch 214/500\n",
      "6/6 [==============================] - 0s 332us/sample - loss: 2.0465e-04\n",
      "Epoch 215/500\n",
      "6/6 [==============================] - 0s 424us/sample - loss: 2.0045e-04\n",
      "Epoch 216/500\n",
      "6/6 [==============================] - 0s 358us/sample - loss: 1.9633e-04\n",
      "Epoch 217/500\n",
      "6/6 [==============================] - 0s 666us/sample - loss: 1.9230e-04\n",
      "Epoch 218/500\n",
      "6/6 [==============================] - 0s 435us/sample - loss: 1.8835e-04\n",
      "Epoch 219/500\n",
      "6/6 [==============================] - 0s 499us/sample - loss: 1.8448e-04\n",
      "Epoch 220/500\n",
      "6/6 [==============================] - 0s 831us/sample - loss: 1.8069e-04\n",
      "Epoch 221/500\n",
      "6/6 [==============================] - 0s 550us/sample - loss: 1.7698e-04\n",
      "Epoch 222/500\n",
      "6/6 [==============================] - 0s 676us/sample - loss: 1.7334e-04\n",
      "Epoch 223/500\n",
      "6/6 [==============================] - 0s 437us/sample - loss: 1.6978e-04\n",
      "Epoch 224/500\n",
      "6/6 [==============================] - 0s 451us/sample - loss: 1.6629e-04\n",
      "Epoch 225/500\n",
      "6/6 [==============================] - 0s 487us/sample - loss: 1.6287e-04\n",
      "Epoch 226/500\n",
      "6/6 [==============================] - 0s 499us/sample - loss: 1.5953e-04\n",
      "Epoch 227/500\n",
      "6/6 [==============================] - 0s 665us/sample - loss: 1.5625e-04\n",
      "Epoch 228/500\n",
      "6/6 [==============================] - 0s 672us/sample - loss: 1.5304e-04\n",
      "Epoch 229/500\n",
      "6/6 [==============================] - 0s 494us/sample - loss: 1.4990e-04\n",
      "Epoch 230/500\n",
      "6/6 [==============================] - 0s 750us/sample - loss: 1.4682e-04\n",
      "Epoch 231/500\n",
      "6/6 [==============================] - 0s 547us/sample - loss: 1.4381e-04\n",
      "Epoch 232/500\n",
      "6/6 [==============================] - 0s 831us/sample - loss: 1.4085e-04\n",
      "Epoch 233/500\n",
      "6/6 [==============================] - 0s 499us/sample - loss: 1.3796e-04\n",
      "Epoch 234/500\n",
      "6/6 [==============================] - 0s 498us/sample - loss: 1.3513e-04\n",
      "Epoch 235/500\n",
      "6/6 [==============================] - 0s 679us/sample - loss: 1.3235e-04\n",
      "Epoch 236/500\n",
      "6/6 [==============================] - 0s 334us/sample - loss: 1.2963e-04\n",
      "Epoch 237/500\n",
      "6/6 [==============================] - 0s 464us/sample - loss: 1.2697e-04\n",
      "Epoch 238/500\n",
      "6/6 [==============================] - 0s 327us/sample - loss: 1.2436e-04\n",
      "Epoch 239/500\n",
      "6/6 [==============================] - 0s 494us/sample - loss: 1.2181e-04\n",
      "Epoch 240/500\n",
      "6/6 [==============================] - 0s 332us/sample - loss: 1.1931e-04\n",
      "Epoch 241/500\n",
      "6/6 [==============================] - 0s 333us/sample - loss: 1.1686e-04\n",
      "Epoch 242/500\n",
      "6/6 [==============================] - 0s 491us/sample - loss: 1.1446e-04\n",
      "Epoch 243/500\n",
      "6/6 [==============================] - 0s 506us/sample - loss: 1.1210e-04\n",
      "Epoch 244/500\n",
      "6/6 [==============================] - 0s 493us/sample - loss: 1.0980e-04\n",
      "Epoch 245/500\n",
      "6/6 [==============================] - 0s 518us/sample - loss: 1.0755e-04\n",
      "Epoch 246/500\n",
      "6/6 [==============================] - 0s 348us/sample - loss: 1.0534e-04\n",
      "Epoch 247/500\n",
      "6/6 [==============================] - 0s 499us/sample - loss: 1.0317e-04\n",
      "Epoch 248/500\n",
      "6/6 [==============================] - 0s 485us/sample - loss: 1.0106e-04\n",
      "Epoch 249/500\n",
      "6/6 [==============================] - 0s 665us/sample - loss: 9.8980e-05\n",
      "Epoch 250/500\n",
      "6/6 [==============================] - 0s 316us/sample - loss: 9.6947e-05\n",
      "Epoch 251/500\n",
      "6/6 [==============================] - 0s 521us/sample - loss: 9.4955e-05\n",
      "Epoch 252/500\n",
      "6/6 [==============================] - 0s 529us/sample - loss: 9.3005e-05\n",
      "Epoch 253/500\n",
      "6/6 [==============================] - 0s 498us/sample - loss: 9.1095e-05\n",
      "Epoch 254/500\n",
      "6/6 [==============================] - 0s 332us/sample - loss: 8.9223e-05\n",
      "Epoch 255/500\n",
      "6/6 [==============================] - 0s 496us/sample - loss: 8.7389e-05\n",
      "Epoch 256/500\n",
      "6/6 [==============================] - 0s 332us/sample - loss: 8.5594e-05\n",
      "Epoch 257/500\n",
      "6/6 [==============================] - 0s 348us/sample - loss: 8.3837e-05\n",
      "Epoch 258/500\n",
      "6/6 [==============================] - 0s 498us/sample - loss: 8.2114e-05\n",
      "Epoch 259/500\n",
      "6/6 [==============================] - 0s 775us/sample - loss: 8.0428e-05\n",
      "Epoch 260/500\n",
      "6/6 [==============================] - 0s 504us/sample - loss: 7.8775e-05\n",
      "Epoch 261/500\n",
      "6/6 [==============================] - 0s 536us/sample - loss: 7.7157e-05\n",
      "Epoch 262/500\n",
      "6/6 [==============================] - 0s 484us/sample - loss: 7.5572e-05\n",
      "Epoch 263/500\n",
      "6/6 [==============================] - 0s 664us/sample - loss: 7.4021e-05\n",
      "Epoch 264/500\n",
      "6/6 [==============================] - 0s 499us/sample - loss: 7.2499e-05\n",
      "Epoch 265/500\n",
      "6/6 [==============================] - 0s 1ms/sample - loss: 7.1008e-05\n",
      "Epoch 266/500\n",
      "6/6 [==============================] - 0s 326us/sample - loss: 6.9550e-05\n",
      "Epoch 267/500\n",
      "6/6 [==============================] - 0s 508us/sample - loss: 6.8122e-05\n",
      "Epoch 268/500\n",
      "6/6 [==============================] - 0s 525us/sample - loss: 6.6722e-05\n",
      "Epoch 269/500\n",
      "6/6 [==============================] - 0s 332us/sample - loss: 6.5353e-05\n",
      "Epoch 270/500\n",
      "6/6 [==============================] - 0s 509us/sample - loss: 6.4010e-05\n",
      "Epoch 271/500\n",
      "6/6 [==============================] - 0s 496us/sample - loss: 6.2696e-05\n",
      "Epoch 272/500\n",
      "6/6 [==============================] - 0s 332us/sample - loss: 6.1407e-05\n",
      "Epoch 273/500\n",
      "6/6 [==============================] - 0s 509us/sample - loss: 6.0147e-05\n",
      "Epoch 274/500\n",
      "6/6 [==============================] - 0s 665us/sample - loss: 5.8911e-05\n",
      "Epoch 275/500\n",
      "6/6 [==============================] - 0s 499us/sample - loss: 5.7702e-05\n",
      "Epoch 276/500\n",
      "6/6 [==============================] - 0s 334us/sample - loss: 5.6516e-05\n",
      "Epoch 277/500\n",
      "6/6 [==============================] - 0s 665us/sample - loss: 5.5354e-05\n",
      "Epoch 278/500\n",
      "6/6 [==============================] - 0s 524us/sample - loss: 5.4217e-05\n",
      "Epoch 279/500\n",
      "6/6 [==============================] - 0s 500us/sample - loss: 5.3103e-05\n",
      "Epoch 280/500\n",
      "6/6 [==============================] - 0s 454us/sample - loss: 5.2011e-05\n",
      "Epoch 281/500\n",
      "6/6 [==============================] - 0s 997us/sample - loss: 5.0945e-05\n",
      "Epoch 282/500\n",
      "6/6 [==============================] - 0s 425us/sample - loss: 4.9897e-05\n",
      "Epoch 283/500\n",
      "6/6 [==============================] - 0s 427us/sample - loss: 4.8873e-05\n",
      "Epoch 284/500\n",
      "6/6 [==============================] - 0s 675us/sample - loss: 4.7869e-05\n",
      "Epoch 285/500\n",
      "6/6 [==============================] - 0s 665us/sample - loss: 4.6885e-05\n",
      "Epoch 286/500\n",
      "6/6 [==============================] - 0s 497us/sample - loss: 4.5922e-05\n",
      "Epoch 287/500\n",
      "6/6 [==============================] - 0s 470us/sample - loss: 4.4979e-05\n",
      "Epoch 288/500\n",
      "6/6 [==============================] - 0s 499us/sample - loss: 4.4056e-05\n"
     ]
    },
    {
     "name": "stdout",
     "output_type": "stream",
     "text": [
      "Epoch 289/500\n",
      "6/6 [==============================] - 0s 499us/sample - loss: 4.3150e-05\n",
      "Epoch 290/500\n",
      "6/6 [==============================] - 0s 665us/sample - loss: 4.2263e-05\n",
      "Epoch 291/500\n",
      "6/6 [==============================] - 0s 489us/sample - loss: 4.1395e-05\n",
      "Epoch 292/500\n",
      "6/6 [==============================] - 0s 633us/sample - loss: 4.0544e-05\n",
      "Epoch 293/500\n",
      "6/6 [==============================] - 0s 498us/sample - loss: 3.9712e-05\n",
      "Epoch 294/500\n",
      "6/6 [==============================] - 0s 418us/sample - loss: 3.8897e-05\n",
      "Epoch 295/500\n",
      "6/6 [==============================] - 0s 529us/sample - loss: 3.8098e-05\n",
      "Epoch 296/500\n",
      "6/6 [==============================] - 0s 499us/sample - loss: 3.7315e-05\n",
      "Epoch 297/500\n",
      "6/6 [==============================] - 0s 498us/sample - loss: 3.6548e-05\n",
      "Epoch 298/500\n",
      "6/6 [==============================] - 0s 498us/sample - loss: 3.5796e-05\n",
      "Epoch 299/500\n",
      "6/6 [==============================] - 0s 697us/sample - loss: 3.5061e-05\n",
      "Epoch 300/500\n",
      "6/6 [==============================] - 0s 998us/sample - loss: 3.4342e-05\n",
      "Epoch 301/500\n",
      "6/6 [==============================] - 0s 665us/sample - loss: 3.3636e-05\n",
      "Epoch 302/500\n",
      "6/6 [==============================] - 0s 450us/sample - loss: 3.2946e-05\n",
      "Epoch 303/500\n",
      "6/6 [==============================] - 0s 333us/sample - loss: 3.2269e-05\n",
      "Epoch 304/500\n",
      "6/6 [==============================] - 0s 499us/sample - loss: 3.1607e-05\n",
      "Epoch 305/500\n",
      "6/6 [==============================] - 0s 734us/sample - loss: 3.0957e-05\n",
      "Epoch 306/500\n",
      "6/6 [==============================] - 0s 493us/sample - loss: 3.0321e-05\n",
      "Epoch 307/500\n",
      "6/6 [==============================] - 0s 646us/sample - loss: 2.9698e-05\n",
      "Epoch 308/500\n",
      "6/6 [==============================] - 0s 451us/sample - loss: 2.9089e-05\n",
      "Epoch 309/500\n",
      "6/6 [==============================] - 0s 493us/sample - loss: 2.8490e-05\n",
      "Epoch 310/500\n",
      "6/6 [==============================] - 0s 333us/sample - loss: 2.7905e-05\n",
      "Epoch 311/500\n",
      "6/6 [==============================] - 0s 495us/sample - loss: 2.7332e-05\n",
      "Epoch 312/500\n",
      "6/6 [==============================] - 0s 499us/sample - loss: 2.6770e-05\n",
      "Epoch 313/500\n",
      "6/6 [==============================] - 0s 499us/sample - loss: 2.6220e-05\n",
      "Epoch 314/500\n",
      "6/6 [==============================] - 0s 664us/sample - loss: 2.5682e-05\n",
      "Epoch 315/500\n",
      "6/6 [==============================] - 0s 665us/sample - loss: 2.5153e-05\n",
      "Epoch 316/500\n",
      "6/6 [==============================] - 0s 519us/sample - loss: 2.4636e-05\n",
      "Epoch 317/500\n",
      "6/6 [==============================] - 0s 333us/sample - loss: 2.4131e-05\n",
      "Epoch 318/500\n",
      "6/6 [==============================] - 0s 491us/sample - loss: 2.3635e-05\n",
      "Epoch 319/500\n",
      "6/6 [==============================] - 0s 663us/sample - loss: 2.3149e-05\n",
      "Epoch 320/500\n",
      "6/6 [==============================] - 0s 332us/sample - loss: 2.2674e-05\n",
      "Epoch 321/500\n",
      "6/6 [==============================] - 0s 333us/sample - loss: 2.2208e-05\n",
      "Epoch 322/500\n",
      "6/6 [==============================] - 0s 446us/sample - loss: 2.1752e-05\n",
      "Epoch 323/500\n",
      "6/6 [==============================] - 0s 494us/sample - loss: 2.1306e-05\n",
      "Epoch 324/500\n",
      "6/6 [==============================] - 0s 321us/sample - loss: 2.0868e-05\n",
      "Epoch 325/500\n",
      "6/6 [==============================] - 0s 333us/sample - loss: 2.0439e-05\n",
      "Epoch 326/500\n",
      "6/6 [==============================] - 0s 434us/sample - loss: 2.0019e-05\n",
      "Epoch 327/500\n",
      "6/6 [==============================] - 0s 332us/sample - loss: 1.9608e-05\n",
      "Epoch 328/500\n",
      "6/6 [==============================] - 0s 430us/sample - loss: 1.9205e-05\n",
      "Epoch 329/500\n",
      "6/6 [==============================] - 0s 332us/sample - loss: 1.8810e-05\n",
      "Epoch 330/500\n",
      "6/6 [==============================] - 0s 505us/sample - loss: 1.8424e-05\n",
      "Epoch 331/500\n",
      "6/6 [==============================] - 0s 350us/sample - loss: 1.8045e-05\n",
      "Epoch 332/500\n",
      "6/6 [==============================] - 0s 659us/sample - loss: 1.7675e-05\n",
      "Epoch 333/500\n",
      "6/6 [==============================] - 0s 407us/sample - loss: 1.7312e-05\n",
      "Epoch 334/500\n",
      "6/6 [==============================] - 0s 504us/sample - loss: 1.6956e-05\n",
      "Epoch 335/500\n",
      "6/6 [==============================] - 0s 501us/sample - loss: 1.6608e-05\n",
      "Epoch 336/500\n",
      "6/6 [==============================] - 0s 333us/sample - loss: 1.6267e-05\n",
      "Epoch 337/500\n",
      "6/6 [==============================] - 0s 437us/sample - loss: 1.5932e-05\n",
      "Epoch 338/500\n",
      "6/6 [==============================] - 0s 997us/sample - loss: 1.5606e-05\n",
      "Epoch 339/500\n",
      "6/6 [==============================] - 0s 345us/sample - loss: 1.5285e-05\n",
      "Epoch 340/500\n",
      "6/6 [==============================] - 0s 327us/sample - loss: 1.4971e-05\n",
      "Epoch 341/500\n",
      "6/6 [==============================] - 0s 499us/sample - loss: 1.4663e-05\n",
      "Epoch 342/500\n",
      "6/6 [==============================] - 0s 499us/sample - loss: 1.4362e-05\n",
      "Epoch 343/500\n",
      "6/6 [==============================] - 0s 620us/sample - loss: 1.4067e-05\n",
      "Epoch 344/500\n",
      "6/6 [==============================] - 0s 483us/sample - loss: 1.3778e-05\n",
      "Epoch 345/500\n",
      "6/6 [==============================] - 0s 658us/sample - loss: 1.3494e-05\n",
      "Epoch 346/500\n",
      "6/6 [==============================] - 0s 333us/sample - loss: 1.3217e-05\n",
      "Epoch 347/500\n",
      "6/6 [==============================] - 0s 502us/sample - loss: 1.2946e-05\n",
      "Epoch 348/500\n",
      "6/6 [==============================] - 0s 509us/sample - loss: 1.2680e-05\n",
      "Epoch 349/500\n",
      "6/6 [==============================] - 0s 499us/sample - loss: 1.2419e-05\n",
      "Epoch 350/500\n",
      "6/6 [==============================] - 0s 499us/sample - loss: 1.2164e-05\n",
      "Epoch 351/500\n",
      "6/6 [==============================] - 0s 432us/sample - loss: 1.1914e-05\n",
      "Epoch 352/500\n",
      "6/6 [==============================] - 0s 550us/sample - loss: 1.1669e-05\n",
      "Epoch 353/500\n",
      "6/6 [==============================] - 0s 332us/sample - loss: 1.1430e-05\n",
      "Epoch 354/500\n",
      "6/6 [==============================] - 0s 333us/sample - loss: 1.1195e-05\n",
      "Epoch 355/500\n",
      "6/6 [==============================] - 0s 499us/sample - loss: 1.0965e-05\n",
      "Epoch 356/500\n",
      "6/6 [==============================] - 0s 477us/sample - loss: 1.0740e-05\n",
      "Epoch 357/500\n",
      "6/6 [==============================] - 0s 498us/sample - loss: 1.0519e-05\n",
      "Epoch 358/500\n",
      "6/6 [==============================] - 0s 694us/sample - loss: 1.0303e-05\n",
      "Epoch 359/500\n",
      "6/6 [==============================] - 0s 332us/sample - loss: 1.0091e-05\n",
      "Epoch 360/500\n",
      "6/6 [==============================] - 0s 512us/sample - loss: 9.8842e-06\n",
      "Epoch 361/500\n",
      "6/6 [==============================] - 0s 515us/sample - loss: 9.6815e-06\n",
      "Epoch 362/500\n",
      "6/6 [==============================] - 0s 499us/sample - loss: 9.4821e-06\n",
      "Epoch 363/500\n",
      "6/6 [==============================] - 0s 515us/sample - loss: 9.2871e-06\n",
      "Epoch 364/500\n",
      "6/6 [==============================] - 0s 351us/sample - loss: 9.0965e-06\n",
      "Epoch 365/500\n",
      "6/6 [==============================] - 0s 332us/sample - loss: 8.9100e-06\n",
      "Epoch 366/500\n",
      "6/6 [==============================] - 0s 499us/sample - loss: 8.7268e-06\n",
      "Epoch 367/500\n",
      "6/6 [==============================] - 0s 665us/sample - loss: 8.5475e-06\n",
      "Epoch 368/500\n",
      "6/6 [==============================] - 0s 666us/sample - loss: 8.3717e-06\n",
      "Epoch 369/500\n",
      "6/6 [==============================] - 0s 435us/sample - loss: 8.1998e-06\n",
      "Epoch 370/500\n",
      "6/6 [==============================] - 0s 499us/sample - loss: 8.0315e-06\n",
      "Epoch 371/500\n",
      "6/6 [==============================] - 0s 345us/sample - loss: 7.8662e-06\n",
      "Epoch 372/500\n",
      "6/6 [==============================] - 0s 501us/sample - loss: 7.7044e-06\n",
      "Epoch 373/500\n",
      "6/6 [==============================] - 0s 499us/sample - loss: 7.5463e-06\n",
      "Epoch 374/500\n",
      "6/6 [==============================] - 0s 665us/sample - loss: 7.3919e-06\n",
      "Epoch 375/500\n",
      "6/6 [==============================] - 0s 489us/sample - loss: 7.2401e-06\n",
      "Epoch 376/500\n",
      "6/6 [==============================] - 0s 499us/sample - loss: 7.0909e-06\n",
      "Epoch 377/500\n",
      "6/6 [==============================] - 0s 580us/sample - loss: 6.9455e-06\n",
      "Epoch 378/500\n",
      "6/6 [==============================] - 0s 493us/sample - loss: 6.8025e-06\n",
      "Epoch 379/500\n",
      "6/6 [==============================] - 0s 665us/sample - loss: 6.6633e-06\n",
      "Epoch 380/500\n",
      "6/6 [==============================] - 0s 682us/sample - loss: 6.5264e-06\n",
      "Epoch 381/500\n",
      "6/6 [==============================] - 0s 499us/sample - loss: 6.3921e-06\n",
      "Epoch 382/500\n",
      "6/6 [==============================] - 0s 356us/sample - loss: 6.2606e-06\n"
     ]
    },
    {
     "name": "stdout",
     "output_type": "stream",
     "text": [
      "Epoch 383/500\n",
      "6/6 [==============================] - 0s 333us/sample - loss: 6.1323e-06\n",
      "Epoch 384/500\n",
      "6/6 [==============================] - 0s 484us/sample - loss: 6.0065e-06\n",
      "Epoch 385/500\n",
      "6/6 [==============================] - 0s 353us/sample - loss: 5.8830e-06\n",
      "Epoch 386/500\n",
      "6/6 [==============================] - 0s 494us/sample - loss: 5.7624e-06\n",
      "Epoch 387/500\n",
      "6/6 [==============================] - 0s 499us/sample - loss: 5.6443e-06\n",
      "Epoch 388/500\n",
      "6/6 [==============================] - 0s 498us/sample - loss: 5.5280e-06\n",
      "Epoch 389/500\n",
      "6/6 [==============================] - 0s 333us/sample - loss: 5.4142e-06\n",
      "Epoch 390/500\n",
      "6/6 [==============================] - 0s 499us/sample - loss: 5.3031e-06\n",
      "Epoch 391/500\n",
      "6/6 [==============================] - 0s 345us/sample - loss: 5.1944e-06\n",
      "Epoch 392/500\n",
      "6/6 [==============================] - 0s 665us/sample - loss: 5.0875e-06\n",
      "Epoch 393/500\n",
      "6/6 [==============================] - 0s 837us/sample - loss: 4.9832e-06\n",
      "Epoch 394/500\n",
      "6/6 [==============================] - 0s 537us/sample - loss: 4.8808e-06\n",
      "Epoch 395/500\n",
      "6/6 [==============================] - 0s 464us/sample - loss: 4.7805e-06\n",
      "Epoch 396/500\n",
      "6/6 [==============================] - 0s 804us/sample - loss: 4.6825e-06\n",
      "Epoch 397/500\n",
      "6/6 [==============================] - 0s 499us/sample - loss: 4.5859e-06\n",
      "Epoch 398/500\n",
      "6/6 [==============================] - 0s 665us/sample - loss: 4.4921e-06\n",
      "Epoch 399/500\n",
      "6/6 [==============================] - 0s 558us/sample - loss: 4.3996e-06\n",
      "Epoch 400/500\n",
      "6/6 [==============================] - 0s 755us/sample - loss: 4.3093e-06\n",
      "Epoch 401/500\n",
      "6/6 [==============================] - 0s 670us/sample - loss: 4.2210e-06\n",
      "Epoch 402/500\n",
      "6/6 [==============================] - 0s 660us/sample - loss: 4.1344e-06\n",
      "Epoch 403/500\n",
      "6/6 [==============================] - 0s 500us/sample - loss: 4.0496e-06\n",
      "Epoch 404/500\n",
      "6/6 [==============================] - 0s 498us/sample - loss: 3.9663e-06\n",
      "Epoch 405/500\n",
      "6/6 [==============================] - 0s 664us/sample - loss: 3.8848e-06\n",
      "Epoch 406/500\n",
      "6/6 [==============================] - 0s 1ms/sample - loss: 3.8050e-06\n",
      "Epoch 407/500\n",
      "6/6 [==============================] - 0s 595us/sample - loss: 3.7268e-06\n",
      "Epoch 408/500\n",
      "6/6 [==============================] - 0s 499us/sample - loss: 3.6502e-06\n",
      "Epoch 409/500\n",
      "6/6 [==============================] - 0s 626us/sample - loss: 3.5756e-06\n",
      "Epoch 410/500\n",
      "6/6 [==============================] - 0s 380us/sample - loss: 3.5020e-06\n",
      "Epoch 411/500\n",
      "6/6 [==============================] - 0s 954us/sample - loss: 3.4299e-06\n",
      "Epoch 412/500\n",
      "6/6 [==============================] - 0s 830us/sample - loss: 3.3597e-06\n",
      "Epoch 413/500\n",
      "6/6 [==============================] - 0s 666us/sample - loss: 3.2906e-06\n",
      "Epoch 414/500\n",
      "6/6 [==============================] - 0s 666us/sample - loss: 3.2229e-06\n",
      "Epoch 415/500\n",
      "6/6 [==============================] - 0s 663us/sample - loss: 3.1569e-06\n",
      "Epoch 416/500\n",
      "6/6 [==============================] - 0s 498us/sample - loss: 3.0917e-06\n",
      "Epoch 417/500\n",
      "6/6 [==============================] - 0s 985us/sample - loss: 3.0283e-06\n",
      "Epoch 418/500\n",
      "6/6 [==============================] - 0s 498us/sample - loss: 2.9661e-06\n",
      "Epoch 419/500\n",
      "6/6 [==============================] - 0s 665us/sample - loss: 2.9050e-06\n",
      "Epoch 420/500\n",
      "6/6 [==============================] - 0s 831us/sample - loss: 2.8458e-06\n",
      "Epoch 421/500\n",
      "6/6 [==============================] - 0s 497us/sample - loss: 2.7873e-06\n",
      "Epoch 422/500\n",
      "6/6 [==============================] - 0s 499us/sample - loss: 2.7299e-06\n",
      "Epoch 423/500\n",
      "6/6 [==============================] - 0s 651us/sample - loss: 2.6738e-06\n",
      "Epoch 424/500\n",
      "6/6 [==============================] - 0s 436us/sample - loss: 2.6191e-06\n",
      "Epoch 425/500\n",
      "6/6 [==============================] - 0s 504us/sample - loss: 2.5652e-06\n",
      "Epoch 426/500\n",
      "6/6 [==============================] - 0s 661us/sample - loss: 2.5123e-06\n",
      "Epoch 427/500\n",
      "6/6 [==============================] - 0s 848us/sample - loss: 2.4608e-06\n",
      "Epoch 428/500\n",
      "6/6 [==============================] - 0s 685us/sample - loss: 2.4104e-06\n",
      "Epoch 429/500\n",
      "6/6 [==============================] - 0s 588us/sample - loss: 2.3607e-06\n",
      "Epoch 430/500\n",
      "6/6 [==============================] - 0s 499us/sample - loss: 2.3123e-06\n",
      "Epoch 431/500\n",
      "6/6 [==============================] - 0s 499us/sample - loss: 2.2647e-06\n",
      "Epoch 432/500\n",
      "6/6 [==============================] - 0s 649us/sample - loss: 2.2181e-06\n",
      "Epoch 433/500\n",
      "6/6 [==============================] - 0s 499us/sample - loss: 2.1724e-06\n",
      "Epoch 434/500\n",
      "6/6 [==============================] - 0s 686us/sample - loss: 2.1280e-06\n",
      "Epoch 435/500\n",
      "6/6 [==============================] - 0s 683us/sample - loss: 2.0842e-06\n",
      "Epoch 436/500\n",
      "6/6 [==============================] - 0s 777us/sample - loss: 2.0411e-06\n",
      "Epoch 437/500\n",
      "6/6 [==============================] - 0s 697us/sample - loss: 1.9993e-06\n",
      "Epoch 438/500\n",
      "6/6 [==============================] - 0s 499us/sample - loss: 1.9586e-06\n",
      "Epoch 439/500\n",
      "6/6 [==============================] - 0s 659us/sample - loss: 1.9182e-06\n",
      "Epoch 440/500\n",
      "6/6 [==============================] - 0s 741us/sample - loss: 1.8789e-06\n",
      "Epoch 441/500\n",
      "6/6 [==============================] - 0s 1ms/sample - loss: 1.8403e-06\n",
      "Epoch 442/500\n",
      "6/6 [==============================] - 0s 655us/sample - loss: 1.8024e-06\n",
      "Epoch 443/500\n",
      "6/6 [==============================] - 0s 504us/sample - loss: 1.7652e-06\n",
      "Epoch 444/500\n",
      "6/6 [==============================] - 0s 500us/sample - loss: 1.7291e-06\n",
      "Epoch 445/500\n",
      "6/6 [==============================] - 0s 529us/sample - loss: 1.6933e-06\n",
      "Epoch 446/500\n",
      "6/6 [==============================] - 0s 1ms/sample - loss: 1.6588e-06\n",
      "Epoch 447/500\n",
      "6/6 [==============================] - 0s 514us/sample - loss: 1.6247e-06\n",
      "Epoch 448/500\n",
      "6/6 [==============================] - 0s 498us/sample - loss: 1.5912e-06\n",
      "Epoch 449/500\n",
      "6/6 [==============================] - 0s 509us/sample - loss: 1.5587e-06\n",
      "Epoch 450/500\n",
      "6/6 [==============================] - 0s 677us/sample - loss: 1.5266e-06\n",
      "Epoch 451/500\n",
      "6/6 [==============================] - 0s 512us/sample - loss: 1.4951e-06\n",
      "Epoch 452/500\n",
      "6/6 [==============================] - 0s 499us/sample - loss: 1.4645e-06\n",
      "Epoch 453/500\n",
      "6/6 [==============================] - 0s 832us/sample - loss: 1.4342e-06\n",
      "Epoch 454/500\n",
      "6/6 [==============================] - 0s 830us/sample - loss: 1.4051e-06\n",
      "Epoch 455/500\n",
      "6/6 [==============================] - 0s 664us/sample - loss: 1.3762e-06\n",
      "Epoch 456/500\n",
      "6/6 [==============================] - 0s 682us/sample - loss: 1.3476e-06\n",
      "Epoch 457/500\n",
      "6/6 [==============================] - 0s 673us/sample - loss: 1.3202e-06\n",
      "Epoch 458/500\n",
      "6/6 [==============================] - 0s 656us/sample - loss: 1.2931e-06\n",
      "Epoch 459/500\n",
      "6/6 [==============================] - 0s 681us/sample - loss: 1.2665e-06\n",
      "Epoch 460/500\n",
      "6/6 [==============================] - 0s 685us/sample - loss: 1.2404e-06\n",
      "Epoch 461/500\n",
      "6/6 [==============================] - 0s 831us/sample - loss: 1.2149e-06\n",
      "Epoch 462/500\n",
      "6/6 [==============================] - 0s 592us/sample - loss: 1.1900e-06\n",
      "Epoch 463/500\n",
      "6/6 [==============================] - 0s 831us/sample - loss: 1.1654e-06\n",
      "Epoch 464/500\n",
      "6/6 [==============================] - 0s 994us/sample - loss: 1.1415e-06\n",
      "Epoch 465/500\n",
      "6/6 [==============================] - 0s 669us/sample - loss: 1.1180e-06\n",
      "Epoch 466/500\n",
      "6/6 [==============================] - 0s 665us/sample - loss: 1.0949e-06\n",
      "Epoch 467/500\n",
      "6/6 [==============================] - 0s 832us/sample - loss: 1.0725e-06\n",
      "Epoch 468/500\n",
      "6/6 [==============================] - 0s 562us/sample - loss: 1.0505e-06\n",
      "Epoch 469/500\n",
      "6/6 [==============================] - 0s 659us/sample - loss: 1.0290e-06\n",
      "Epoch 470/500\n",
      "6/6 [==============================] - 0s 665us/sample - loss: 1.0079e-06\n",
      "Epoch 471/500\n",
      "6/6 [==============================] - 0s 697us/sample - loss: 9.8704e-07\n",
      "Epoch 472/500\n",
      "6/6 [==============================] - 0s 664us/sample - loss: 9.6680e-07\n",
      "Epoch 473/500\n",
      "6/6 [==============================] - 0s 545us/sample - loss: 9.4697e-07\n",
      "Epoch 474/500\n",
      "6/6 [==============================] - 0s 499us/sample - loss: 9.2757e-07\n",
      "Epoch 475/500\n",
      "6/6 [==============================] - 0s 499us/sample - loss: 9.0853e-07\n",
      "Epoch 476/500\n",
      "6/6 [==============================] - 0s 499us/sample - loss: 8.8974e-07\n"
     ]
    },
    {
     "name": "stdout",
     "output_type": "stream",
     "text": [
      "Epoch 477/500\n",
      "6/6 [==============================] - 0s 425us/sample - loss: 8.7149e-07\n",
      "Epoch 478/500\n",
      "6/6 [==============================] - 0s 481us/sample - loss: 8.5385e-07\n",
      "Epoch 479/500\n",
      "6/6 [==============================] - 0s 322us/sample - loss: 8.3626e-07\n",
      "Epoch 480/500\n",
      "6/6 [==============================] - 0s 499us/sample - loss: 8.1897e-07\n",
      "Epoch 481/500\n",
      "6/6 [==============================] - 0s 499us/sample - loss: 8.0209e-07\n",
      "Epoch 482/500\n",
      "6/6 [==============================] - 0s 515us/sample - loss: 7.8565e-07\n",
      "Epoch 483/500\n",
      "6/6 [==============================] - 0s 494us/sample - loss: 7.6960e-07\n",
      "Epoch 484/500\n",
      "6/6 [==============================] - 0s 498us/sample - loss: 7.5382e-07\n",
      "Epoch 485/500\n",
      "6/6 [==============================] - 0s 505us/sample - loss: 7.3825e-07\n",
      "Epoch 486/500\n",
      "6/6 [==============================] - 0s 811us/sample - loss: 7.2318e-07\n",
      "Epoch 487/500\n",
      "6/6 [==============================] - 0s 482us/sample - loss: 7.0827e-07\n",
      "Epoch 488/500\n",
      "6/6 [==============================] - 0s 665us/sample - loss: 6.9374e-07\n",
      "Epoch 489/500\n",
      "6/6 [==============================] - 0s 332us/sample - loss: 6.7948e-07\n",
      "Epoch 490/500\n",
      "6/6 [==============================] - 0s 471us/sample - loss: 6.6560e-07\n",
      "Epoch 491/500\n",
      "6/6 [==============================] - 0s 589us/sample - loss: 6.5195e-07\n",
      "Epoch 492/500\n",
      "6/6 [==============================] - 0s 499us/sample - loss: 6.3857e-07\n",
      "Epoch 493/500\n",
      "6/6 [==============================] - 0s 499us/sample - loss: 6.2537e-07\n",
      "Epoch 494/500\n",
      "6/6 [==============================] - 0s 665us/sample - loss: 6.1241e-07\n",
      "Epoch 495/500\n",
      "6/6 [==============================] - 0s 541us/sample - loss: 6.0002e-07\n",
      "Epoch 496/500\n",
      "6/6 [==============================] - 0s 499us/sample - loss: 5.8763e-07\n",
      "Epoch 497/500\n",
      "6/6 [==============================] - 0s 367us/sample - loss: 5.7556e-07\n",
      "Epoch 498/500\n",
      "6/6 [==============================] - 0s 508us/sample - loss: 5.6382e-07\n",
      "Epoch 499/500\n",
      "6/6 [==============================] - 0s 1ms/sample - loss: 5.5209e-07\n",
      "Epoch 500/500\n",
      "6/6 [==============================] - 0s 499us/sample - loss: 5.4080e-07\n"
     ]
    },
    {
     "data": {
      "text/plain": [
       "<tensorflow.python.keras.callbacks.History at 0x2ab21d33d08>"
      ]
     },
     "execution_count": 84,
     "metadata": {},
     "output_type": "execute_result"
    }
   ],
   "source": [
    "model.fit(x,y,epochs=500)"
   ]
  },
  {
   "cell_type": "code",
   "execution_count": 88,
   "metadata": {},
   "outputs": [
    {
     "data": {
      "text/plain": [
       "array([[301.03012]], dtype=float32)"
      ]
     },
     "execution_count": 88,
     "metadata": {},
     "output_type": "execute_result"
    }
   ],
   "source": [
    "#y=3x+1\n",
    "model.predict([100.0])"
   ]
  },
  {
   "cell_type": "code",
   "execution_count": 90,
   "metadata": {},
   "outputs": [],
   "source": [
    "model.save('pred.h5')"
   ]
  },
  {
   "cell_type": "code",
   "execution_count": 91,
   "metadata": {},
   "outputs": [],
   "source": [
    "mymodel=keras.models.load_model('pred.h5')"
   ]
  },
  {
   "cell_type": "code",
   "execution_count": 92,
   "metadata": {},
   "outputs": [
    {
     "name": "stdout",
     "output_type": "stream",
     "text": [
      "Model: \"sequential_2\"\n",
      "_________________________________________________________________\n",
      "Layer (type)                 Output Shape              Param #   \n",
      "=================================================================\n",
      "dense_2 (Dense)              (None, 1)                 2         \n",
      "=================================================================\n",
      "Total params: 2\n",
      "Trainable params: 2\n",
      "Non-trainable params: 0\n",
      "_________________________________________________________________\n"
     ]
    }
   ],
   "source": [
    "mymodel.summary()"
   ]
  },
  {
   "cell_type": "code",
   "execution_count": null,
   "metadata": {},
   "outputs": [],
   "source": []
  }
 ],
 "metadata": {
  "kernelspec": {
   "display_name": "Python 3",
   "language": "python",
   "name": "python3"
  },
  "language_info": {
   "codemirror_mode": {
    "name": "ipython",
    "version": 3
   },
   "file_extension": ".py",
   "mimetype": "text/x-python",
   "name": "python",
   "nbconvert_exporter": "python",
   "pygments_lexer": "ipython3",
   "version": "3.7.4"
  }
 },
 "nbformat": 4,
 "nbformat_minor": 4
}
